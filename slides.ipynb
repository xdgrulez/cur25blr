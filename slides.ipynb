{
 "cells": [
  {
   "cell_type": "markdown",
   "metadata": {},
   "source": [
    "# Kafi: Kafka Superpowers for Your Jupyter Notebook and Python\n",
    "<img src=\"pix/kafka.jpg\" style=\"width: 33%; height: 33%\"/>\n",
    "<img src=\"pix/jupyter.jpg\" style=\"width: 33%; height: 33%\"/>\n",
    "\n",
    "### Ralph Debusmann\n",
    "##### `ralph.debusmann@mgb.ch`\n",
    "\n",
    "<img src=\"pix/migros.png\" style=\"width: 20%; height: 20%\"/>\n"
   ]
  },
  {
   "cell_type": "markdown",
   "metadata": {},
   "source": [
    "# Agenda\n",
    "\n",
    "* Part I: The Birth of Kafi\n",
    "\n",
    "* Part II: Three Paradigms for Using Kafi\n",
    "  * Shell/Python interpreter\n",
    "  * Juypter Notebooks\n",
    "  * Code (Microservices, FaaS, Agents...)\n",
    "\n",
    "* Part III: Use Cases for Kafi\n",
    "  * Kafka Administration\n",
    "  * Schema Registry Administration\n",
    "  * Kafka Backups incl. Kafka Emulation\n",
    "  * Simple Stream Processing\n",
    "  * Kafka via REST Proxy\n",
    "  * Building a Bridge from Kafka to Pandas Dataframes and Files"
   ]
  },
  {
   "cell_type": "markdown",
   "metadata": {},
   "source": [
    "# Part I: The Birth of Kafi\n"
   ]
  },
  {
   "cell_type": "markdown",
   "metadata": {},
   "source": [
    "<img src=\"pix/birth.jpg\" style=\"width: 35%; height: 35%\"/>\n"
   ]
  },
  {
   "cell_type": "markdown",
   "metadata": {},
   "source": [
    "What happens if you would just like to create a topic on Kafka, list topics, produce some messages, or consume some messages, or search for messages?"
   ]
  },
  {
   "cell_type": "markdown",
   "metadata": {},
   "source": [
    "The answer is often:\n",
    "* kafkacat/kcat\n",
    "* standard Kafka commandline tools (kafka-console-producer, kafka-console-consumer...)\n"
   ]
  },
  {
   "cell_type": "markdown",
   "metadata": {},
   "source": [
    "It works...for a long time indeed. But how?"
   ]
  },
  {
   "cell_type": "markdown",
   "metadata": {},
   "source": [
    "## Still the State-of-the-Art Developer Experience"
   ]
  },
  {
   "cell_type": "markdown",
   "metadata": {},
   "source": [
    "### List Topics"
   ]
  },
  {
   "cell_type": "markdown",
   "metadata": {},
   "source": [
    "```\n",
    "kcat -b localhost:9092 -L\n",
    "```\n"
   ]
  },
  {
   "cell_type": "markdown",
   "metadata": {},
   "source": [
    "```\n",
    "kafka-topics --bootstrap-server localhost:9092 --list\n",
    "```"
   ]
  },
  {
   "cell_type": "markdown",
   "metadata": {},
   "source": [
    "### Create Topics"
   ]
  },
  {
   "cell_type": "markdown",
   "metadata": {},
   "source": [
    "(not possible with kcat)\n"
   ]
  },
  {
   "cell_type": "markdown",
   "metadata": {},
   "source": [
    "```\n",
    "kafka-topics --bootstrap-server localhost:9092 --topic topic_json1 --create\n",
    "```\n"
   ]
  },
  {
   "cell_type": "markdown",
   "metadata": {},
   "source": [
    "### Produce Messages"
   ]
  },
  {
   "cell_type": "markdown",
   "metadata": {},
   "source": [
    "```\n",
    "kcat -b localhost:9092 -t topic_json1 -P -K ,\n",
    "\n",
    "123,{\"bla\":123}\n",
    "456,{\"bla\":456}\n",
    "789,{\"bla\":789}\n",
    "```\n"
   ]
  },
  {
   "cell_type": "markdown",
   "metadata": {},
   "source": [
    "```\n",
    "kafka-console-producer --bootstrap-server localhost:9092 --topic topic_json1 --property parse.key=true --property key.separator=','\n",
    "\n",
    "123,{\"bla\":123}\n",
    "456,{\"bla\":456}\n",
    "789,{\"bla\":789}\n",
    "```\n"
   ]
  },
  {
   "cell_type": "markdown",
   "metadata": {},
   "source": [
    "### Produce Messages Using a Schema"
   ]
  },
  {
   "cell_type": "markdown",
   "metadata": {},
   "source": [
    "(not even possible with kcat...)"
   ]
  },
  {
   "cell_type": "markdown",
   "metadata": {},
   "source": [
    "```\n",
    "kafka-avro-console-producer --bootstrap-server localhost:9092 --topic topic_avro1 --property schema.registry.url=http://localhost:8081 --property key.serializer=org.apache.kafka.common.serialization.StringSerializer --property value.schema='{\"type\":\"record\",\"name\":\"myrecord\",\"fields\":[{\"name\":\"bla\",\"type\":\"int\"}]}' --property parse.key=true --property key.separator=','\n",
    "\n",
    "123,{\"bla\": 123}\n",
    "456,{\"bla\": 456}\n",
    "789,{\"bla\": 789}\n",
    "```\n"
   ]
  },
  {
   "cell_type": "markdown",
   "metadata": {},
   "source": [
    "### Consume Messages"
   ]
  },
  {
   "cell_type": "markdown",
   "metadata": {},
   "source": [
    "```\n",
    "kcat -b localhost:9092 -t topic_json1 -C -o beginning -e -K ,\n",
    "```\n"
   ]
  },
  {
   "cell_type": "markdown",
   "metadata": {},
   "source": [
    "```\n",
    "kafka-console-consumer --bootstrap-server localhost:9092 --topic topic_json1 --property print.key=true --from-beginning\n",
    "```"
   ]
  },
  {
   "cell_type": "markdown",
   "metadata": {},
   "source": [
    "### Search Messages"
   ]
  },
  {
   "cell_type": "markdown",
   "metadata": {},
   "source": [
    "```\n",
    "kcat -b localhost:9092 -t topic_json1 -C -o beginning -e | grep 456\n",
    "```\n"
   ]
  },
  {
   "cell_type": "markdown",
   "metadata": {},
   "source": [
    "```\n",
    "kafka-console-consumer --bootstrap-server localhost:9092 --topic topic_json1 --from-beginning | grep 456\n",
    "```"
   ]
  },
  {
   "cell_type": "markdown",
   "metadata": {},
   "source": [
    "## Can't We Do Better?"
   ]
  },
  {
   "cell_type": "markdown",
   "metadata": {},
   "source": [
    "I developed Kafi because I was frustrated with kcat and the standard Kafka commandline tools. Not by another commandline tool, but by building a Python module (=library) wrapped around Confluent's Python client for Kafka, confluent_kafka.\n",
    "\n",
    "Regardless of whether you use Kafi in your shell or in a Jupyter notebook, you have a similar experience. And your life gets so much better. I promise.\n"
   ]
  },
  {
   "cell_type": "markdown",
   "metadata": {},
   "source": [
    "Because Kafi is a Python module, you first need to import it. Then, you create a Cluster object `c` reading from a configuration file:\n",
    "\n",
    "```\n",
    "from kafi.kafi import *\n",
    "c = Cluster(\"local\")\n",
    "```\n",
    "\n",
    "Then...this is how you can list topics, create topics, produce messages, consume messages or search for messages with Kafi.\n"
   ]
  },
  {
   "cell_type": "markdown",
   "metadata": {},
   "source": [
    "### List Topics"
   ]
  },
  {
   "cell_type": "markdown",
   "metadata": {},
   "source": [
    "```\n",
    "c.ls()\n",
    "```"
   ]
  },
  {
   "cell_type": "markdown",
   "metadata": {},
   "source": [
    "Many commands also support wildcards, so like in a shell, you can do e.g.:\n",
    "```\n",
    "c.ls(\"*off*\")\n",
    "```"
   ]
  },
  {
   "cell_type": "markdown",
   "metadata": {},
   "source": [
    "### Create Topics"
   ]
  },
  {
   "cell_type": "markdown",
   "metadata": {},
   "source": [
    "```\n",
    "c.touch(\"topic_json2\")\n",
    "```"
   ]
  },
  {
   "cell_type": "markdown",
   "metadata": {},
   "source": [
    "### Produce Messages"
   ]
  },
  {
   "cell_type": "markdown",
   "metadata": {},
   "source": [
    "```\n",
    "pr = c.producer(\"topic_json2\")\n",
    "pr.produce({\"bla\": 123}, key=\"123\")\n",
    "pr.produce({\"bla\": 456}, key=\"456\")\n",
    "pr.produce({\"bla\": 789}, key=\"789\")\n",
    "pr.close()\n",
    "```"
   ]
  },
  {
   "cell_type": "markdown",
   "metadata": {},
   "source": [
    "### Produce Messages Using a Schema"
   ]
  },
  {
   "cell_type": "markdown",
   "metadata": {},
   "source": [
    "```\n",
    "t = \"topic_avro2\"\n",
    "vs = '{\"type\":\"record\",\"name\":\"myrecord\",\"fields\":[{\"name\":\"bla\",\"type\":\"int\"}]}'\n",
    "\n",
    "pr = c.producer(t, value_type=\"avro\", value_schema=vs)\n",
    "pr.produce({\"bla\": 123}, key=\"123\")\n",
    "pr.produce({\"bla\": 456}, key=\"456\")\n",
    "pr.produce({\"bla\": 789}, key=\"789\")\n",
    "pr.close()\n",
    "```\n"
   ]
  },
  {
   "cell_type": "markdown",
   "metadata": {},
   "source": [
    "### Consume Messages"
   ]
  },
  {
   "cell_type": "markdown",
   "metadata": {},
   "source": [
    "```\n",
    "c.cat(\"topic_json2\")\n",
    "```"
   ]
  },
  {
   "cell_type": "markdown",
   "metadata": {},
   "source": [
    "or...\n",
    "\n",
    "```\n",
    "c.cat(\"topic_avro2\")\n",
    "```\n",
    "\n",
    "ok, it's Avro...\n",
    "\n",
    "```\n",
    "c.cat(\"topic_avro2\", value_type=\"avro\")\n",
    "```\n"
   ]
  },
  {
   "cell_type": "markdown",
   "metadata": {},
   "source": [
    "### Configuration\n",
    "\n"
   ]
  },
  {
   "cell_type": "markdown",
   "metadata": {},
   "source": [
    "Kafi supports the full range of configuration options of Confluent's Python client. This is, for example, the simple configuration file to connect to a local Kafka cluster that we used in our first steps with Kafi before:\n",
    "\n",
    "```\n",
    "kafka:\n",
    "  bootstrap.servers: localhost:9092\n",
    "\n",
    "schema_registry:\n",
    "  schema.registry.url: http://localhost:8081\n",
    "```\n"
   ]
  },
  {
   "cell_type": "markdown",
   "metadata": {},
   "source": [
    "...and this is a configuration file for connecting to Confluent Cloud:\n",
    "\n",
    "```\n",
    "kafka:\n",
    "  bootstrap.servers: ${KAFI_KAFKA_SERVER}\n",
    "  security.protocol: SASL_SSL\n",
    "  sasl.mechanisms: PLAIN\n",
    "  sasl.username: ${KAFI_KAFKA_USERNAME}\n",
    "  sasl.password: ${KAFI_KAFKA_PASSWORD}\n",
    "  \n",
    "schema_registry:\n",
    "  schema.registry.url: ${KAFI_SCHEMA_REGISTRY_URL}\n",
    "  basic.auth.credentials.source: USER_INFO\n",
    "  basic.auth.user.info: ${KAFI_SCHEMA_REGISTRY_USER_INFO}\n",
    "```\n",
    "\n",
    "There are many other configuration options to fine-tune your cluster connection and to override Kafi's \"common sense\" defaults (e.g. setting the `auto.offset.reset` to `earliest`). These defaults are one of the building blocks responsible for making it so convenient to use."
   ]
  },
  {
   "cell_type": "markdown",
   "metadata": {},
   "source": [
    "# Part II: Three Paradigms for Using Kafi"
   ]
  },
  {
   "cell_type": "markdown",
   "metadata": {},
   "source": [
    "<img src=\"pix/paradigms.jpg\" style=\"width: 35%; height: 35%\"/>\n"
   ]
  },
  {
   "cell_type": "markdown",
   "metadata": {},
   "source": [
    "Wait, this talk is titled \"Kafka Superpowers for Your Jupyter Notebook and Python\". So where is Kafi in the Jupyter notebook? Ok, here, but that's not what you probably ask yourselves... so far, we just used in the Python interpreter in the shell...\n",
    "\n",
    "There are actually three main paradigms for using Kafi."
   ]
  },
  {
   "cell_type": "markdown",
   "metadata": {},
   "source": [
    "## Shell/Python Interpreter"
   ]
  },
  {
   "cell_type": "markdown",
   "metadata": {},
   "source": [
    "The first is in your shell using the Python interpreter, like we did in Part I above. That gives you a user/developer experience similar to bash/zsh + kcat or the standard Kafka commandline tools."
   ]
  },
  {
   "cell_type": "markdown",
   "metadata": {},
   "source": [
    "## Code (Microservices, FaaS, Agents...)"
   ]
  },
  {
   "cell_type": "markdown",
   "metadata": {},
   "source": [
    "As Kafi is just a Python module, it is also super useful to use in your Python code. Either for smaller scripts, or even for building microservices, FaaS-functions, or agents (put in a pinch of llamaindex agents for example)."
   ]
  },
  {
   "cell_type": "markdown",
   "metadata": {},
   "source": [
    "## Jupyter Notebooks"
   ]
  },
  {
   "cell_type": "markdown",
   "metadata": {},
   "source": [
    "Now finally to them. You will see soon in Part III that Jupyter notebooks are a very convenient and powerful paradigm of using Kafi, especially for Python/Jupyter afficionados like Data Scientists etc.\n",
    "\n",
    "But... using Kafi in a Jupyter notebook is actually also very convenient and powerful for Kafka administrators or developers! You'll see."
   ]
  },
  {
   "cell_type": "markdown",
   "metadata": {},
   "source": [
    "# Part III: Use Cases for Kafi\n"
   ]
  },
  {
   "cell_type": "markdown",
   "metadata": {},
   "source": [
    "<img src=\"pix/use_cases.jpg\" style=\"width: 35%; height: 35%\"/>\n"
   ]
  },
  {
   "cell_type": "markdown",
   "metadata": {},
   "source": [
    "## Kafka Administration"
   ]
  },
  {
   "cell_type": "markdown",
   "metadata": {},
   "source": [
    "We covered a bit of that already when we compared Kafi to kcat/the standard Kafka commandline tools. So let's start again by importing Kafi and connecting to our local Kafka cluster, and a Confluent Cloud cluster for good measure."
   ]
  },
  {
   "cell_type": "code",
   "execution_count": 1,
   "metadata": {},
   "outputs": [],
   "source": [
    "from kafi.kafi import *\n",
    "cl = Cluster(\"local\")\n",
    "cc = Cluster(\"ccloud\")"
   ]
  },
  {
   "cell_type": "markdown",
   "metadata": {},
   "source": [
    "### Brokers"
   ]
  },
  {
   "cell_type": "markdown",
   "metadata": {},
   "source": [
    "A basic administration task is to show the brokers of your Kafka cluster. So let's view the brokers of our local Kafka cluster first."
   ]
  },
  {
   "cell_type": "code",
   "execution_count": 2,
   "metadata": {},
   "outputs": [
    {
     "data": {
      "text/plain": [
       "{1: 'localhost:9092'}"
      ]
     },
     "execution_count": 2,
     "metadata": {},
     "output_type": "execute_result"
    }
   ],
   "source": [
    "cl.brokers()"
   ]
  },
  {
   "cell_type": "markdown",
   "metadata": {},
   "source": [
    "Interesting, now for our Confluent Cloud Basic Cluster..."
   ]
  },
  {
   "cell_type": "code",
   "execution_count": 3,
   "metadata": {},
   "outputs": [
    {
     "data": {
      "text/plain": [
       "{0: 'b0-pkc-ewzgj.europe-west4.gcp.confluent.cloud:9092',\n",
       " 1: 'b1-pkc-ewzgj.europe-west4.gcp.confluent.cloud:9092',\n",
       " 2: 'b2-pkc-ewzgj.europe-west4.gcp.confluent.cloud:9092',\n",
       " 3: 'b3-pkc-ewzgj.europe-west4.gcp.confluent.cloud:9092',\n",
       " 4: 'b4-pkc-ewzgj.europe-west4.gcp.confluent.cloud:9092',\n",
       " 5: 'b5-pkc-ewzgj.europe-west4.gcp.confluent.cloud:9092',\n",
       " 6: 'b6-pkc-ewzgj.europe-west4.gcp.confluent.cloud:9092',\n",
       " 7: 'b7-pkc-ewzgj.europe-west4.gcp.confluent.cloud:9092',\n",
       " 8: 'b8-pkc-ewzgj.europe-west4.gcp.confluent.cloud:9092',\n",
       " 9: 'b9-pkc-ewzgj.europe-west4.gcp.confluent.cloud:9092',\n",
       " 10: 'b10-pkc-ewzgj.europe-west4.gcp.confluent.cloud:9092',\n",
       " 11: 'b11-pkc-ewzgj.europe-west4.gcp.confluent.cloud:9092'}"
      ]
     },
     "execution_count": 3,
     "metadata": {},
     "output_type": "execute_result"
    }
   ],
   "source": [
    "cc.brokers()"
   ]
  },
  {
   "cell_type": "markdown",
   "metadata": {},
   "source": [
    "How about the broker configs?"
   ]
  },
  {
   "cell_type": "code",
   "execution_count": 4,
   "metadata": {},
   "outputs": [
    {
     "data": {
      "text/plain": [
       "{1: {'log.cleaner.min.compaction.lag.ms': '0',\n",
       "  'offsets.topic.num.partitions': '50',\n",
       "  'sasl.oauthbearer.jwks.endpoint.refresh.ms': '3600000',\n",
       "  'remote.log.metadata.manager.listener.name': None,\n",
       "  'log.flush.interval.messages': '9223372036854775807',\n",
       "  'controller.socket.timeout.ms': '30000',\n",
       "  'principal.builder.class': 'org.apache.kafka.common.security.authenticator.DefaultKafkaPrincipalBuilder',\n",
       "  'log.flush.interval.ms': None,\n",
       "  'controller.quorum.request.timeout.ms': '2000',\n",
       "  'sasl.oauthbearer.expected.audience': None,\n",
       "  'min.insync.replicas': '1',\n",
       "  'remote.log.manager.thread.pool.size': '10',\n",
       "  'group.consumer.max.session.timeout.ms': '60000',\n",
       "  'num.recovery.threads.per.data.dir': '1',\n",
       "  'ssl.keystore.type': 'JKS',\n",
       "  'zookeeper.ssl.protocol': 'TLSv1.2',\n",
       "  'controller.quorum.bootstrap.servers': '',\n",
       "  'sasl.mechanism.inter.broker.protocol': 'GSSAPI',\n",
       "  'group.share.record.lock.duration.ms': '30000',\n",
       "  'metadata.log.segment.bytes': '1073741824',\n",
       "  'fetch.purgatory.purge.interval.requests': '1000',\n",
       "  'ssl.endpoint.identification.algorithm': 'https',\n",
       "  'zookeeper.ssl.keystore.location': None,\n",
       "  'replica.socket.timeout.ms': '30000',\n",
       "  'message.max.bytes': '1048588',\n",
       "  'remote.log.manager.fetch.max.bytes.per.second': '9223372036854775807',\n",
       "  'group.share.session.timeout.ms': '45000',\n",
       "  'max.connection.creation.rate': '2147483647',\n",
       "  'connections.max.reauth.ms': '0',\n",
       "  'remote.log.manager.copy.quota.window.size.seconds': '1',\n",
       "  'log.flush.offset.checkpoint.interval.ms': '60000',\n",
       "  'zookeeper.clientCnxnSocket': None,\n",
       "  'zookeeper.ssl.client.enable': 'false',\n",
       "  'quota.window.num': '11',\n",
       "  'sasl.oauthbearer.clock.skew.seconds': '30',\n",
       "  'group.consumer.min.session.timeout.ms': '45000',\n",
       "  'zookeeper.connect': '',\n",
       "  'authorizer.class.name': '',\n",
       "  'password.encoder.secret': None,\n",
       "  'num.replica.fetchers': '1',\n",
       "  'alter.log.dirs.replication.quota.window.size.seconds': '1',\n",
       "  'sasl.oauthbearer.jwks.endpoint.url': None,\n",
       "  'remote.log.metadata.custom.metadata.max.bytes': '128',\n",
       "  'auto.include.jmx.reporter': 'true',\n",
       "  'log.roll.jitter.hours': '0',\n",
       "  'telemetry.max.bytes': '1048576',\n",
       "  'password.encoder.old.secret': None,\n",
       "  'log.cleaner.delete.retention.ms': '86400000',\n",
       "  'sasl.login.retry.backoff.ms': '100',\n",
       "  'queued.max.requests': '500',\n",
       "  'log.cleaner.threads': '1',\n",
       "  'sasl.kerberos.service.name': None,\n",
       "  'socket.request.max.bytes': '104857600',\n",
       "  'group.consumer.max.size': '2147483647',\n",
       "  'group.consumer.assignors': 'org.apache.kafka.coordinator.group.assignor.UniformAssignor,org.apache.kafka.coordinator.group.assignor.RangeAssignor',\n",
       "  'remote.log.storage.system.enable': 'false',\n",
       "  'log.message.timestamp.type': 'CreateTime',\n",
       "  'zookeeper.ssl.keystore.type': None,\n",
       "  'connections.max.idle.ms': '600000',\n",
       "  'zookeeper.set.acl': 'false',\n",
       "  'delegation.token.expiry.time.ms': '86400000',\n",
       "  'max.connections': '2147483647',\n",
       "  'transaction.state.log.num.partitions': '50',\n",
       "  'controller.quorum.election.timeout.ms': '1000',\n",
       "  'listener.security.protocol.map': 'CONTROLLER:PLAINTEXT,PLAINTEXT:PLAINTEXT,PLAINTEXT_HOST:PLAINTEXT',\n",
       "  'log.retention.hours': '168',\n",
       "  'client.quota.callback.class': None,\n",
       "  'remote.log.storage.manager.impl.prefix': 'rsm.config.',\n",
       "  'ssl.provider': None,\n",
       "  'delete.records.purgatory.purge.interval.requests': '1',\n",
       "  'producer.id.expiration.ms': '86400000',\n",
       "  'log.roll.ms': None,\n",
       "  'ssl.cipher.suites': '',\n",
       "  'controller.quorum.retry.backoff.ms': '20',\n",
       "  'remote.log.manager.copy.max.bytes.per.second': '9223372036854775807',\n",
       "  'zookeeper.ssl.keystore.password': None,\n",
       "  'broker.session.timeout.ms': '9000',\n",
       "  'security.inter.broker.protocol': 'PLAINTEXT',\n",
       "  'group.share.heartbeat.interval.ms': '5000',\n",
       "  'delegation.token.secret.key': None,\n",
       "  'remote.log.manager.fetch.quota.window.num': '11',\n",
       "  'remote.fetch.max.wait.ms': '500',\n",
       "  'node.id': '1',\n",
       "  'replica.high.watermark.checkpoint.interval.ms': '5000',\n",
       "  'replication.quota.window.size.seconds': '1',\n",
       "  'eligible.leader.replicas.enable': 'false',\n",
       "  'log.local.retention.ms': '-2',\n",
       "  'remote.log.reader.threads': '10',\n",
       "  'sasl.kerberos.ticket.renew.window.factor': '0.8',\n",
       "  'group.coordinator.threads': '1',\n",
       "  'zookeeper.connection.timeout.ms': None,\n",
       "  'metrics.recording.level': 'INFO',\n",
       "  'password.encoder.cipher.algorithm': 'AES/CBC/PKCS5Padding',\n",
       "  'log.dir.failure.timeout.ms': '30000',\n",
       "  'transaction.partition.verification.enable': 'true',\n",
       "  'group.share.min.heartbeat.interval.ms': '5000',\n",
       "  'ssl.principal.mapping.rules': 'DEFAULT',\n",
       "  'replica.selector.class': None,\n",
       "  'remote.log.manager.fetch.quota.window.size.seconds': '1',\n",
       "  'max.connections.per.ip': '2147483647',\n",
       "  'background.threads': '10',\n",
       "  'request.timeout.ms': '30000',\n",
       "  'log.message.format.version': '3.0-IV1',\n",
       "  'sasl.login.class': None,\n",
       "  'remote.log.index.file.cache.total.size.bytes': '1073741824',\n",
       "  'log.dir': '/tmp/kafka-logs',\n",
       "  'log.segment.bytes': '1073741824',\n",
       "  'replica.fetch.response.max.bytes': '10485760',\n",
       "  'group.consumer.heartbeat.interval.ms': '5000',\n",
       "  'group.max.session.timeout.ms': '1800000',\n",
       "  'controller.listener.names': 'CONTROLLER',\n",
       "  'log.message.timestamp.after.max.ms': '9223372036854775807',\n",
       "  'controller.quorum.append.linger.ms': '25',\n",
       "  'log.segment.delete.delay.ms': '60000',\n",
       "  'log.retention.minutes': None,\n",
       "  'log.dirs': '/tmp/kraft-combined-logs',\n",
       "  'controlled.shutdown.enable': 'true',\n",
       "  'early.start.listeners': None,\n",
       "  'log.message.timestamp.before.max.ms': '9223372036854775807',\n",
       "  'remote.log.manager.copier.thread.pool.size': '-1',\n",
       "  'socket.connection.setup.timeout.max.ms': '30000',\n",
       "  'log.message.timestamp.difference.max.ms': '9223372036854775807',\n",
       "  'sasl.oauthbearer.scope.claim.name': 'scope',\n",
       "  'password.encoder.key.length': '128',\n",
       "  'sasl.login.refresh.min.period.seconds': '60',\n",
       "  'sasl.oauthbearer.expected.issuer': None,\n",
       "  'sasl.login.read.timeout.ms': None,\n",
       "  'transaction.abort.timed.out.transaction.cleanup.interval.ms': '10000',\n",
       "  'sasl.kerberos.kinit.cmd': '/usr/bin/kinit',\n",
       "  'log.cleaner.io.max.bytes.per.second': '1.7976931348623157E308',\n",
       "  'auto.leader.rebalance.enable': 'true',\n",
       "  'leader.imbalance.check.interval.seconds': '300',\n",
       "  'log.cleaner.min.cleanable.ratio': '0.5',\n",
       "  'group.share.min.record.lock.duration.ms': '15000',\n",
       "  'replica.lag.time.max.ms': '30000',\n",
       "  'num.network.threads': '3',\n",
       "  'group.share.min.session.timeout.ms': '45000',\n",
       "  'ssl.keystore.key': None,\n",
       "  'sasl.client.callback.handler.class': None,\n",
       "  'compression.gzip.level': '-1',\n",
       "  'metrics.num.samples': '2',\n",
       "  'socket.send.buffer.bytes': '102400',\n",
       "  'group.coordinator.rebalance.protocols': 'classic',\n",
       "  'password.encoder.keyfactory.algorithm': None,\n",
       "  'remote.log.storage.manager.class.name': None,\n",
       "  'socket.receive.buffer.bytes': '102400',\n",
       "  'sasl.oauthbearer.sub.claim.name': 'sub',\n",
       "  'replica.fetch.min.bytes': '1',\n",
       "  'broker.rack': None,\n",
       "  'zookeeper.ssl.truststore.password': None,\n",
       "  'unclean.leader.election.enable': 'false',\n",
       "  'sasl.oauthbearer.jwks.endpoint.retry.backoff.ms': '100',\n",
       "  'offsets.retention.check.interval.ms': '600000',\n",
       "  'producer.purgatory.purge.interval.requests': '1000',\n",
       "  'controller.quorum.voters': '1@broker:29093',\n",
       "  'metrics.sample.window.ms': '30000',\n",
       "  'log.retention.check.interval.ms': '300000',\n",
       "  'group.consumer.session.timeout.ms': '45000',\n",
       "  'sasl.login.refresh.window.jitter': '0.05',\n",
       "  'leader.imbalance.per.broker.percentage': '10',\n",
       "  'controller.quota.window.num': '11',\n",
       "  'metric.reporters': '',\n",
       "  'sasl.oauthbearer.token.endpoint.url': None,\n",
       "  'auto.create.topics.enable': 'true',\n",
       "  'group.share.partition.max.record.locks': '200',\n",
       "  'ssl.engine.factory.class': None,\n",
       "  'replica.socket.receive.buffer.bytes': '65536',\n",
       "  'zookeeper.ssl.truststore.location': None,\n",
       "  'ssl.allow.dn.changes': 'false',\n",
       "  'replica.fetch.wait.max.ms': '500',\n",
       "  'password.encoder.iterations': '4096',\n",
       "  'group.consumer.min.heartbeat.interval.ms': '5000',\n",
       "  'default.replication.factor': '1',\n",
       "  'ssl.truststore.password': None,\n",
       "  'sasl.kerberos.principal.to.local.rules': 'DEFAULT',\n",
       "  'log.preallocate': 'false',\n",
       "  'remote.log.reader.max.pending.tasks': '100',\n",
       "  'transactional.id.expiration.ms': '604800000',\n",
       "  'control.plane.listener.name': None,\n",
       "  'transaction.state.log.replication.factor': '1',\n",
       "  'num.io.threads': '8',\n",
       "  'sasl.login.refresh.buffer.seconds': '300',\n",
       "  'group.share.max.heartbeat.interval.ms': '15000',\n",
       "  'offsets.commit.required.acks': '-1',\n",
       "  'connection.failed.authentication.delay.ms': '100',\n",
       "  'delete.topic.enable': 'true',\n",
       "  'quota.window.size.seconds': '1',\n",
       "  'ssl.truststore.type': 'JKS',\n",
       "  'offsets.commit.timeout.ms': '5000',\n",
       "  'zookeeper.ssl.ocsp.enable': 'false',\n",
       "  'broker.heartbeat.interval.ms': '2000',\n",
       "  'group.share.max.record.lock.duration.ms': '60000',\n",
       "  'sasl.mechanism.controller.protocol': 'GSSAPI',\n",
       "  'log.cleaner.max.compaction.lag.ms': '9223372036854775807',\n",
       "  'zookeeper.ssl.enabled.protocols': None,\n",
       "  'remote.log.storage.manager.class.path': None,\n",
       "  'log.retention.ms': None,\n",
       "  'alter.log.dirs.replication.quota.window.num': '11',\n",
       "  'log.cleaner.enable': 'true',\n",
       "  'controller.quorum.fetch.timeout.ms': '2000',\n",
       "  'offsets.load.buffer.size': '5242880',\n",
       "  'ssl.client.auth': 'none',\n",
       "  'controlled.shutdown.max.retries': '3',\n",
       "  'offsets.topic.replication.factor': '1',\n",
       "  'zookeeper.ssl.truststore.type': None,\n",
       "  'transaction.state.log.min.isr': '1',\n",
       "  'ssl.secure.random.implementation': None,\n",
       "  'sasl.kerberos.ticket.renew.jitter': '0.05',\n",
       "  'ssl.trustmanager.algorithm': 'PKIX',\n",
       "  'zookeeper.session.timeout.ms': '18000',\n",
       "  'log.local.retention.bytes': '-2',\n",
       "  'log.retention.bytes': '-1',\n",
       "  'controller.quota.window.size.seconds': '1',\n",
       "  'remote.log.metadata.manager.impl.prefix': 'rlmm.config.',\n",
       "  'sasl.jaas.config': None,\n",
       "  'sasl.kerberos.min.time.before.relogin': '60000',\n",
       "  'offsets.retention.minutes': '10080',\n",
       "  'replica.fetch.backoff.ms': '1000',\n",
       "  'inter.broker.protocol.version': '3.9-IV0',\n",
       "  'kafka.metrics.reporters': '',\n",
       "  'group.share.delivery.count.limit': '5',\n",
       "  'ssl.allow.san.changes': 'false',\n",
       "  'compression.zstd.level': '3',\n",
       "  'remote.log.manager.copy.quota.window.num': '11',\n",
       "  'num.partitions': '1',\n",
       "  'ssl.keystore.certificate.chain': None,\n",
       "  'socket.connection.setup.timeout.ms': '10000',\n",
       "  'broker.id.generation.enable': 'true',\n",
       "  'listeners': 'PLAINTEXT://broker:29092,CONTROLLER://broker:29093,PLAINTEXT_HOST://0.0.0.0:9092',\n",
       "  'ssl.enabled.protocols': 'TLSv1.2,TLSv1.3',\n",
       "  'inter.broker.listener.name': 'PLAINTEXT',\n",
       "  'alter.config.policy.class.name': None,\n",
       "  'delegation.token.expiry.check.interval.ms': '3600000',\n",
       "  'log.flush.scheduler.interval.ms': '9223372036854775807',\n",
       "  'zookeeper.max.in.flight.requests': '10',\n",
       "  'remote.log.manager.expiration.thread.pool.size': '-1',\n",
       "  'log.index.size.max.bytes': '10485760',\n",
       "  'ssl.keymanager.algorithm': 'SunX509',\n",
       "  'sasl.login.callback.handler.class': None,\n",
       "  'replica.fetch.max.bytes': '1048576',\n",
       "  'zookeeper.ssl.crl.enable': 'false',\n",
       "  'sasl.server.callback.handler.class': None,\n",
       "  'group.share.max.groups': '10',\n",
       "  'log.cleaner.dedupe.buffer.size': '134217728',\n",
       "  'log.cleaner.io.buffer.size': '524288',\n",
       "  'create.topic.policy.class.name': None,\n",
       "  'ssl.truststore.certificates': None,\n",
       "  'socket.listen.backlog.size': '50',\n",
       "  'controlled.shutdown.retry.backoff.ms': '5000',\n",
       "  'sasl.server.max.receive.size': '524288',\n",
       "  'security.providers': None,\n",
       "  'metadata.log.max.snapshot.interval.ms': '3600000',\n",
       "  'compression.lz4.level': '9',\n",
       "  'log.roll.hours': '168',\n",
       "  'log.cleanup.policy': 'delete',\n",
       "  'initial.broker.registration.timeout.ms': '60000',\n",
       "  'log.flush.start.offset.checkpoint.interval.ms': '60000',\n",
       "  'log.roll.jitter.ms': None,\n",
       "  'transaction.state.log.segment.bytes': '104857600',\n",
       "  'offsets.topic.segment.bytes': '104857600',\n",
       "  'metadata.max.idle.interval.ms': '500',\n",
       "  'jmx.hostname': None,\n",
       "  'remote.log.metadata.manager.class.name': 'org.apache.kafka.server.log.remote.metadata.storage.TopicBasedRemoteLogMetadataManager',\n",
       "  'sasl.login.retry.backoff.max.ms': '10000',\n",
       "  'remote.log.manager.task.interval.ms': '30000',\n",
       "  'group.initial.rebalance.delay.ms': '0',\n",
       "  'log.index.interval.bytes': '4096',\n",
       "  'log.cleaner.backoff.ms': '15000',\n",
       "  'ssl.truststore.location': None,\n",
       "  'offset.metadata.max.bytes': '4096',\n",
       "  'ssl.keystore.password': None,\n",
       "  'zookeeper.metadata.migration.enable': 'false',\n",
       "  'fetch.max.bytes': '57671680',\n",
       "  'metadata.max.retention.bytes': '104857600',\n",
       "  'compression.type': 'producer',\n",
       "  'sasl.login.connect.timeout.ms': None,\n",
       "  'max.connections.per.ip.overrides': '',\n",
       "  'group.consumer.max.heartbeat.interval.ms': '15000',\n",
       "  'sasl.login.refresh.window.factor': '0.8',\n",
       "  'remote.log.metadata.manager.class.path': None,\n",
       "  'kafka.metrics.polling.interval.secs': '10',\n",
       "  'metadata.log.max.record.bytes.between.snapshots': '20971520',\n",
       "  'metadata.max.retention.ms': '604800000',\n",
       "  'controller.quorum.election.backoff.max.ms': '1000',\n",
       "  'group.share.max.size': '200',\n",
       "  'max.incremental.fetch.session.cache.slots': '1000',\n",
       "  'delegation.token.master.key': None,\n",
       "  'ssl.key.password': None,\n",
       "  'reserved.broker.max.id': '1000',\n",
       "  'transaction.remove.expired.transaction.cleanup.interval.ms': '3600000',\n",
       "  'log.message.downconversion.enable': 'true',\n",
       "  'ssl.protocol': 'TLSv1.3',\n",
       "  'metadata.log.segment.ms': '604800000',\n",
       "  'transaction.state.log.load.buffer.size': '5242880',\n",
       "  'ssl.keystore.location': None,\n",
       "  'group.coordinator.append.linger.ms': '10',\n",
       "  'sasl.enabled.mechanisms': 'GSSAPI',\n",
       "  'num.replica.alter.log.dirs.threads': None,\n",
       "  'group.share.max.session.timeout.ms': '60000',\n",
       "  'zookeeper.ssl.cipher.suites': None,\n",
       "  'group.min.session.timeout.ms': '6000',\n",
       "  'log.cleaner.io.buffer.load.factor': '0.9',\n",
       "  'transaction.max.timeout.ms': '900000',\n",
       "  'metadata.log.dir': None,\n",
       "  'process.roles': 'broker,controller',\n",
       "  'group.max.size': '2147483647',\n",
       "  'sasl.oauthbearer.jwks.endpoint.retry.backoff.max.ms': '10000',\n",
       "  'delegation.token.max.lifetime.ms': '604800000',\n",
       "  'max.request.partition.size.limit': '2000',\n",
       "  'broker.id': '1',\n",
       "  'offsets.topic.compression.codec': '0',\n",
       "  'zookeeper.ssl.endpoint.identification.algorithm': 'HTTPS',\n",
       "  'replication.quota.window.num': '11',\n",
       "  'advertised.listeners': 'PLAINTEXT://broker:29092,PLAINTEXT_HOST://localhost:9092',\n",
       "  'jmx.port': None,\n",
       "  'queued.max.request.bytes': '-1'}}"
      ]
     },
     "execution_count": 4,
     "metadata": {},
     "output_type": "execute_result"
    }
   ],
   "source": [
    "cl.broker_config()"
   ]
  },
  {
   "cell_type": "markdown",
   "metadata": {},
   "source": [
    "For our Confluent Cloud cluster, we only want to see the config of one broker, broker 11:"
   ]
  },
  {
   "cell_type": "code",
   "execution_count": 5,
   "metadata": {},
   "outputs": [
    {
     "data": {
      "text/plain": [
       "{11: {'log.message.timestamp.type': 'CreateTime',\n",
       "  'ssl.cipher.suites': 'TLS_ECDHE_RSA_WITH_AES_128_GCM_SHA256,TLS_ECDHE_RSA_WITH_AES_256_GCM_SHA384,TLS_ECDHE_RSA_WITH_CHACHA20_POLY1305_SHA256,TLS_ECDHE_RSA_WITH_AES_128_CBC_SHA,TLS_RSA_WITH_AES_128_GCM_SHA256',\n",
       "  'log.message.timestamp.difference.max.ms': '9223372036854775807',\n",
       "  'log.cleanup.policy': 'delete',\n",
       "  'log.cleaner.min.compaction.lag.ms': '0',\n",
       "  'message.max.bytes': '2097164',\n",
       "  'log.segment.bytes': '104857600',\n",
       "  'log.message.timestamp.before.max.ms': '9223372036854775807',\n",
       "  'log.retention.bytes': '-1',\n",
       "  'log.cleaner.delete.retention.ms': '86400000',\n",
       "  'auto.create.topics.enable': 'false',\n",
       "  'log.cleaner.max.compaction.lag.ms': '9223372036854775807',\n",
       "  'ssl.enabled.protocols': 'TLSv1.2',\n",
       "  'log.message.timestamp.after.max.ms': '9223372036854775807',\n",
       "  'default.replication.factor': '3',\n",
       "  'log.retention.ms': None,\n",
       "  'num.partitions': '6'}}"
      ]
     },
     "execution_count": 5,
     "metadata": {},
     "output_type": "execute_result"
    }
   ],
   "source": [
    "cc.broker_config(11)"
   ]
  },
  {
   "cell_type": "markdown",
   "metadata": {},
   "source": [
    "What if we'd just like to see one configuration item, e.g. `message.max.bytes`?"
   ]
  },
  {
   "cell_type": "code",
   "execution_count": 6,
   "metadata": {},
   "outputs": [
    {
     "data": {
      "text/plain": [
       "'2097164'"
      ]
     },
     "execution_count": 6,
     "metadata": {},
     "output_type": "execute_result"
    }
   ],
   "source": [
    "_[11][\"message.max.bytes\"]"
   ]
  },
  {
   "cell_type": "markdown",
   "metadata": {},
   "source": [
    "We can just as well change this configuration item, or at least try to do it."
   ]
  },
  {
   "cell_type": "code",
   "execution_count": 7,
   "metadata": {},
   "outputs": [
    {
     "ename": "KafkaException",
     "evalue": "KafkaError{code=POLICY_VIOLATION,val=44,str=\"Altering resources of type BROKER is not permitted\"}",
     "output_type": "error",
     "traceback": [
      "\u001b[0;31m---------------------------------------------------------------------------\u001b[0m",
      "\u001b[0;31mKafkaException\u001b[0m                            Traceback (most recent call last)",
      "Cell \u001b[0;32mIn[7], line 1\u001b[0m\n\u001b[0;32m----> 1\u001b[0m \u001b[43mcc\u001b[49m\u001b[38;5;241;43m.\u001b[39;49m\u001b[43mbroker_config\u001b[49m\u001b[43m(\u001b[49m\u001b[43mconfig\u001b[49m\u001b[38;5;241;43m=\u001b[39;49m\u001b[43m{\u001b[49m\u001b[38;5;124;43m\"\u001b[39;49m\u001b[38;5;124;43mmessage.max.bytes\u001b[39;49m\u001b[38;5;124;43m\"\u001b[39;49m\u001b[43m:\u001b[49m\u001b[43m \u001b[49m\u001b[38;5;241;43m1048582\u001b[39;49m\u001b[43m}\u001b[49m\u001b[43m)\u001b[49m\n",
      "File \u001b[0;32m~/kafka/cur25blr/venv/lib/python3.10/site-packages/kafi/kafka/kafka.py:125\u001b[0m, in \u001b[0;36mKafka.broker_config\u001b[0;34m(self, pattern, config, **kwargs)\u001b[0m\n\u001b[1;32m    124\u001b[0m \u001b[38;5;28;01mdef\u001b[39;00m\u001b[38;5;250m \u001b[39m\u001b[38;5;21mbroker_config\u001b[39m(\u001b[38;5;28mself\u001b[39m, pattern\u001b[38;5;241m=\u001b[39m\u001b[38;5;28;01mNone\u001b[39;00m, config\u001b[38;5;241m=\u001b[39m\u001b[38;5;28;01mNone\u001b[39;00m, \u001b[38;5;241m*\u001b[39m\u001b[38;5;241m*\u001b[39mkwargs):\n\u001b[0;32m--> 125\u001b[0m     \u001b[38;5;28;01mreturn\u001b[39;00m \u001b[38;5;28;43mself\u001b[39;49m\u001b[38;5;241;43m.\u001b[39;49m\u001b[43madmin\u001b[49m\u001b[38;5;241;43m.\u001b[39;49m\u001b[43mbroker_config\u001b[49m\u001b[43m(\u001b[49m\u001b[43mpattern\u001b[49m\u001b[43m,\u001b[49m\u001b[43m \u001b[49m\u001b[43mconfig\u001b[49m\u001b[43m,\u001b[49m\u001b[43m \u001b[49m\u001b[38;5;241;43m*\u001b[39;49m\u001b[38;5;241;43m*\u001b[39;49m\u001b[43mkwargs\u001b[49m\u001b[43m)\u001b[49m\n",
      "File \u001b[0;32m~/kafka/cur25blr/venv/lib/python3.10/site-packages/kafi/kafka/cluster/cluster_admin.py:88\u001b[0m, in \u001b[0;36mClusterAdmin.broker_config\u001b[0;34m(self, pattern, config, **kwargs)\u001b[0m\n\u001b[1;32m     86\u001b[0m \u001b[38;5;28;01mif\u001b[39;00m config \u001b[38;5;129;01mis\u001b[39;00m \u001b[38;5;129;01mnot\u001b[39;00m \u001b[38;5;28;01mNone\u001b[39;00m:\n\u001b[1;32m     87\u001b[0m     \u001b[38;5;28;01mfor\u001b[39;00m broker_int \u001b[38;5;129;01min\u001b[39;00m broker_dict:\n\u001b[0;32m---> 88\u001b[0m         \u001b[38;5;28;43mself\u001b[39;49m\u001b[38;5;241;43m.\u001b[39;49m\u001b[43mset_resource_config_dict\u001b[49m\u001b[43m(\u001b[49m\u001b[43mResourceType\u001b[49m\u001b[38;5;241;43m.\u001b[39;49m\u001b[43mBROKER\u001b[49m\u001b[43m,\u001b[49m\u001b[43m \u001b[49m\u001b[38;5;28;43mstr\u001b[39;49m\u001b[43m(\u001b[49m\u001b[43mbroker_int\u001b[49m\u001b[43m)\u001b[49m\u001b[43m,\u001b[49m\u001b[43m \u001b[49m\u001b[43mconfig_dict\u001b[49m\u001b[43m,\u001b[49m\u001b[43m \u001b[49m\u001b[43mtest\u001b[49m\u001b[38;5;241;43m=\u001b[39;49m\u001b[43mtest_bool\u001b[49m\u001b[43m)\u001b[49m\n\u001b[1;32m     89\u001b[0m \u001b[38;5;66;03m#\u001b[39;00m\n\u001b[1;32m     90\u001b[0m broker_int_broker_config_dict \u001b[38;5;241m=\u001b[39m {broker_int: \u001b[38;5;28mself\u001b[39m\u001b[38;5;241m.\u001b[39mget_resource_config_dict(ResourceType\u001b[38;5;241m.\u001b[39mBROKER, \u001b[38;5;28mstr\u001b[39m(broker_int)) \u001b[38;5;28;01mfor\u001b[39;00m broker_int \u001b[38;5;129;01min\u001b[39;00m broker_dict}\n",
      "File \u001b[0;32m~/kafka/cur25blr/venv/lib/python3.10/site-packages/kafi/kafka/cluster/cluster_admin.py:127\u001b[0m, in \u001b[0;36mClusterAdmin.set_resource_config_dict\u001b[0;34m(self, resourceType, resource_str, new_config_dict, **kwargs)\u001b[0m\n\u001b[1;32m    125\u001b[0m future \u001b[38;5;241m=\u001b[39m \u001b[38;5;28mself\u001b[39m\u001b[38;5;241m.\u001b[39madminClient\u001b[38;5;241m.\u001b[39malter_configs([alter_configResource], validate_only\u001b[38;5;241m=\u001b[39mtest_bool)[alter_configResource]\n\u001b[1;32m    126\u001b[0m \u001b[38;5;66;03m#\u001b[39;00m\n\u001b[0;32m--> 127\u001b[0m \u001b[43mfuture\u001b[49m\u001b[38;5;241;43m.\u001b[39;49m\u001b[43mresult\u001b[49m\u001b[43m(\u001b[49m\u001b[43m)\u001b[49m\n",
      "File \u001b[0;32m/usr/lib/python3.10/concurrent/futures/_base.py:458\u001b[0m, in \u001b[0;36mFuture.result\u001b[0;34m(self, timeout)\u001b[0m\n\u001b[1;32m    456\u001b[0m     \u001b[38;5;28;01mraise\u001b[39;00m CancelledError()\n\u001b[1;32m    457\u001b[0m \u001b[38;5;28;01melif\u001b[39;00m \u001b[38;5;28mself\u001b[39m\u001b[38;5;241m.\u001b[39m_state \u001b[38;5;241m==\u001b[39m FINISHED:\n\u001b[0;32m--> 458\u001b[0m     \u001b[38;5;28;01mreturn\u001b[39;00m \u001b[38;5;28;43mself\u001b[39;49m\u001b[38;5;241;43m.\u001b[39;49m\u001b[43m__get_result\u001b[49m\u001b[43m(\u001b[49m\u001b[43m)\u001b[49m\n\u001b[1;32m    459\u001b[0m \u001b[38;5;28;01melse\u001b[39;00m:\n\u001b[1;32m    460\u001b[0m     \u001b[38;5;28;01mraise\u001b[39;00m \u001b[38;5;167;01mTimeoutError\u001b[39;00m()\n",
      "File \u001b[0;32m/usr/lib/python3.10/concurrent/futures/_base.py:403\u001b[0m, in \u001b[0;36mFuture.__get_result\u001b[0;34m(self)\u001b[0m\n\u001b[1;32m    401\u001b[0m \u001b[38;5;28;01mif\u001b[39;00m \u001b[38;5;28mself\u001b[39m\u001b[38;5;241m.\u001b[39m_exception:\n\u001b[1;32m    402\u001b[0m     \u001b[38;5;28;01mtry\u001b[39;00m:\n\u001b[0;32m--> 403\u001b[0m         \u001b[38;5;28;01mraise\u001b[39;00m \u001b[38;5;28mself\u001b[39m\u001b[38;5;241m.\u001b[39m_exception\n\u001b[1;32m    404\u001b[0m     \u001b[38;5;28;01mfinally\u001b[39;00m:\n\u001b[1;32m    405\u001b[0m         \u001b[38;5;66;03m# Break a reference cycle with the exception in self._exception\u001b[39;00m\n\u001b[1;32m    406\u001b[0m         \u001b[38;5;28mself\u001b[39m \u001b[38;5;241m=\u001b[39m \u001b[38;5;28;01mNone\u001b[39;00m\n",
      "\u001b[0;31mKafkaException\u001b[0m: KafkaError{code=POLICY_VIOLATION,val=44,str=\"Altering resources of type BROKER is not permitted\"}"
     ]
    }
   ],
   "source": [
    "cc.broker_config(config={\"message.max.bytes\": 1048582})"
   ]
  },
  {
   "cell_type": "markdown",
   "metadata": {},
   "source": [
    "Well there we are. But it should work on our local cluster:"
   ]
  },
  {
   "cell_type": "code",
   "execution_count": 8,
   "metadata": {},
   "outputs": [
    {
     "data": {
      "text/plain": [
       "'1048588'"
      ]
     },
     "execution_count": 8,
     "metadata": {},
     "output_type": "execute_result"
    }
   ],
   "source": [
    "cl.broker_config(config={\"message.max.size\": 1048582})[1][\"message.max.bytes\"]"
   ]
  },
  {
   "cell_type": "markdown",
   "metadata": {},
   "source": [
    "### Consumer Groups"
   ]
  },
  {
   "cell_type": "markdown",
   "metadata": {},
   "source": [
    "Let's first see the consumer groups that we have."
   ]
  },
  {
   "cell_type": "code",
   "execution_count": 9,
   "metadata": {},
   "outputs": [
    {
     "data": {
      "text/plain": [
       "['1742384316499',\n",
       " '_confluent-controlcenter-7-9-0-1-command',\n",
       " '1742384288901',\n",
       " '_confluent-controlcenter-7-9-0-1',\n",
       " '1742384306781']"
      ]
     },
     "execution_count": 9,
     "metadata": {},
     "output_type": "execute_result"
    }
   ],
   "source": [
    "cl.gls()"
   ]
  },
  {
   "cell_type": "markdown",
   "metadata": {},
   "source": [
    "That's the automatically created groups that our `cat` command created before. What are the offsets of one of them?"
   ]
  },
  {
   "cell_type": "code",
   "execution_count": 11,
   "metadata": {},
   "outputs": [
    {
     "data": {
      "text/plain": [
       "{'1742384288901': {'topic_json2': {0: 3}}}"
      ]
     },
     "execution_count": 11,
     "metadata": {},
     "output_type": "execute_result"
    }
   ],
   "source": [
    "g = \"1742384288901\"\n",
    "\n",
    "cl.group_offsets(g)\n"
   ]
  },
  {
   "cell_type": "markdown",
   "metadata": {},
   "source": [
    "What if we need the same consumer group offsets for another consumer group... on Confluent Cloud? For that, let's first create a topic on Confluent Cloud and populate it."
   ]
  },
  {
   "cell_type": "code",
   "execution_count": 12,
   "metadata": {},
   "outputs": [
    {
     "data": {
      "text/plain": [
       "'topic_json2'"
      ]
     },
     "execution_count": 12,
     "metadata": {},
     "output_type": "execute_result"
    }
   ],
   "source": [
    "t = \"topic_json2\"\n",
    "\n",
    "cc.touch(t)\n",
    "pr = cc.producer(t)\n",
    "pr.produce({\"bla\": 123}, key=\"123\")\n",
    "pr.produce({\"bla\": 456}, key=\"456\")\n",
    "pr.produce({\"bla\": 789}, key=\"789\")\n",
    "pr.close()"
   ]
  },
  {
   "cell_type": "markdown",
   "metadata": {},
   "source": [
    "Go. Copy the offsets of our consumer group on our local cluster to a new one on Confluent Cloud."
   ]
  },
  {
   "cell_type": "code",
   "execution_count": 13,
   "metadata": {},
   "outputs": [
    {
     "data": {
      "text/plain": [
       "{'1742384288901': {'topic_json2': {0: 3}}}"
      ]
     },
     "execution_count": 13,
     "metadata": {},
     "output_type": "execute_result"
    }
   ],
   "source": [
    "cl.cp_group_offsets(t, g, cc, g)"
   ]
  },
  {
   "cell_type": "markdown",
   "metadata": {},
   "source": [
    "Check it..."
   ]
  },
  {
   "cell_type": "code",
   "execution_count": 14,
   "metadata": {},
   "outputs": [
    {
     "data": {
      "text/plain": [
       "{'1742384288901': {'topic_json2': {0: 3}}}"
      ]
     },
     "execution_count": 14,
     "metadata": {},
     "output_type": "execute_result"
    }
   ],
   "source": [
    "cc.group_offsets(g)"
   ]
  },
  {
   "cell_type": "markdown",
   "metadata": {},
   "source": [
    "Let's close by going back to our local cluster and deleting the source consumer groups."
   ]
  },
  {
   "cell_type": "code",
   "execution_count": 15,
   "metadata": {},
   "outputs": [
    {
     "data": {
      "text/plain": [
       "['1742384288901']"
      ]
     },
     "execution_count": 15,
     "metadata": {},
     "output_type": "execute_result"
    }
   ],
   "source": [
    "cl.grm(g)"
   ]
  },
  {
   "cell_type": "code",
   "execution_count": 16,
   "metadata": {},
   "outputs": [
    {
     "data": {
      "text/plain": [
       "['1742384316499',\n",
       " '_confluent-controlcenter-7-9-0-1-command',\n",
       " '_confluent-controlcenter-7-9-0-1',\n",
       " '1742384306781']"
      ]
     },
     "execution_count": 16,
     "metadata": {},
     "output_type": "execute_result"
    }
   ],
   "source": [
    "cl.gls()"
   ]
  },
  {
   "cell_type": "markdown",
   "metadata": {},
   "source": [
    "### Topics"
   ]
  },
  {
   "cell_type": "markdown",
   "metadata": {},
   "source": [
    "In the same way as for the brokers, we can have a look at the configuration of a topic..."
   ]
  },
  {
   "cell_type": "code",
   "execution_count": 17,
   "metadata": {},
   "outputs": [
    {
     "data": {
      "text/plain": [
       "{'topic_json2': {'compression.type': 'producer',\n",
       "  'remote.log.delete.on.disable': 'false',\n",
       "  'leader.replication.throttled.replicas': '',\n",
       "  'remote.storage.enable': 'false',\n",
       "  'message.downconversion.enable': 'true',\n",
       "  'min.insync.replicas': '1',\n",
       "  'segment.jitter.ms': '0',\n",
       "  'remote.log.copy.disable': 'false',\n",
       "  'local.retention.ms': '-2',\n",
       "  'cleanup.policy': 'delete',\n",
       "  'flush.ms': '9223372036854775807',\n",
       "  'follower.replication.throttled.replicas': '',\n",
       "  'compression.lz4.level': '9',\n",
       "  'segment.bytes': '1073741824',\n",
       "  'retention.ms': '604800000',\n",
       "  'compression.gzip.level': '-1',\n",
       "  'flush.messages': '9223372036854775807',\n",
       "  'compression.zstd.level': '3',\n",
       "  'message.format.version': '3.0-IV1',\n",
       "  'max.compaction.lag.ms': '9223372036854775807',\n",
       "  'file.delete.delay.ms': '60000',\n",
       "  'max.message.bytes': '1048588',\n",
       "  'min.compaction.lag.ms': '0',\n",
       "  'message.timestamp.type': 'CreateTime',\n",
       "  'local.retention.bytes': '-2',\n",
       "  'preallocate': 'false',\n",
       "  'min.cleanable.dirty.ratio': '0.5',\n",
       "  'index.interval.bytes': '4096',\n",
       "  'unclean.leader.election.enable': 'false',\n",
       "  'retention.bytes': '-1',\n",
       "  'delete.retention.ms': '86400000',\n",
       "  'message.timestamp.after.max.ms': '9223372036854775807',\n",
       "  'message.timestamp.before.max.ms': '9223372036854775807',\n",
       "  'segment.ms': '604800000',\n",
       "  'message.timestamp.difference.max.ms': '9223372036854775807',\n",
       "  'segment.index.bytes': '10485760'}}"
      ]
     },
     "execution_count": 17,
     "metadata": {},
     "output_type": "execute_result"
    }
   ],
   "source": [
    "t = \"topic_json2\"\n",
    "\n",
    "cl.config(t)"
   ]
  },
  {
   "cell_type": "markdown",
   "metadata": {},
   "source": [
    "...we can change the configuation just as well:"
   ]
  },
  {
   "cell_type": "code",
   "execution_count": 18,
   "metadata": {},
   "outputs": [
    {
     "data": {
      "text/plain": [
       "{'topic_json2': {'compression.type': 'producer',\n",
       "  'remote.log.delete.on.disable': 'false',\n",
       "  'leader.replication.throttled.replicas': '',\n",
       "  'remote.storage.enable': 'false',\n",
       "  'message.downconversion.enable': 'true',\n",
       "  'min.insync.replicas': '1',\n",
       "  'segment.jitter.ms': '0',\n",
       "  'remote.log.copy.disable': 'false',\n",
       "  'local.retention.ms': '-2',\n",
       "  'cleanup.policy': 'delete',\n",
       "  'flush.ms': '9223372036854775807',\n",
       "  'follower.replication.throttled.replicas': '',\n",
       "  'compression.lz4.level': '9',\n",
       "  'segment.bytes': '1073741824',\n",
       "  'retention.ms': '-1',\n",
       "  'compression.gzip.level': '-1',\n",
       "  'flush.messages': '9223372036854775807',\n",
       "  'compression.zstd.level': '3',\n",
       "  'message.format.version': '3.0-IV1',\n",
       "  'max.compaction.lag.ms': '9223372036854775807',\n",
       "  'file.delete.delay.ms': '60000',\n",
       "  'max.message.bytes': '1048588',\n",
       "  'min.compaction.lag.ms': '0',\n",
       "  'message.timestamp.type': 'CreateTime',\n",
       "  'local.retention.bytes': '-2',\n",
       "  'preallocate': 'false',\n",
       "  'min.cleanable.dirty.ratio': '0.5',\n",
       "  'index.interval.bytes': '4096',\n",
       "  'unclean.leader.election.enable': 'false',\n",
       "  'retention.bytes': '-1',\n",
       "  'delete.retention.ms': '86400000',\n",
       "  'message.timestamp.after.max.ms': '9223372036854775807',\n",
       "  'message.timestamp.before.max.ms': '9223372036854775807',\n",
       "  'segment.ms': '604800000',\n",
       "  'message.timestamp.difference.max.ms': '9223372036854775807',\n",
       "  'segment.index.bytes': '10485760'}}"
      ]
     },
     "execution_count": 18,
     "metadata": {},
     "output_type": "execute_result"
    }
   ],
   "source": [
    "cl.config(t, {\"retention.ms\": -1})"
   ]
  },
  {
   "cell_type": "markdown",
   "metadata": {},
   "source": [
    "We can create or delete topics..."
   ]
  },
  {
   "cell_type": "code",
   "execution_count": 19,
   "metadata": {},
   "outputs": [
    {
     "data": {
      "text/plain": [
       "'abc'"
      ]
     },
     "execution_count": 19,
     "metadata": {},
     "output_type": "execute_result"
    }
   ],
   "source": [
    "cl.touch(\"abc\")\n"
   ]
  },
  {
   "cell_type": "code",
   "execution_count": 20,
   "metadata": {},
   "outputs": [
    {
     "data": {
      "text/plain": [
       "['abc']"
      ]
     },
     "execution_count": 20,
     "metadata": {},
     "output_type": "execute_result"
    }
   ],
   "source": [
    "cl.rm(\"a*\")"
   ]
  },
  {
   "cell_type": "markdown",
   "metadata": {},
   "source": [
    "We can list topics with their total sizes..."
   ]
  },
  {
   "cell_type": "code",
   "execution_count": 21,
   "metadata": {},
   "outputs": [
    {
     "data": {
      "text/plain": [
       "{'__consumer_offsets': 204,\n",
       " '__transaction_state': 4,\n",
       " '_confluent-command': 1,\n",
       " '_confluent-controlcenter-7-9-0-1-AlertHistoryStore-changelog': 0,\n",
       " '_confluent-controlcenter-7-9-0-1-AlertHistoryStore-repartition': 0,\n",
       " '_confluent-controlcenter-7-9-0-1-Group-ONE_MINUTE-changelog': 0,\n",
       " '_confluent-controlcenter-7-9-0-1-Group-ONE_MINUTE-repartition': 0,\n",
       " '_confluent-controlcenter-7-9-0-1-Group-THREE_HOURS-changelog': 0,\n",
       " '_confluent-controlcenter-7-9-0-1-Group-THREE_HOURS-repartition': 0,\n",
       " '_confluent-controlcenter-7-9-0-1-KSTREAM-OUTEROTHER-0000000106-store-changelog': 70,\n",
       " '_confluent-controlcenter-7-9-0-1-KSTREAM-OUTEROTHER-0000000106-store-repartition': 0,\n",
       " '_confluent-controlcenter-7-9-0-1-KSTREAM-OUTERTHIS-0000000105-store-changelog': 70,\n",
       " '_confluent-controlcenter-7-9-0-1-KSTREAM-OUTERTHIS-0000000105-store-repartition': 0,\n",
       " '_confluent-controlcenter-7-9-0-1-MetricsAggregateStore-changelog': 0,\n",
       " '_confluent-controlcenter-7-9-0-1-MetricsAggregateStore-repartition': 0,\n",
       " '_confluent-controlcenter-7-9-0-1-MonitoringMessageAggregatorWindows-ONE_MINUTE-changelog': 0,\n",
       " '_confluent-controlcenter-7-9-0-1-MonitoringMessageAggregatorWindows-ONE_MINUTE-repartition': 0,\n",
       " '_confluent-controlcenter-7-9-0-1-MonitoringMessageAggregatorWindows-THREE_HOURS-changelog': 0,\n",
       " '_confluent-controlcenter-7-9-0-1-MonitoringMessageAggregatorWindows-THREE_HOURS-repartition': 0,\n",
       " '_confluent-controlcenter-7-9-0-1-MonitoringStream-ONE_MINUTE-changelog': 0,\n",
       " '_confluent-controlcenter-7-9-0-1-MonitoringStream-ONE_MINUTE-repartition': 0,\n",
       " '_confluent-controlcenter-7-9-0-1-MonitoringStream-THREE_HOURS-changelog': 0,\n",
       " '_confluent-controlcenter-7-9-0-1-MonitoringStream-THREE_HOURS-repartition': 0,\n",
       " '_confluent-controlcenter-7-9-0-1-MonitoringTriggerStore-changelog': 0,\n",
       " '_confluent-controlcenter-7-9-0-1-MonitoringTriggerStore-repartition': 0,\n",
       " '_confluent-controlcenter-7-9-0-1-MonitoringVerifierStore-changelog': 0,\n",
       " '_confluent-controlcenter-7-9-0-1-MonitoringVerifierStore-repartition': 0,\n",
       " '_confluent-controlcenter-7-9-0-1-TriggerActionsStore-changelog': 0,\n",
       " '_confluent-controlcenter-7-9-0-1-TriggerActionsStore-repartition': 0,\n",
       " '_confluent-controlcenter-7-9-0-1-TriggerEventsStore-changelog': 0,\n",
       " '_confluent-controlcenter-7-9-0-1-TriggerEventsStore-repartition': 0,\n",
       " '_confluent-controlcenter-7-9-0-1-actual-group-consumption-rekey': 70,\n",
       " '_confluent-controlcenter-7-9-0-1-aggregate-topic-partition-store-changelog': 0,\n",
       " '_confluent-controlcenter-7-9-0-1-aggregate-topic-partition-store-repartition': 0,\n",
       " '_confluent-controlcenter-7-9-0-1-aggregatedTopicPartitionTableWindows-ONE_MINUTE-changelog': 0,\n",
       " '_confluent-controlcenter-7-9-0-1-aggregatedTopicPartitionTableWindows-ONE_MINUTE-repartition': 0,\n",
       " '_confluent-controlcenter-7-9-0-1-aggregatedTopicPartitionTableWindows-THREE_HOURS-changelog': 0,\n",
       " '_confluent-controlcenter-7-9-0-1-aggregatedTopicPartitionTableWindows-THREE_HOURS-repartition': 0,\n",
       " '_confluent-controlcenter-7-9-0-1-cluster-rekey': 0,\n",
       " '_confluent-controlcenter-7-9-0-1-expected-group-consumption-rekey': 70,\n",
       " '_confluent-controlcenter-7-9-0-1-group-aggregate-store-ONE_MINUTE-changelog': 0,\n",
       " '_confluent-controlcenter-7-9-0-1-group-aggregate-store-ONE_MINUTE-repartition': 0,\n",
       " '_confluent-controlcenter-7-9-0-1-group-aggregate-store-THREE_HOURS-changelog': 0,\n",
       " '_confluent-controlcenter-7-9-0-1-group-aggregate-store-THREE_HOURS-repartition': 0,\n",
       " '_confluent-controlcenter-7-9-0-1-group-stream-extension-rekey': 0,\n",
       " '_confluent-controlcenter-7-9-0-1-metrics-trigger-measurement-rekey': 0,\n",
       " '_confluent-controlcenter-7-9-0-1-monitoring-aggregate-rekey-store-changelog': 0,\n",
       " '_confluent-controlcenter-7-9-0-1-monitoring-aggregate-rekey-store-repartition': 0,\n",
       " '_confluent-controlcenter-7-9-0-1-monitoring-message-rekey-store': 70,\n",
       " '_confluent-controlcenter-7-9-0-1-monitoring-trigger-event-rekey': 70,\n",
       " '_confluent-ksql-default__command_topic': 2,\n",
       " '_confluent-metrics': 0,\n",
       " '_confluent-monitoring': 70,\n",
       " '_schemas': 3,\n",
       " 'default_ksql_processing_log': 0,\n",
       " 'docker-connect-configs': 2,\n",
       " 'docker-connect-offsets': 0,\n",
       " 'docker-connect-status': 0,\n",
       " 'topic_avro2': 3,\n",
       " 'topic_json2': 3}"
      ]
     },
     "execution_count": 21,
     "metadata": {},
     "output_type": "execute_result"
    }
   ],
   "source": [
    "cl.l()"
   ]
  },
  {
   "cell_type": "markdown",
   "metadata": {},
   "source": [
    "...see their partitions:"
   ]
  },
  {
   "cell_type": "code",
   "execution_count": 22,
   "metadata": {},
   "outputs": [
    {
     "data": {
      "text/plain": [
       "{'topic_json2': 1}"
      ]
     },
     "execution_count": 22,
     "metadata": {},
     "output_type": "execute_result"
    }
   ],
   "source": [
    "cl.partitions(t)"
   ]
  },
  {
   "cell_type": "markdown",
   "metadata": {},
   "source": [
    "...and their watermarks:"
   ]
  },
  {
   "cell_type": "code",
   "execution_count": 23,
   "metadata": {},
   "outputs": [
    {
     "data": {
      "text/plain": [
       "{'topic_json2': {0: (0, 3)}}"
      ]
     },
     "execution_count": 23,
     "metadata": {},
     "output_type": "execute_result"
    }
   ],
   "source": [
    "cl.watermarks(t)"
   ]
  },
  {
   "cell_type": "markdown",
   "metadata": {},
   "source": [
    "Now let's create a new test topic and write some messages to it."
   ]
  },
  {
   "cell_type": "code",
   "execution_count": null,
   "metadata": {},
   "outputs": [],
   "source": [
    "import time\n",
    "\n",
    "t = \"topic_offsets\"\n",
    "\n",
    "pr = cl.producer(t)\n",
    "pr.produce({\"bla\": 123}, key=\"123\")\n",
    "time.sleep(0.1)\n",
    "pr.produce({\"bla\": 456}, key=\"456\")\n",
    "time.sleep(0.1)\n",
    "pr.produce({\"bla\": 789}, key=\"789\")\n",
    "pr.close()\n",
    "\n",
    "cl.cat(t)"
   ]
  },
  {
   "cell_type": "markdown",
   "metadata": {},
   "source": [
    "Let's pick the timestamp of the second message and search for it:"
   ]
  },
  {
   "cell_type": "code",
   "execution_count": null,
   "metadata": {},
   "outputs": [],
   "source": [
    "cl.offsets_for_times(t, {0: ... })"
   ]
  },
  {
   "cell_type": "markdown",
   "metadata": {},
   "source": [
    "Perfect. Next idea: Let's delete some records from the beginning of the topic. E.g. the first two:"
   ]
  },
  {
   "cell_type": "code",
   "execution_count": null,
   "metadata": {},
   "outputs": [],
   "source": [
    "print(cl.watermarks(t))\n",
    "\n",
    "cl.delete_records({t: {0: 2}})\n",
    "\n",
    "cl.watermarks(t)"
   ]
  },
  {
   "cell_type": "markdown",
   "metadata": {},
   "source": [
    "Now we are left with only the third message:"
   ]
  },
  {
   "cell_type": "code",
   "execution_count": null,
   "metadata": {},
   "outputs": [],
   "source": [
    "cl.cat(t)"
   ]
  },
  {
   "cell_type": "markdown",
   "metadata": {},
   "source": [
    "Now, please stay with me... we have some more functionality that goes beyond just having a \"cat\" command... all shell-inspired..."
   ]
  },
  {
   "cell_type": "markdown",
   "metadata": {},
   "source": [
    "Read from the beginning of the topic:"
   ]
  },
  {
   "cell_type": "code",
   "execution_count": 24,
   "metadata": {},
   "outputs": [
    {
     "data": {
      "text/plain": [
       "[{'topic': 'topic_json2',\n",
       "  'headers': None,\n",
       "  'partition': 0,\n",
       "  'offset': 0,\n",
       "  'timestamp': (1, 1742384198782),\n",
       "  'key': '123',\n",
       "  'value': {'bla': 123}}]"
      ]
     },
     "execution_count": 24,
     "metadata": {},
     "output_type": "execute_result"
    }
   ],
   "source": [
    "cl.head(t, 1)"
   ]
  },
  {
   "cell_type": "markdown",
   "metadata": {},
   "source": [
    "Or from the end:"
   ]
  },
  {
   "cell_type": "code",
   "execution_count": 25,
   "metadata": {},
   "outputs": [
    {
     "data": {
      "text/plain": [
       "[{'topic': 'topic_json2',\n",
       "  'headers': None,\n",
       "  'partition': 0,\n",
       "  'offset': 2,\n",
       "  'timestamp': (1, 1742384198782),\n",
       "  'key': '789',\n",
       "  'value': {'bla': 789}}]"
      ]
     },
     "execution_count": 25,
     "metadata": {},
     "output_type": "execute_result"
    }
   ],
   "source": [
    "cl.tail(t, 1)"
   ]
  },
  {
   "cell_type": "markdown",
   "metadata": {},
   "source": [
    "Now it increasingly gets wilder. How about copying a topic from our local cluster to Confluent Cloud?"
   ]
  },
  {
   "cell_type": "code",
   "execution_count": 26,
   "metadata": {},
   "outputs": [
    {
     "data": {
      "text/plain": [
       "{'topic_json2_from_local_cluster': 3}"
      ]
     },
     "execution_count": 26,
     "metadata": {},
     "output_type": "execute_result"
    }
   ],
   "source": [
    "t2 = t + \"_from_local_cluster\"\n",
    "\n",
    "cc.touch(t2)\n",
    "\n",
    "cl.cp(t, cc, t2)\n",
    "\n",
    "cc.l(t2)"
   ]
  },
  {
   "cell_type": "markdown",
   "metadata": {},
   "source": [
    "Let's see this on Confluent Cloud..."
   ]
  },
  {
   "cell_type": "markdown",
   "metadata": {},
   "source": [
    "And now, some more shelly stuff."
   ]
  },
  {
   "cell_type": "markdown",
   "metadata": {},
   "source": [
    "Word count:"
   ]
  },
  {
   "cell_type": "code",
   "execution_count": 27,
   "metadata": {},
   "outputs": [
    {
     "data": {
      "text/plain": [
       "(3, 9, 45)"
      ]
     },
     "execution_count": 27,
     "metadata": {},
     "output_type": "execute_result"
    }
   ],
   "source": [
    "cl.wc(t)"
   ]
  },
  {
   "cell_type": "markdown",
   "metadata": {},
   "source": [
    "Do a grep on the topic to find the message with value `456`:"
   ]
  },
  {
   "cell_type": "code",
   "execution_count": 28,
   "metadata": {},
   "outputs": [
    {
     "name": "stdout",
     "output_type": "stream",
     "text": [
      "Found matching message on partition 0, offset 1.\n"
     ]
    },
    {
     "data": {
      "text/plain": [
       "([{'topic': 'topic_json2',\n",
       "   'headers': None,\n",
       "   'partition': 0,\n",
       "   'offset': 1,\n",
       "   'timestamp': (1, 1742384198782),\n",
       "   'key': '456',\n",
       "   'value': {'bla': 456}}],\n",
       " 1,\n",
       " 3)"
      ]
     },
     "execution_count": 28,
     "metadata": {},
     "output_type": "execute_result"
    }
   ],
   "source": [
    "cl.grep(t, \".*456.*\")"
   ]
  },
  {
   "cell_type": "markdown",
   "metadata": {},
   "source": [
    "## Schema Registry Administration"
   ]
  },
  {
   "cell_type": "markdown",
   "metadata": {},
   "source": [
    "With Kafi, you also have the entire array of the Schema Registry API at your disposal."
   ]
  },
  {
   "cell_type": "markdown",
   "metadata": {},
   "source": [
    "List subjects:"
   ]
  },
  {
   "cell_type": "code",
   "execution_count": 29,
   "metadata": {},
   "outputs": [
    {
     "data": {
      "text/plain": [
       "['topic_avro2-value']"
      ]
     },
     "execution_count": 29,
     "metadata": {},
     "output_type": "execute_result"
    }
   ],
   "source": [
    "cl.sls()"
   ]
  },
  {
   "cell_type": "markdown",
   "metadata": {},
   "source": [
    "Or maybe just those matching a pattern:"
   ]
  },
  {
   "cell_type": "code",
   "execution_count": 30,
   "metadata": {},
   "outputs": [
    {
     "data": {
      "text/plain": [
       "['topic_avro2-value']"
      ]
     },
     "execution_count": 30,
     "metadata": {},
     "output_type": "execute_result"
    }
   ],
   "source": [
    "cl.sls(\"*2-value\")"
   ]
  },
  {
   "cell_type": "markdown",
   "metadata": {},
   "source": [
    "Get all the versions of the subject:"
   ]
  },
  {
   "cell_type": "code",
   "execution_count": 31,
   "metadata": {},
   "outputs": [
    {
     "data": {
      "text/plain": [
       "[1]"
      ]
     },
     "execution_count": 31,
     "metadata": {},
     "output_type": "execute_result"
    }
   ],
   "source": [
    "s = \"topic_avro2-value\"\n",
    "\n",
    "cl.get_versions(s)"
   ]
  },
  {
   "cell_type": "markdown",
   "metadata": {},
   "source": [
    "Get the latest version..."
   ]
  },
  {
   "cell_type": "code",
   "execution_count": 32,
   "metadata": {},
   "outputs": [
    {
     "data": {
      "text/plain": [
       "{'schema_id': 1,\n",
       " 'schema': {'schema_str': '{\"type\":\"record\",\"name\":\"myrecord\",\"fields\":[{\"name\":\"bla\",\"type\":\"int\"}]}',\n",
       "  'schema_type': 'AVRO'},\n",
       " 'subject': 'topic_avro2-value',\n",
       " 'version': 1}"
      ]
     },
     "execution_count": 32,
     "metadata": {},
     "output_type": "execute_result"
    }
   ],
   "source": [
    "cl.get_latest_version(s)"
   ]
  },
  {
   "cell_type": "markdown",
   "metadata": {},
   "source": [
    "Next. We list the subjects, delete our subject, and list the subjects again:"
   ]
  },
  {
   "cell_type": "code",
   "execution_count": 33,
   "metadata": {},
   "outputs": [
    {
     "name": "stdout",
     "output_type": "stream",
     "text": [
      "['topic_avro2-value']\n"
     ]
    },
    {
     "data": {
      "text/plain": [
       "[]"
      ]
     },
     "execution_count": 33,
     "metadata": {},
     "output_type": "execute_result"
    }
   ],
   "source": [
    "print(cl.sls())\n",
    "\n",
    "cl.srm(s)\n",
    "\n",
    "cl.sls()"
   ]
  },
  {
   "cell_type": "markdown",
   "metadata": {},
   "source": [
    "Now let's see if it is only soft-deleted..."
   ]
  },
  {
   "cell_type": "code",
   "execution_count": 34,
   "metadata": {},
   "outputs": [
    {
     "data": {
      "text/plain": [
       "['topic_avro2-value']"
      ]
     },
     "execution_count": 34,
     "metadata": {},
     "output_type": "execute_result"
    }
   ],
   "source": [
    "cl.sls(deleted=True)"
   ]
  },
  {
   "cell_type": "markdown",
   "metadata": {},
   "source": [
    "Aha, so let's kill it off completely."
   ]
  },
  {
   "cell_type": "code",
   "execution_count": 35,
   "metadata": {},
   "outputs": [
    {
     "data": {
      "text/plain": [
       "{'topic_avro2-value': [1]}"
      ]
     },
     "execution_count": 35,
     "metadata": {},
     "output_type": "execute_result"
    }
   ],
   "source": [
    "cl.srm(s, permanent=True)"
   ]
  },
  {
   "cell_type": "markdown",
   "metadata": {},
   "source": [
    "Now it should really be gone."
   ]
  },
  {
   "cell_type": "code",
   "execution_count": 36,
   "metadata": {},
   "outputs": [
    {
     "data": {
      "text/plain": [
       "[]"
      ]
     },
     "execution_count": 36,
     "metadata": {},
     "output_type": "execute_result"
    }
   ],
   "source": [
    "cl.sls(deleted=True)"
   ]
  },
  {
   "cell_type": "markdown",
   "metadata": {},
   "source": [
    "The rest of the Schema Registry API is also supported:\n",
    "\n",
    "* get_schema\n",
    "* register_schema\n",
    "* lookup_schema\n",
    "* get_schema_versions\n",
    "* get_versions\n",
    "* delete_version\n",
    "* get_compatibility\n",
    "* set_compatibility\n",
    "* test_compatibility"
   ]
  },
  {
   "cell_type": "markdown",
   "metadata": {},
   "source": [
    "That's it for the first use case - for doing Kafka administration with Kafi :-)\n",
    "\n",
    "Time to close your eyes and breathe now..."
   ]
  },
  {
   "cell_type": "markdown",
   "metadata": {},
   "source": [
    "## Simple Stream Processing"
   ]
  },
  {
   "cell_type": "markdown",
   "metadata": {},
   "source": [
    "Kafi also offers some functionality for simple stream processing. It's nowhere as expressive and powerful as e.g. Kafka Streams or Flink, or other Python libraries like Quix, Bytewax, Pathway etc. - but for many day-to-day tasks and microservices, this could even be enough."
   ]
  },
  {
   "cell_type": "markdown",
   "metadata": {},
   "source": [
    "Oh, and shameless plug. If you wish to read up on stream processing and streaming databases, and the ongoing convergence of streaming and databases/data warehouses/data lakes (e.g. Tableflow) - there is a book that I can recommend ;-)\n",
    "\n",
    "<img src=\"pix/sdb.jpg\" style=\"width: 30%; height: 30%\"/>\n"
   ]
  },
  {
   "cell_type": "markdown",
   "metadata": {},
   "source": [
    "Back to the topic. Kafi and stream processing. All the functionality for stream processing (and actually, even simpler commands like `cat` or `head`) are based on a functional backbone. As a functional programmer, or a Kafka Streams DSL or Flink DataStream API user, you'll feel at home immediately.\n"
   ]
  },
  {
   "cell_type": "markdown",
   "metadata": {},
   "source": [
    "We start with `foreach`. Here, we simply read the topic message-by-message and print out its key. We could do anything in the lambda expression, API calls for example."
   ]
  },
  {
   "cell_type": "code",
   "execution_count": 37,
   "metadata": {},
   "outputs": [
    {
     "name": "stdout",
     "output_type": "stream",
     "text": [
      "123\n",
      "456\n",
      "789\n"
     ]
    }
   ],
   "source": [
    "t = \"topic_json2\"\n",
    "\n",
    "cl.foreach(t, lambda x: print(x[\"key\"]))"
   ]
  },
  {
   "cell_type": "markdown",
   "metadata": {},
   "source": [
    "Next, we go a bit further and use a `map` function that reads individual messages from a topic, does a \"single message transform\", and returns the result of the transformation."
   ]
  },
  {
   "cell_type": "code",
   "execution_count": 38,
   "metadata": {},
   "outputs": [
    {
     "data": {
      "text/plain": [
       "([{'topic': 'topic_json2',\n",
       "   'headers': None,\n",
       "   'partition': 0,\n",
       "   'offset': 0,\n",
       "   'timestamp': (1, 1742384198782),\n",
       "   'key': '123',\n",
       "   'value': {'bla': 1123}},\n",
       "  {'topic': 'topic_json2',\n",
       "   'headers': None,\n",
       "   'partition': 0,\n",
       "   'offset': 1,\n",
       "   'timestamp': (1, 1742384198782),\n",
       "   'key': '456',\n",
       "   'value': {'bla': 1456}},\n",
       "  {'topic': 'topic_json2',\n",
       "   'headers': None,\n",
       "   'partition': 0,\n",
       "   'offset': 2,\n",
       "   'timestamp': (1, 1742384198782),\n",
       "   'key': '789',\n",
       "   'value': {'bla': 1789}}],\n",
       " 3)"
      ]
     },
     "execution_count": 38,
     "metadata": {},
     "output_type": "execute_result"
    }
   ],
   "source": [
    "def add(x):\n",
    "    x[\"value\"][\"bla\"] += 1000\n",
    "    return x\n",
    "\n",
    "cl.map(t, add)\n"
   ]
  },
  {
   "cell_type": "markdown",
   "metadata": {},
   "source": [
    "Of course we can also write out the result of the transformation to another topic, even on another cluster. So let's do the same transformation as above and write the result out to our Confluent Cloud cluster..."
   ]
  },
  {
   "cell_type": "code",
   "execution_count": 39,
   "metadata": {},
   "outputs": [
    {
     "data": {
      "text/plain": [
       "(3, 3)"
      ]
     },
     "execution_count": 39,
     "metadata": {},
     "output_type": "execute_result"
    }
   ],
   "source": [
    "t2 = \"topic_json_map\"\n",
    "\n",
    "cc.touch(t2)\n",
    "\n",
    "cl.map_to(t, cc, t2, add)\n"
   ]
  },
  {
   "cell_type": "markdown",
   "metadata": {},
   "source": [
    "Let's see if that has worked..."
   ]
  },
  {
   "cell_type": "markdown",
   "metadata": {},
   "source": [
    "The next command, `filter`, is just a special case of `flatmap`. Here, we just want to keep the message with value `456`:"
   ]
  },
  {
   "cell_type": "code",
   "execution_count": null,
   "metadata": {},
   "outputs": [],
   "source": [
    "cl.filter(t, lambda x: x[\"value\"][\"bla\"] == 456)"
   ]
  },
  {
   "cell_type": "markdown",
   "metadata": {},
   "source": [
    "Of course, `filter_to` is also there, and again we write out the result to Confluent Cloud:"
   ]
  },
  {
   "cell_type": "code",
   "execution_count": 40,
   "metadata": {},
   "outputs": [
    {
     "data": {
      "text/plain": [
       "(3, 1)"
      ]
     },
     "execution_count": 40,
     "metadata": {},
     "output_type": "execute_result"
    }
   ],
   "source": [
    "t4 = \"topic_filter\"\n",
    "\n",
    "cc.touch(t4)\n",
    "\n",
    "cl.filter_to(t, cc, t4, lambda x: x[\"value\"][\"bla\"] == 456)"
   ]
  },
  {
   "cell_type": "markdown",
   "metadata": {},
   "source": [
    "One more check on Confluent Cloud..."
   ]
  },
  {
   "cell_type": "markdown",
   "metadata": {},
   "source": [
    "...and continue. `foldl` stands for \"fold left\" in functional programming, and is often also called `reduce` (e.g. in Kafka Streams). It is useful for simple stateful stream processing.\n",
    "\n",
    "In the example below, we do a very simple aggregation: We sum up the values."
   ]
  },
  {
   "cell_type": "code",
   "execution_count": 41,
   "metadata": {},
   "outputs": [
    {
     "data": {
      "text/plain": [
       "(1368, 3)"
      ]
     },
     "execution_count": 41,
     "metadata": {},
     "output_type": "execute_result"
    }
   ],
   "source": [
    "def sum(acc, x):\n",
    "    acc += x[\"value\"][\"bla\"]\n",
    "    return acc\n",
    "\n",
    "cl.foldl(t, sum, 0)"
   ]
  },
  {
   "cell_type": "markdown",
   "metadata": {},
   "source": [
    "And again, Kafi allows you to write out the result of your processing into another topic. On any cluster. It's a bit more involved though. What we do below is to get the value of each message in the source topic on our local cluster, do the aggregation as before, and then remove the `bla` field, and add another field `sum` with the current sum:"
   ]
  },
  {
   "cell_type": "code",
   "execution_count": 42,
   "metadata": {},
   "outputs": [
    {
     "data": {
      "text/plain": [
       "(1368, 3, 3)"
      ]
     },
     "execution_count": 42,
     "metadata": {},
     "output_type": "execute_result"
    }
   ],
   "source": [
    "t5 = \"topic_foldl\"\n",
    "\n",
    "cc.touch(t5)\n",
    "\n",
    "def sum_to(acc, x):\n",
    "    acc += x[\"value\"][\"bla\"]\n",
    "    #\n",
    "    y = dict(x)\n",
    "    del y[\"value\"][\"bla\"]\n",
    "    y[\"value\"][\"sum\"] = acc\n",
    "    #\n",
    "    return acc, [y]\n",
    "\n",
    "cl.foldl_to(t, cc, t5, sum_to, 0)"
   ]
  },
  {
   "cell_type": "markdown",
   "metadata": {},
   "source": [
    "Let's it check out on Confluent Cloud again..."
   ]
  },
  {
   "cell_type": "markdown",
   "metadata": {},
   "source": [
    "...and now for the last simple stream processing function.\n",
    "\n",
    "We join the source topic with the `bla` field from our local Kafka cluster with the new topic with only the `sum` field on Confluent Cloud, and write out the result to our local Kafka cluster to have a topic that has both fields.\n",
    "\n",
    "We use the key of the messages to join them, as e.g. in Kafka Streams (of course, you can override this and also e.g. use a field in the value payload).\n",
    "\n",
    "BTW the join code is inspired by DBSP/Feldera, if you don't know it, have a look at e.g. this super cool blog on their web page:\n",
    "https://www.feldera.com/blog/gpu-stream-dbsp\n"
   ]
  },
  {
   "cell_type": "code",
   "execution_count": 43,
   "metadata": {},
   "outputs": [
    {
     "data": {
      "text/plain": [
       "(({'123': {'topic': 'topic_json2',\n",
       "    'headers': None,\n",
       "    'partition': 0,\n",
       "    'offset': 0,\n",
       "    'timestamp': (1, 1742384198782),\n",
       "    'key': '123',\n",
       "    'value': {'bla': 123}},\n",
       "   '456': {'topic': 'topic_json2',\n",
       "    'headers': None,\n",
       "    'partition': 0,\n",
       "    'offset': 1,\n",
       "    'timestamp': (1, 1742384198782),\n",
       "    'key': '456',\n",
       "    'value': {'bla': 456}},\n",
       "   '789': {'topic': 'topic_json2',\n",
       "    'headers': None,\n",
       "    'partition': 0,\n",
       "    'offset': 2,\n",
       "    'timestamp': (1, 1742384198782),\n",
       "    'key': '789',\n",
       "    'value': {'bla': 789}}},\n",
       "  {}),\n",
       " 3,\n",
       " 3,\n",
       " 3)"
      ]
     },
     "execution_count": 43,
     "metadata": {},
     "output_type": "execute_result"
    }
   ],
   "source": [
    "t6 = \"topic_join\"\n",
    "\n",
    "cl.join_to(t, cc, t5, cl, t6)"
   ]
  },
  {
   "cell_type": "markdown",
   "metadata": {},
   "source": [
    "Let's check the result:"
   ]
  },
  {
   "cell_type": "code",
   "execution_count": 44,
   "metadata": {},
   "outputs": [
    {
     "data": {
      "text/plain": [
       "[{'topic': 'topic_join',\n",
       "  'headers': None,\n",
       "  'partition': 0,\n",
       "  'offset': 0,\n",
       "  'timestamp': (1, 1742385445885),\n",
       "  'key': '123',\n",
       "  'value': {'bla': 123, 'sum': 123}},\n",
       " {'topic': 'topic_join',\n",
       "  'headers': None,\n",
       "  'partition': 0,\n",
       "  'offset': 1,\n",
       "  'timestamp': (1, 1742385445885),\n",
       "  'key': '456',\n",
       "  'value': {'bla': 456, 'sum': 579}},\n",
       " {'topic': 'topic_join',\n",
       "  'headers': None,\n",
       "  'partition': 0,\n",
       "  'offset': 2,\n",
       "  'timestamp': (1, 1742385445885),\n",
       "  'key': '789',\n",
       "  'value': {'bla': 789, 'sum': 1368}}]"
      ]
     },
     "execution_count": 44,
     "metadata": {},
     "output_type": "execute_result"
    }
   ],
   "source": [
    "cl.cat(t6)"
   ]
  },
  {
   "cell_type": "markdown",
   "metadata": {},
   "source": [
    "## Kafka via REST Proxy"
   ]
  },
  {
   "cell_type": "markdown",
   "metadata": {},
   "source": [
    "The entire functionality of Kafi cannot only be used via the direct Kafka protocol, but also via a REST Proxy. This might sometimes be necessary if you have a firewall blocking the Kafka port, or a Private Cluster that you can only access via IP whitelisting."
   ]
  },
  {
   "cell_type": "markdown",
   "metadata": {},
   "source": [
    "How does it work? You just create a `RestProxy` object instead of `Cluster`, and then e.g. do a `ls`:"
   ]
  },
  {
   "cell_type": "code",
   "execution_count": 47,
   "metadata": {},
   "outputs": [
    {
     "data": {
      "text/plain": [
       "['_confluent-command',\n",
       " '_confluent-controlcenter-7-9-0-1-AlertHistoryStore-changelog',\n",
       " '_confluent-controlcenter-7-9-0-1-AlertHistoryStore-repartition',\n",
       " '_confluent-controlcenter-7-9-0-1-Group-ONE_MINUTE-changelog',\n",
       " '_confluent-controlcenter-7-9-0-1-Group-ONE_MINUTE-repartition',\n",
       " '_confluent-controlcenter-7-9-0-1-Group-THREE_HOURS-changelog',\n",
       " '_confluent-controlcenter-7-9-0-1-Group-THREE_HOURS-repartition',\n",
       " '_confluent-controlcenter-7-9-0-1-KSTREAM-OUTEROTHER-0000000106-store-changelog',\n",
       " '_confluent-controlcenter-7-9-0-1-KSTREAM-OUTEROTHER-0000000106-store-repartition',\n",
       " '_confluent-controlcenter-7-9-0-1-KSTREAM-OUTERTHIS-0000000105-store-changelog',\n",
       " '_confluent-controlcenter-7-9-0-1-KSTREAM-OUTERTHIS-0000000105-store-repartition',\n",
       " '_confluent-controlcenter-7-9-0-1-MetricsAggregateStore-changelog',\n",
       " '_confluent-controlcenter-7-9-0-1-MetricsAggregateStore-repartition',\n",
       " '_confluent-controlcenter-7-9-0-1-MonitoringMessageAggregatorWindows-ONE_MINUTE-changelog',\n",
       " '_confluent-controlcenter-7-9-0-1-MonitoringMessageAggregatorWindows-ONE_MINUTE-repartition',\n",
       " '_confluent-controlcenter-7-9-0-1-MonitoringMessageAggregatorWindows-THREE_HOURS-changelog',\n",
       " '_confluent-controlcenter-7-9-0-1-MonitoringMessageAggregatorWindows-THREE_HOURS-repartition',\n",
       " '_confluent-controlcenter-7-9-0-1-MonitoringStream-ONE_MINUTE-changelog',\n",
       " '_confluent-controlcenter-7-9-0-1-MonitoringStream-ONE_MINUTE-repartition',\n",
       " '_confluent-controlcenter-7-9-0-1-MonitoringStream-THREE_HOURS-changelog',\n",
       " '_confluent-controlcenter-7-9-0-1-MonitoringStream-THREE_HOURS-repartition',\n",
       " '_confluent-controlcenter-7-9-0-1-MonitoringTriggerStore-changelog',\n",
       " '_confluent-controlcenter-7-9-0-1-MonitoringTriggerStore-repartition',\n",
       " '_confluent-controlcenter-7-9-0-1-MonitoringVerifierStore-changelog',\n",
       " '_confluent-controlcenter-7-9-0-1-MonitoringVerifierStore-repartition',\n",
       " '_confluent-controlcenter-7-9-0-1-TriggerActionsStore-changelog',\n",
       " '_confluent-controlcenter-7-9-0-1-TriggerActionsStore-repartition',\n",
       " '_confluent-controlcenter-7-9-0-1-TriggerEventsStore-changelog',\n",
       " '_confluent-controlcenter-7-9-0-1-TriggerEventsStore-repartition',\n",
       " '_confluent-controlcenter-7-9-0-1-actual-group-consumption-rekey',\n",
       " '_confluent-controlcenter-7-9-0-1-aggregate-topic-partition-store-changelog',\n",
       " '_confluent-controlcenter-7-9-0-1-aggregate-topic-partition-store-repartition',\n",
       " '_confluent-controlcenter-7-9-0-1-aggregatedTopicPartitionTableWindows-ONE_MINUTE-changelog',\n",
       " '_confluent-controlcenter-7-9-0-1-aggregatedTopicPartitionTableWindows-ONE_MINUTE-repartition',\n",
       " '_confluent-controlcenter-7-9-0-1-aggregatedTopicPartitionTableWindows-THREE_HOURS-changelog',\n",
       " '_confluent-controlcenter-7-9-0-1-aggregatedTopicPartitionTableWindows-THREE_HOURS-repartition',\n",
       " '_confluent-controlcenter-7-9-0-1-cluster-rekey',\n",
       " '_confluent-controlcenter-7-9-0-1-expected-group-consumption-rekey',\n",
       " '_confluent-controlcenter-7-9-0-1-group-aggregate-store-ONE_MINUTE-changelog',\n",
       " '_confluent-controlcenter-7-9-0-1-group-aggregate-store-ONE_MINUTE-repartition',\n",
       " '_confluent-controlcenter-7-9-0-1-group-aggregate-store-THREE_HOURS-changelog',\n",
       " '_confluent-controlcenter-7-9-0-1-group-aggregate-store-THREE_HOURS-repartition',\n",
       " '_confluent-controlcenter-7-9-0-1-group-stream-extension-rekey',\n",
       " '_confluent-controlcenter-7-9-0-1-metrics-trigger-measurement-rekey',\n",
       " '_confluent-controlcenter-7-9-0-1-monitoring-aggregate-rekey-store-changelog',\n",
       " '_confluent-controlcenter-7-9-0-1-monitoring-aggregate-rekey-store-repartition',\n",
       " '_confluent-controlcenter-7-9-0-1-monitoring-message-rekey-store',\n",
       " '_confluent-controlcenter-7-9-0-1-monitoring-trigger-event-rekey',\n",
       " '_confluent-ksql-default__command_topic',\n",
       " '_confluent-metrics',\n",
       " '_confluent-monitoring',\n",
       " '_schemas',\n",
       " 'default_ksql_processing_log',\n",
       " 'docker-connect-configs',\n",
       " 'docker-connect-offsets',\n",
       " 'docker-connect-status',\n",
       " 'topic_avro2',\n",
       " 'topic_join',\n",
       " 'topic_json2']"
      ]
     },
     "execution_count": 47,
     "metadata": {},
     "output_type": "execute_result"
    }
   ],
   "source": [
    "rl = RestProxy(\"local\")\n",
    "rl.ls()"
   ]
  },
  {
   "cell_type": "markdown",
   "metadata": {},
   "source": [
    "Now is this really going over HTTP? Have a look..."
   ]
  },
  {
   "cell_type": "code",
   "execution_count": 48,
   "metadata": {},
   "outputs": [
    {
     "name": "stdout",
     "output_type": "stream",
     "text": [
      "GET Request\n",
      "-\n",
      "URL: http://localhost:8082/v3/clusters/MkU3OEVBNTcwNTJENDM2Qk/topics\n",
      "Headers: {'Content-Type': 'application/json'}\n",
      "\n",
      "GET Response\n",
      "-\n",
      "{\"kind\":\"KafkaTopicList\",\"metadata\":{\"self\":\"http://rest-proxy:8082/v3/clusters/MkU3OEVBNTcwNTJENDM2Qk/topics\",\"next\":null},\"data\":[{\"kind\":\"KafkaTopic\",\"metadata\":{\"self\":\"http://rest-proxy:8082/v3/clusters/MkU3OEVBNTcwNTJENDM2Qk/topics/_confluent-command\",\"resource_name\":\"crn:///kafka=MkU3OEVBNTcwNTJENDM2Qk/topic=_confluent-command\"},\"cluster_id\":\"MkU3OEVBNTcwNTJENDM2Qk\",\"topic_name\":\"_confluent-command\",\"is_internal\":false,\"replication_factor\":1,\"partitions_count\":1,\"partitions\":{\"related\":\"http://rest-proxy:8082/v3/clusters/MkU3OEVBNTcwNTJENDM2Qk/topics/_confluent-command/partitions\"},\"configs\":{\"related\":\"http://rest-proxy:8082/v3/clusters/MkU3OEVBNTcwNTJENDM2Qk/topics/_confluent-command/configs\"},\"partition_reassignments\":{\"related\":\"http://rest-proxy:8082/v3/clusters/MkU3OEVBNTcwNTJENDM2Qk/topics/_confluent-command/partitions/-/reassignment\"},\"authorized_operations\":[]},{\"kind\":\"KafkaTopic\",\"metadata\":{\"self\":\"http://rest-proxy:8082/v3/clusters/MkU3OEVBNTcwNTJENDM2Qk/topics/_confluent-controlcenter-7-9-0-1-AlertHistoryStore-changelog\",\"resource_name\":\"crn:///kafka=MkU3OEVBNTcwNTJENDM2Qk/topic=_confluent-controlcenter-7-9-0-1-AlertHistoryStore-changelog\"},\"cluster_id\":\"MkU3OEVBNTcwNTJENDM2Qk\",\"topic_name\":\"_confluent-controlcenter-7-9-0-1-AlertHistoryStore-changelog\",\"is_internal\":false,\"replication_factor\":1,\"partitions_count\":1,\"partitions\":{\"related\":\"http://rest-proxy:8082/v3/clusters/MkU3OEVBNTcwNTJENDM2Qk/topics/_confluent-controlcenter-7-9-0-1-AlertHistoryStore-changelog/partitions\"},\"configs\":{\"related\":\"http://rest-proxy:8082/v3/clusters/MkU3OEVBNTcwNTJENDM2Qk/topics/_confluent-controlcenter-7-9-0-1-AlertHistoryStore-changelog/configs\"},\"partition_reassignments\":{\"related\":\"http://rest-proxy:8082/v3/clusters/MkU3OEVBNTcwNTJENDM2Qk/topics/_confluent-controlcenter-7-9-0-1-AlertHistoryStore-changelog/partitions/-/reassignment\"},\"authorized_operations\":[]},{\"kind\":\"KafkaTopic\",\"metadata\":{\"self\":\"http://rest-proxy:8082/v3/clusters/MkU3OEVBNTcwNTJENDM2Qk/topics/_confluent-controlcenter-7-9-0-1-AlertHistoryStore-repartition\",\"resource_name\":\"crn:///kafka=MkU3OEVBNTcwNTJENDM2Qk/topic=_confluent-controlcenter-7-9-0-1-AlertHistoryStore-repartition\"},\"cluster_id\":\"MkU3OEVBNTcwNTJENDM2Qk\",\"topic_name\":\"_confluent-controlcenter-7-9-0-1-AlertHistoryStore-repartition\",\"is_internal\":false,\"replication_factor\":1,\"partitions_count\":1,\"partitions\":{\"related\":\"http://rest-proxy:8082/v3/clusters/MkU3OEVBNTcwNTJENDM2Qk/topics/_confluent-controlcenter-7-9-0-1-AlertHistoryStore-repartition/partitions\"},\"configs\":{\"related\":\"http://rest-proxy:8082/v3/clusters/MkU3OEVBNTcwNTJENDM2Qk/topics/_confluent-controlcenter-7-9-0-1-AlertHistoryStore-repartition/configs\"},\"partition_reassignments\":{\"related\":\"http://rest-proxy:8082/v3/clusters/MkU3OEVBNTcwNTJENDM2Qk/topics/_confluent-controlcenter-7-9-0-1-AlertHistoryStore-repartition/partitions/-/reassignment\"},\"authorized_operations\":[]},{\"kind\":\"KafkaTopic\",\"metadata\":{\"self\":\"http://rest-proxy:8082/v3/clusters/MkU3OEVBNTcwNTJENDM2Qk/topics/_confluent-controlcenter-7-9-0-1-Group-ONE_MINUTE-changelog\",\"resource_name\":\"crn:///kafka=MkU3OEVBNTcwNTJENDM2Qk/topic=_confluent-controlcenter-7-9-0-1-Group-ONE_MINUTE-changelog\"},\"cluster_id\":\"MkU3OEVBNTcwNTJENDM2Qk\",\"topic_name\":\"_confluent-controlcenter-7-9-0-1-Group-ONE_MINUTE-changelog\",\"is_internal\":false,\"replication_factor\":1,\"partitions_count\":1,\"partitions\":{\"related\":\"http://rest-proxy:8082/v3/clusters/MkU3OEVBNTcwNTJENDM2Qk/topics/_confluent-controlcenter-7-9-0-1-Group-ONE_MINUTE-changelog/partitions\"},\"configs\":{\"related\":\"http://rest-proxy:8082/v3/clusters/MkU3OEVBNTcwNTJENDM2Qk/topics/_confluent-controlcenter-7-9-0-1-Group-ONE_MINUTE-changelog/configs\"},\"partition_reassignments\":{\"related\":\"http://rest-proxy:8082/v3/clusters/MkU3OEVBNTcwNTJENDM2Qk/topics/_confluent-controlcenter-7-9-0-1-Group-ONE_MINUTE-changelog/partitions/-/reassignment\"},\"authorized_operations\":[]},{\"kind\":\"KafkaTopic\",\"metadata\":{\"self\":\"http://rest-proxy:8082/v3/clusters/MkU3OEVBNTcwNTJENDM2Qk/topics/_confluent-controlcenter-7-9-0-1-Group-ONE_MINUTE-repartition\",\"resource_name\":\"crn:///kafka=MkU3OEVBNTcwNTJENDM2Qk/topic=_confluent-controlcenter-7-9-0-1-Group-ONE_MINUTE-repartition\"},\"cluster_id\":\"MkU3OEVBNTcwNTJENDM2Qk\",\"topic_name\":\"_confluent-controlcenter-7-9-0-1-Group-ONE_MINUTE-repartition\",\"is_internal\":false,\"replication_factor\":1,\"partitions_count\":1,\"partitions\":{\"related\":\"http://rest-proxy:8082/v3/clusters/MkU3OEVBNTcwNTJENDM2Qk/topics/_confluent-controlcenter-7-9-0-1-Group-ONE_MINUTE-repartition/partitions\"},\"configs\":{\"related\":\"http://rest-proxy:8082/v3/clusters/MkU3OEVBNTcwNTJENDM2Qk/topics/_confluent-controlcenter-7-9-0-1-Group-ONE_MINUTE-repartition/configs\"},\"partition_reassignments\":{\"related\":\"http://rest-proxy:8082/v3/clusters/MkU3OEVBNTcwNTJENDM2Qk/topics/_confluent-controlcenter-7-9-0-1-Group-ONE_MINUTE-repartition/partitions/-/reassignment\"},\"authorized_operations\":[]},{\"kind\":\"KafkaTopic\",\"metadata\":{\"self\":\"http://rest-proxy:8082/v3/clusters/MkU3OEVBNTcwNTJENDM2Qk/topics/_confluent-controlcenter-7-9-0-1-Group-THREE_HOURS-changelog\",\"resource_name\":\"crn:///kafka=MkU3OEVBNTcwNTJENDM2Qk/topic=_confluent-controlcenter-7-9-0-1-Group-THREE_HOURS-changelog\"},\"cluster_id\":\"MkU3OEVBNTcwNTJENDM2Qk\",\"topic_name\":\"_confluent-controlcenter-7-9-0-1-Group-THREE_HOURS-changelog\",\"is_internal\":false,\"replication_factor\":1,\"partitions_count\":1,\"partitions\":{\"related\":\"http://rest-proxy:8082/v3/clusters/MkU3OEVBNTcwNTJENDM2Qk/topics/_confluent-controlcenter-7-9-0-1-Group-THREE_HOURS-changelog/partitions\"},\"configs\":{\"related\":\"http://rest-proxy:8082/v3/clusters/MkU3OEVBNTcwNTJENDM2Qk/topics/_confluent-controlcenter-7-9-0-1-Group-THREE_HOURS-changelog/configs\"},\"partition_reassignments\":{\"related\":\"http://rest-proxy:8082/v3/clusters/MkU3OEVBNTcwNTJENDM2Qk/topics/_confluent-controlcenter-7-9-0-1-Group-THREE_HOURS-changelog/partitions/-/reassignment\"},\"authorized_operations\":[]},{\"kind\":\"KafkaTopic\",\"metadata\":{\"self\":\"http://rest-proxy:8082/v3/clusters/MkU3OEVBNTcwNTJENDM2Qk/topics/_confluent-controlcenter-7-9-0-1-Group-THREE_HOURS-repartition\",\"resource_name\":\"crn:///kafka=MkU3OEVBNTcwNTJENDM2Qk/topic=_confluent-controlcenter-7-9-0-1-Group-THREE_HOURS-repartition\"},\"cluster_id\":\"MkU3OEVBNTcwNTJENDM2Qk\",\"topic_name\":\"_confluent-controlcenter-7-9-0-1-Group-THREE_HOURS-repartition\",\"is_internal\":false,\"replication_factor\":1,\"partitions_count\":1,\"partitions\":{\"related\":\"http://rest-proxy:8082/v3/clusters/MkU3OEVBNTcwNTJENDM2Qk/topics/_confluent-controlcenter-7-9-0-1-Group-THREE_HOURS-repartition/partitions\"},\"configs\":{\"related\":\"http://rest-proxy:8082/v3/clusters/MkU3OEVBNTcwNTJENDM2Qk/topics/_confluent-controlcenter-7-9-0-1-Group-THREE_HOURS-repartition/configs\"},\"partition_reassignments\":{\"related\":\"http://rest-proxy:8082/v3/clusters/MkU3OEVBNTcwNTJENDM2Qk/topics/_confluent-controlcenter-7-9-0-1-Group-THREE_HOURS-repartition/partitions/-/reassignment\"},\"authorized_operations\":[]},{\"kind\":\"KafkaTopic\",\"metadata\":{\"self\":\"http://rest-proxy:8082/v3/clusters/MkU3OEVBNTcwNTJENDM2Qk/topics/_confluent-controlcenter-7-9-0-1-KSTREAM-OUTEROTHER-0000000106-store-changelog\",\"resource_name\":\"crn:///kafka=MkU3OEVBNTcwNTJENDM2Qk/topic=_confluent-controlcenter-7-9-0-1-KSTREAM-OUTEROTHER-0000000106-store-changelog\"},\"cluster_id\":\"MkU3OEVBNTcwNTJENDM2Qk\",\"topic_name\":\"_confluent-controlcenter-7-9-0-1-KSTREAM-OUTEROTHER-0000000106-store-changelog\",\"is_internal\":false,\"replication_factor\":1,\"partitions_count\":1,\"partitions\":{\"related\":\"http://rest-proxy:8082/v3/clusters/MkU3OEVBNTcwNTJENDM2Qk/topics/_confluent-controlcenter-7-9-0-1-KSTREAM-OUTEROTHER-0000000106-store-changelog/partitions\"},\"configs\":{\"related\":\"http://rest-proxy:8082/v3/clusters/MkU3OEVBNTcwNTJENDM2Qk/topics/_confluent-controlcenter-7-9-0-1-KSTREAM-OUTEROTHER-0000000106-store-changelog/configs\"},\"partition_reassignments\":{\"related\":\"http://rest-proxy:8082/v3/clusters/MkU3OEVBNTcwNTJENDM2Qk/topics/_confluent-controlcenter-7-9-0-1-KSTREAM-OUTEROTHER-0000000106-store-changelog/partitions/-/reassignment\"},\"authorized_operations\":[]},{\"kind\":\"KafkaTopic\",\"metadata\":{\"self\":\"http://rest-proxy:8082/v3/clusters/MkU3OEVBNTcwNTJENDM2Qk/topics/_confluent-controlcenter-7-9-0-1-KSTREAM-OUTEROTHER-0000000106-store-repartition\",\"resource_name\":\"crn:///kafka=MkU3OEVBNTcwNTJENDM2Qk/topic=_confluent-controlcenter-7-9-0-1-KSTREAM-OUTEROTHER-0000000106-store-repartition\"},\"cluster_id\":\"MkU3OEVBNTcwNTJENDM2Qk\",\"topic_name\":\"_confluent-controlcenter-7-9-0-1-KSTREAM-OUTEROTHER-0000000106-store-repartition\",\"is_internal\":false,\"replication_factor\":1,\"partitions_count\":1,\"partitions\":{\"related\":\"http://rest-proxy:8082/v3/clusters/MkU3OEVBNTcwNTJENDM2Qk/topics/_confluent-controlcenter-7-9-0-1-KSTREAM-OUTEROTHER-0000000106-store-repartition/partitions\"},\"configs\":{\"related\":\"http://rest-proxy:8082/v3/clusters/MkU3OEVBNTcwNTJENDM2Qk/topics/_confluent-controlcenter-7-9-0-1-KSTREAM-OUTEROTHER-0000000106-store-repartition/configs\"},\"partition_reassignments\":{\"related\":\"http://rest-proxy:8082/v3/clusters/MkU3OEVBNTcwNTJENDM2Qk/topics/_confluent-controlcenter-7-9-0-1-KSTREAM-OUTEROTHER-0000000106-store-repartition/partitions/-/reassignment\"},\"authorized_operations\":[]},{\"kind\":\"KafkaTopic\",\"metadata\":{\"self\":\"http://rest-proxy:8082/v3/clusters/MkU3OEVBNTcwNTJENDM2Qk/topics/_confluent-controlcenter-7-9-0-1-KSTREAM-OUTERTHIS-0000000105-store-changelog\",\"resource_name\":\"crn:///kafka=MkU3OEVBNTcwNTJENDM2Qk/topic=_confluent-controlcenter-7-9-0-1-KSTREAM-OUTERTHIS-0000000105-store-changelog\"},\"cluster_id\":\"MkU3OEVBNTcwNTJENDM2Qk\",\"topic_name\":\"_confluent-controlcenter-7-9-0-1-KSTREAM-OUTERTHIS-0000000105-store-changelog\",\"is_internal\":false,\"replication_factor\":1,\"partitions_count\":1,\"partitions\":{\"related\":\"http://rest-proxy:8082/v3/clusters/MkU3OEVBNTcwNTJENDM2Qk/topics/_confluent-controlcenter-7-9-0-1-KSTREAM-OUTERTHIS-0000000105-store-changelog/partitions\"},\"configs\":{\"related\":\"http://rest-proxy:8082/v3/clusters/MkU3OEVBNTcwNTJENDM2Qk/topics/_confluent-controlcenter-7-9-0-1-KSTREAM-OUTERTHIS-0000000105-store-changelog/configs\"},\"partition_reassignments\":{\"related\":\"http://rest-proxy:8082/v3/clusters/MkU3OEVBNTcwNTJENDM2Qk/topics/_confluent-controlcenter-7-9-0-1-KSTREAM-OUTERTHIS-0000000105-store-changelog/partitions/-/reassignment\"},\"authorized_operations\":[]},{\"kind\":\"KafkaTopic\",\"metadata\":{\"self\":\"http://rest-proxy:8082/v3/clusters/MkU3OEVBNTcwNTJENDM2Qk/topics/_confluent-controlcenter-7-9-0-1-KSTREAM-OUTERTHIS-0000000105-store-repartition\",\"resource_name\":\"crn:///kafka=MkU3OEVBNTcwNTJENDM2Qk/topic=_confluent-controlcenter-7-9-0-1-KSTREAM-OUTERTHIS-0000000105-store-repartition\"},\"cluster_id\":\"MkU3OEVBNTcwNTJENDM2Qk\",\"topic_name\":\"_confluent-controlcenter-7-9-0-1-KSTREAM-OUTERTHIS-0000000105-store-repartition\",\"is_internal\":false,\"replication_factor\":1,\"partitions_count\":1,\"partitions\":{\"related\":\"http://rest-proxy:8082/v3/clusters/MkU3OEVBNTcwNTJENDM2Qk/topics/_confluent-controlcenter-7-9-0-1-KSTREAM-OUTERTHIS-0000000105-store-repartition/partitions\"},\"configs\":{\"related\":\"http://rest-proxy:8082/v3/clusters/MkU3OEVBNTcwNTJENDM2Qk/topics/_confluent-controlcenter-7-9-0-1-KSTREAM-OUTERTHIS-0000000105-store-repartition/configs\"},\"partition_reassignments\":{\"related\":\"http://rest-proxy:8082/v3/clusters/MkU3OEVBNTcwNTJENDM2Qk/topics/_confluent-controlcenter-7-9-0-1-KSTREAM-OUTERTHIS-0000000105-store-repartition/partitions/-/reassignment\"},\"authorized_operations\":[]},{\"kind\":\"KafkaTopic\",\"metadata\":{\"self\":\"http://rest-proxy:8082/v3/clusters/MkU3OEVBNTcwNTJENDM2Qk/topics/_confluent-controlcenter-7-9-0-1-MetricsAggregateStore-changelog\",\"resource_name\":\"crn:///kafka=MkU3OEVBNTcwNTJENDM2Qk/topic=_confluent-controlcenter-7-9-0-1-MetricsAggregateStore-changelog\"},\"cluster_id\":\"MkU3OEVBNTcwNTJENDM2Qk\",\"topic_name\":\"_confluent-controlcenter-7-9-0-1-MetricsAggregateStore-changelog\",\"is_internal\":false,\"replication_factor\":1,\"partitions_count\":1,\"partitions\":{\"related\":\"http://rest-proxy:8082/v3/clusters/MkU3OEVBNTcwNTJENDM2Qk/topics/_confluent-controlcenter-7-9-0-1-MetricsAggregateStore-changelog/partitions\"},\"configs\":{\"related\":\"http://rest-proxy:8082/v3/clusters/MkU3OEVBNTcwNTJENDM2Qk/topics/_confluent-controlcenter-7-9-0-1-MetricsAggregateStore-changelog/configs\"},\"partition_reassignments\":{\"related\":\"http://rest-proxy:8082/v3/clusters/MkU3OEVBNTcwNTJENDM2Qk/topics/_confluent-controlcenter-7-9-0-1-MetricsAggregateStore-changelog/partitions/-/reassignment\"},\"authorized_operations\":[]},{\"kind\":\"KafkaTopic\",\"metadata\":{\"self\":\"http://rest-proxy:8082/v3/clusters/MkU3OEVBNTcwNTJENDM2Qk/topics/_confluent-controlcenter-7-9-0-1-MetricsAggregateStore-repartition\",\"resource_name\":\"crn:///kafka=MkU3OEVBNTcwNTJENDM2Qk/topic=_confluent-controlcenter-7-9-0-1-MetricsAggregateStore-repartition\"},\"cluster_id\":\"MkU3OEVBNTcwNTJENDM2Qk\",\"topic_name\":\"_confluent-controlcenter-7-9-0-1-MetricsAggregateStore-repartition\",\"is_internal\":false,\"replication_factor\":1,\"partitions_count\":1,\"partitions\":{\"related\":\"http://rest-proxy:8082/v3/clusters/MkU3OEVBNTcwNTJENDM2Qk/topics/_confluent-controlcenter-7-9-0-1-MetricsAggregateStore-repartition/partitions\"},\"configs\":{\"related\":\"http://rest-proxy:8082/v3/clusters/MkU3OEVBNTcwNTJENDM2Qk/topics/_confluent-controlcenter-7-9-0-1-MetricsAggregateStore-repartition/configs\"},\"partition_reassignments\":{\"related\":\"http://rest-proxy:8082/v3/clusters/MkU3OEVBNTcwNTJENDM2Qk/topics/_confluent-controlcenter-7-9-0-1-MetricsAggregateStore-repartition/partitions/-/reassignment\"},\"authorized_operations\":[]},{\"kind\":\"KafkaTopic\",\"metadata\":{\"self\":\"http://rest-proxy:8082/v3/clusters/MkU3OEVBNTcwNTJENDM2Qk/topics/_confluent-controlcenter-7-9-0-1-MonitoringMessageAggregatorWindows-ONE_MINUTE-changelog\",\"resource_name\":\"crn:///kafka=MkU3OEVBNTcwNTJENDM2Qk/topic=_confluent-controlcenter-7-9-0-1-MonitoringMessageAggregatorWindows-ONE_MINUTE-changelog\"},\"cluster_id\":\"MkU3OEVBNTcwNTJENDM2Qk\",\"topic_name\":\"_confluent-controlcenter-7-9-0-1-MonitoringMessageAggregatorWindows-ONE_MINUTE-changelog\",\"is_internal\":false,\"replication_factor\":1,\"partitions_count\":1,\"partitions\":{\"related\":\"http://rest-proxy:8082/v3/clusters/MkU3OEVBNTcwNTJENDM2Qk/topics/_confluent-controlcenter-7-9-0-1-MonitoringMessageAggregatorWindows-ONE_MINUTE-changelog/partitions\"},\"configs\":{\"related\":\"http://rest-proxy:8082/v3/clusters/MkU3OEVBNTcwNTJENDM2Qk/topics/_confluent-controlcenter-7-9-0-1-MonitoringMessageAggregatorWindows-ONE_MINUTE-changelog/configs\"},\"partition_reassignments\":{\"related\":\"http://rest-proxy:8082/v3/clusters/MkU3OEVBNTcwNTJENDM2Qk/topics/_confluent-controlcenter-7-9-0-1-MonitoringMessageAggregatorWindows-ONE_MINUTE-changelog/partitions/-/reassignment\"},\"authorized_operations\":[]},{\"kind\":\"KafkaTopic\",\"metadata\":{\"self\":\"http://rest-proxy:8082/v3/clusters/MkU3OEVBNTcwNTJENDM2Qk/topics/_confluent-controlcenter-7-9-0-1-MonitoringMessageAggregatorWindows-ONE_MINUTE-repartition\",\"resource_name\":\"crn:///kafka=MkU3OEVBNTcwNTJENDM2Qk/topic=_confluent-controlcenter-7-9-0-1-MonitoringMessageAggregatorWindows-ONE_MINUTE-repartition\"},\"cluster_id\":\"MkU3OEVBNTcwNTJENDM2Qk\",\"topic_name\":\"_confluent-controlcenter-7-9-0-1-MonitoringMessageAggregatorWindows-ONE_MINUTE-repartition\",\"is_internal\":false,\"replication_factor\":1,\"partitions_count\":1,\"partitions\":{\"related\":\"http://rest-proxy:8082/v3/clusters/MkU3OEVBNTcwNTJENDM2Qk/topics/_confluent-controlcenter-7-9-0-1-MonitoringMessageAggregatorWindows-ONE_MINUTE-repartition/partitions\"},\"configs\":{\"related\":\"http://rest-proxy:8082/v3/clusters/MkU3OEVBNTcwNTJENDM2Qk/topics/_confluent-controlcenter-7-9-0-1-MonitoringMessageAggregatorWindows-ONE_MINUTE-repartition/configs\"},\"partition_reassignments\":{\"related\":\"http://rest-proxy:8082/v3/clusters/MkU3OEVBNTcwNTJENDM2Qk/topics/_confluent-controlcenter-7-9-0-1-MonitoringMessageAggregatorWindows-ONE_MINUTE-repartition/partitions/-/reassignment\"},\"authorized_operations\":[]},{\"kind\":\"KafkaTopic\",\"metadata\":{\"self\":\"http://rest-proxy:8082/v3/clusters/MkU3OEVBNTcwNTJENDM2Qk/topics/_confluent-controlcenter-7-9-0-1-MonitoringMessageAggregatorWindows-THREE_HOURS-changelog\",\"resource_name\":\"crn:///kafka=MkU3OEVBNTcwNTJENDM2Qk/topic=_confluent-controlcenter-7-9-0-1-MonitoringMessageAggregatorWindows-THREE_HOURS-changelog\"},\"cluster_id\":\"MkU3OEVBNTcwNTJENDM2Qk\",\"topic_name\":\"_confluent-controlcenter-7-9-0-1-MonitoringMessageAggregatorWindows-THREE_HOURS-changelog\",\"is_internal\":false,\"replication_factor\":1,\"partitions_count\":1,\"partitions\":{\"related\":\"http://rest-proxy:8082/v3/clusters/MkU3OEVBNTcwNTJENDM2Qk/topics/_confluent-controlcenter-7-9-0-1-MonitoringMessageAggregatorWindows-THREE_HOURS-changelog/partitions\"},\"configs\":{\"related\":\"http://rest-proxy:8082/v3/clusters/MkU3OEVBNTcwNTJENDM2Qk/topics/_confluent-controlcenter-7-9-0-1-MonitoringMessageAggregatorWindows-THREE_HOURS-changelog/configs\"},\"partition_reassignments\":{\"related\":\"http://rest-proxy:8082/v3/clusters/MkU3OEVBNTcwNTJENDM2Qk/topics/_confluent-controlcenter-7-9-0-1-MonitoringMessageAggregatorWindows-THREE_HOURS-changelog/partitions/-/reassignment\"},\"authorized_operations\":[]},{\"kind\":\"KafkaTopic\",\"metadata\":{\"self\":\"http://rest-proxy:8082/v3/clusters/MkU3OEVBNTcwNTJENDM2Qk/topics/_confluent-controlcenter-7-9-0-1-MonitoringMessageAggregatorWindows-THREE_HOURS-repartition\",\"resource_name\":\"crn:///kafka=MkU3OEVBNTcwNTJENDM2Qk/topic=_confluent-controlcenter-7-9-0-1-MonitoringMessageAggregatorWindows-THREE_HOURS-repartition\"},\"cluster_id\":\"MkU3OEVBNTcwNTJENDM2Qk\",\"topic_name\":\"_confluent-controlcenter-7-9-0-1-MonitoringMessageAggregatorWindows-THREE_HOURS-repartition\",\"is_internal\":false,\"replication_factor\":1,\"partitions_count\":1,\"partitions\":{\"related\":\"http://rest-proxy:8082/v3/clusters/MkU3OEVBNTcwNTJENDM2Qk/topics/_confluent-controlcenter-7-9-0-1-MonitoringMessageAggregatorWindows-THREE_HOURS-repartition/partitions\"},\"configs\":{\"related\":\"http://rest-proxy:8082/v3/clusters/MkU3OEVBNTcwNTJENDM2Qk/topics/_confluent-controlcenter-7-9-0-1-MonitoringMessageAggregatorWindows-THREE_HOURS-repartition/configs\"},\"partition_reassignments\":{\"related\":\"http://rest-proxy:8082/v3/clusters/MkU3OEVBNTcwNTJENDM2Qk/topics/_confluent-controlcenter-7-9-0-1-MonitoringMessageAggregatorWindows-THREE_HOURS-repartition/partitions/-/reassignment\"},\"authorized_operations\":[]},{\"kind\":\"KafkaTopic\",\"metadata\":{\"self\":\"http://rest-proxy:8082/v3/clusters/MkU3OEVBNTcwNTJENDM2Qk/topics/_confluent-controlcenter-7-9-0-1-MonitoringStream-ONE_MINUTE-changelog\",\"resource_name\":\"crn:///kafka=MkU3OEVBNTcwNTJENDM2Qk/topic=_confluent-controlcenter-7-9-0-1-MonitoringStream-ONE_MINUTE-changelog\"},\"cluster_id\":\"MkU3OEVBNTcwNTJENDM2Qk\",\"topic_name\":\"_confluent-controlcenter-7-9-0-1-MonitoringStream-ONE_MINUTE-changelog\",\"is_internal\":false,\"replication_factor\":1,\"partitions_count\":1,\"partitions\":{\"related\":\"http://rest-proxy:8082/v3/clusters/MkU3OEVBNTcwNTJENDM2Qk/topics/_confluent-controlcenter-7-9-0-1-MonitoringStream-ONE_MINUTE-changelog/partitions\"},\"configs\":{\"related\":\"http://rest-proxy:8082/v3/clusters/MkU3OEVBNTcwNTJENDM2Qk/topics/_confluent-controlcenter-7-9-0-1-MonitoringStream-ONE_MINUTE-changelog/configs\"},\"partition_reassignments\":{\"related\":\"http://rest-proxy:8082/v3/clusters/MkU3OEVBNTcwNTJENDM2Qk/topics/_confluent-controlcenter-7-9-0-1-MonitoringStream-ONE_MINUTE-changelog/partitions/-/reassignment\"},\"authorized_operations\":[]},{\"kind\":\"KafkaTopic\",\"metadata\":{\"self\":\"http://rest-proxy:8082/v3/clusters/MkU3OEVBNTcwNTJENDM2Qk/topics/_confluent-controlcenter-7-9-0-1-MonitoringStream-ONE_MINUTE-repartition\",\"resource_name\":\"crn:///kafka=MkU3OEVBNTcwNTJENDM2Qk/topic=_confluent-controlcenter-7-9-0-1-MonitoringStream-ONE_MINUTE-repartition\"},\"cluster_id\":\"MkU3OEVBNTcwNTJENDM2Qk\",\"topic_name\":\"_confluent-controlcenter-7-9-0-1-MonitoringStream-ONE_MINUTE-repartition\",\"is_internal\":false,\"replication_factor\":1,\"partitions_count\":1,\"partitions\":{\"related\":\"http://rest-proxy:8082/v3/clusters/MkU3OEVBNTcwNTJENDM2Qk/topics/_confluent-controlcenter-7-9-0-1-MonitoringStream-ONE_MINUTE-repartition/partitions\"},\"configs\":{\"related\":\"http://rest-proxy:8082/v3/clusters/MkU3OEVBNTcwNTJENDM2Qk/topics/_confluent-controlcenter-7-9-0-1-MonitoringStream-ONE_MINUTE-repartition/configs\"},\"partition_reassignments\":{\"related\":\"http://rest-proxy:8082/v3/clusters/MkU3OEVBNTcwNTJENDM2Qk/topics/_confluent-controlcenter-7-9-0-1-MonitoringStream-ONE_MINUTE-repartition/partitions/-/reassignment\"},\"authorized_operations\":[]},{\"kind\":\"KafkaTopic\",\"metadata\":{\"self\":\"http://rest-proxy:8082/v3/clusters/MkU3OEVBNTcwNTJENDM2Qk/topics/_confluent-controlcenter-7-9-0-1-MonitoringStream-THREE_HOURS-changelog\",\"resource_name\":\"crn:///kafka=MkU3OEVBNTcwNTJENDM2Qk/topic=_confluent-controlcenter-7-9-0-1-MonitoringStream-THREE_HOURS-changelog\"},\"cluster_id\":\"MkU3OEVBNTcwNTJENDM2Qk\",\"topic_name\":\"_confluent-controlcenter-7-9-0-1-MonitoringStream-THREE_HOURS-changelog\",\"is_internal\":false,\"replication_factor\":1,\"partitions_count\":1,\"partitions\":{\"related\":\"http://rest-proxy:8082/v3/clusters/MkU3OEVBNTcwNTJENDM2Qk/topics/_confluent-controlcenter-7-9-0-1-MonitoringStream-THREE_HOURS-changelog/partitions\"},\"configs\":{\"related\":\"http://rest-proxy:8082/v3/clusters/MkU3OEVBNTcwNTJENDM2Qk/topics/_confluent-controlcenter-7-9-0-1-MonitoringStream-THREE_HOURS-changelog/configs\"},\"partition_reassignments\":{\"related\":\"http://rest-proxy:8082/v3/clusters/MkU3OEVBNTcwNTJENDM2Qk/topics/_confluent-controlcenter-7-9-0-1-MonitoringStream-THREE_HOURS-changelog/partitions/-/reassignment\"},\"authorized_operations\":[]},{\"kind\":\"KafkaTopic\",\"metadata\":{\"self\":\"http://rest-proxy:8082/v3/clusters/MkU3OEVBNTcwNTJENDM2Qk/topics/_confluent-controlcenter-7-9-0-1-MonitoringStream-THREE_HOURS-repartition\",\"resource_name\":\"crn:///kafka=MkU3OEVBNTcwNTJENDM2Qk/topic=_confluent-controlcenter-7-9-0-1-MonitoringStream-THREE_HOURS-repartition\"},\"cluster_id\":\"MkU3OEVBNTcwNTJENDM2Qk\",\"topic_name\":\"_confluent-controlcenter-7-9-0-1-MonitoringStream-THREE_HOURS-repartition\",\"is_internal\":false,\"replication_factor\":1,\"partitions_count\":1,\"partitions\":{\"related\":\"http://rest-proxy:8082/v3/clusters/MkU3OEVBNTcwNTJENDM2Qk/topics/_confluent-controlcenter-7-9-0-1-MonitoringStream-THREE_HOURS-repartition/partitions\"},\"configs\":{\"related\":\"http://rest-proxy:8082/v3/clusters/MkU3OEVBNTcwNTJENDM2Qk/topics/_confluent-controlcenter-7-9-0-1-MonitoringStream-THREE_HOURS-repartition/configs\"},\"partition_reassignments\":{\"related\":\"http://rest-proxy:8082/v3/clusters/MkU3OEVBNTcwNTJENDM2Qk/topics/_confluent-controlcenter-7-9-0-1-MonitoringStream-THREE_HOURS-repartition/partitions/-/reassignment\"},\"authorized_operations\":[]},{\"kind\":\"KafkaTopic\",\"metadata\":{\"self\":\"http://rest-proxy:8082/v3/clusters/MkU3OEVBNTcwNTJENDM2Qk/topics/_confluent-controlcenter-7-9-0-1-MonitoringTriggerStore-changelog\",\"resource_name\":\"crn:///kafka=MkU3OEVBNTcwNTJENDM2Qk/topic=_confluent-controlcenter-7-9-0-1-MonitoringTriggerStore-changelog\"},\"cluster_id\":\"MkU3OEVBNTcwNTJENDM2Qk\",\"topic_name\":\"_confluent-controlcenter-7-9-0-1-MonitoringTriggerStore-changelog\",\"is_internal\":false,\"replication_factor\":1,\"partitions_count\":1,\"partitions\":{\"related\":\"http://rest-proxy:8082/v3/clusters/MkU3OEVBNTcwNTJENDM2Qk/topics/_confluent-controlcenter-7-9-0-1-MonitoringTriggerStore-changelog/partitions\"},\"configs\":{\"related\":\"http://rest-proxy:8082/v3/clusters/MkU3OEVBNTcwNTJENDM2Qk/topics/_confluent-controlcenter-7-9-0-1-MonitoringTriggerStore-changelog/configs\"},\"partition_reassignments\":{\"related\":\"http://rest-proxy:8082/v3/clusters/MkU3OEVBNTcwNTJENDM2Qk/topics/_confluent-controlcenter-7-9-0-1-MonitoringTriggerStore-changelog/partitions/-/reassignment\"},\"authorized_operations\":[]},{\"kind\":\"KafkaTopic\",\"metadata\":{\"self\":\"http://rest-proxy:8082/v3/clusters/MkU3OEVBNTcwNTJENDM2Qk/topics/_confluent-controlcenter-7-9-0-1-MonitoringTriggerStore-repartition\",\"resource_name\":\"crn:///kafka=MkU3OEVBNTcwNTJENDM2Qk/topic=_confluent-controlcenter-7-9-0-1-MonitoringTriggerStore-repartition\"},\"cluster_id\":\"MkU3OEVBNTcwNTJENDM2Qk\",\"topic_name\":\"_confluent-controlcenter-7-9-0-1-MonitoringTriggerStore-repartition\",\"is_internal\":false,\"replication_factor\":1,\"partitions_count\":1,\"partitions\":{\"related\":\"http://rest-proxy:8082/v3/clusters/MkU3OEVBNTcwNTJENDM2Qk/topics/_confluent-controlcenter-7-9-0-1-MonitoringTriggerStore-repartition/partitions\"},\"configs\":{\"related\":\"http://rest-proxy:8082/v3/clusters/MkU3OEVBNTcwNTJENDM2Qk/topics/_confluent-controlcenter-7-9-0-1-MonitoringTriggerStore-repartition/configs\"},\"partition_reassignments\":{\"related\":\"http://rest-proxy:8082/v3/clusters/MkU3OEVBNTcwNTJENDM2Qk/topics/_confluent-controlcenter-7-9-0-1-MonitoringTriggerStore-repartition/partitions/-/reassignment\"},\"authorized_operations\":[]},{\"kind\":\"KafkaTopic\",\"metadata\":{\"self\":\"http://rest-proxy:8082/v3/clusters/MkU3OEVBNTcwNTJENDM2Qk/topics/_confluent-controlcenter-7-9-0-1-MonitoringVerifierStore-changelog\",\"resource_name\":\"crn:///kafka=MkU3OEVBNTcwNTJENDM2Qk/topic=_confluent-controlcenter-7-9-0-1-MonitoringVerifierStore-changelog\"},\"cluster_id\":\"MkU3OEVBNTcwNTJENDM2Qk\",\"topic_name\":\"_confluent-controlcenter-7-9-0-1-MonitoringVerifierStore-changelog\",\"is_internal\":false,\"replication_factor\":1,\"partitions_count\":1,\"partitions\":{\"related\":\"http://rest-proxy:8082/v3/clusters/MkU3OEVBNTcwNTJENDM2Qk/topics/_confluent-controlcenter-7-9-0-1-MonitoringVerifierStore-changelog/partitions\"},\"configs\":{\"related\":\"http://rest-proxy:8082/v3/clusters/MkU3OEVBNTcwNTJENDM2Qk/topics/_confluent-controlcenter-7-9-0-1-MonitoringVerifierStore-changelog/configs\"},\"partition_reassignments\":{\"related\":\"http://rest-proxy:8082/v3/clusters/MkU3OEVBNTcwNTJENDM2Qk/topics/_confluent-controlcenter-7-9-0-1-MonitoringVerifierStore-changelog/partitions/-/reassignment\"},\"authorized_operations\":[]},{\"kind\":\"KafkaTopic\",\"metadata\":{\"self\":\"http://rest-proxy:8082/v3/clusters/MkU3OEVBNTcwNTJENDM2Qk/topics/_confluent-controlcenter-7-9-0-1-MonitoringVerifierStore-repartition\",\"resource_name\":\"crn:///kafka=MkU3OEVBNTcwNTJENDM2Qk/topic=_confluent-controlcenter-7-9-0-1-MonitoringVerifierStore-repartition\"},\"cluster_id\":\"MkU3OEVBNTcwNTJENDM2Qk\",\"topic_name\":\"_confluent-controlcenter-7-9-0-1-MonitoringVerifierStore-repartition\",\"is_internal\":false,\"replication_factor\":1,\"partitions_count\":1,\"partitions\":{\"related\":\"http://rest-proxy:8082/v3/clusters/MkU3OEVBNTcwNTJENDM2Qk/topics/_confluent-controlcenter-7-9-0-1-MonitoringVerifierStore-repartition/partitions\"},\"configs\":{\"related\":\"http://rest-proxy:8082/v3/clusters/MkU3OEVBNTcwNTJENDM2Qk/topics/_confluent-controlcenter-7-9-0-1-MonitoringVerifierStore-repartition/configs\"},\"partition_reassignments\":{\"related\":\"http://rest-proxy:8082/v3/clusters/MkU3OEVBNTcwNTJENDM2Qk/topics/_confluent-controlcenter-7-9-0-1-MonitoringVerifierStore-repartition/partitions/-/reassignment\"},\"authorized_operations\":[]},{\"kind\":\"KafkaTopic\",\"metadata\":{\"self\":\"http://rest-proxy:8082/v3/clusters/MkU3OEVBNTcwNTJENDM2Qk/topics/_confluent-controlcenter-7-9-0-1-TriggerActionsStore-changelog\",\"resource_name\":\"crn:///kafka=MkU3OEVBNTcwNTJENDM2Qk/topic=_confluent-controlcenter-7-9-0-1-TriggerActionsStore-changelog\"},\"cluster_id\":\"MkU3OEVBNTcwNTJENDM2Qk\",\"topic_name\":\"_confluent-controlcenter-7-9-0-1-TriggerActionsStore-changelog\",\"is_internal\":false,\"replication_factor\":1,\"partitions_count\":1,\"partitions\":{\"related\":\"http://rest-proxy:8082/v3/clusters/MkU3OEVBNTcwNTJENDM2Qk/topics/_confluent-controlcenter-7-9-0-1-TriggerActionsStore-changelog/partitions\"},\"configs\":{\"related\":\"http://rest-proxy:8082/v3/clusters/MkU3OEVBNTcwNTJENDM2Qk/topics/_confluent-controlcenter-7-9-0-1-TriggerActionsStore-changelog/configs\"},\"partition_reassignments\":{\"related\":\"http://rest-proxy:8082/v3/clusters/MkU3OEVBNTcwNTJENDM2Qk/topics/_confluent-controlcenter-7-9-0-1-TriggerActionsStore-changelog/partitions/-/reassignment\"},\"authorized_operations\":[]},{\"kind\":\"KafkaTopic\",\"metadata\":{\"self\":\"http://rest-proxy:8082/v3/clusters/MkU3OEVBNTcwNTJENDM2Qk/topics/_confluent-controlcenter-7-9-0-1-TriggerActionsStore-repartition\",\"resource_name\":\"crn:///kafka=MkU3OEVBNTcwNTJENDM2Qk/topic=_confluent-controlcenter-7-9-0-1-TriggerActionsStore-repartition\"},\"cluster_id\":\"MkU3OEVBNTcwNTJENDM2Qk\",\"topic_name\":\"_confluent-controlcenter-7-9-0-1-TriggerActionsStore-repartition\",\"is_internal\":false,\"replication_factor\":1,\"partitions_count\":1,\"partitions\":{\"related\":\"http://rest-proxy:8082/v3/clusters/MkU3OEVBNTcwNTJENDM2Qk/topics/_confluent-controlcenter-7-9-0-1-TriggerActionsStore-repartition/partitions\"},\"configs\":{\"related\":\"http://rest-proxy:8082/v3/clusters/MkU3OEVBNTcwNTJENDM2Qk/topics/_confluent-controlcenter-7-9-0-1-TriggerActionsStore-repartition/configs\"},\"partition_reassignments\":{\"related\":\"http://rest-proxy:8082/v3/clusters/MkU3OEVBNTcwNTJENDM2Qk/topics/_confluent-controlcenter-7-9-0-1-TriggerActionsStore-repartition/partitions/-/reassignment\"},\"authorized_operations\":[]},{\"kind\":\"KafkaTopic\",\"metadata\":{\"self\":\"http://rest-proxy:8082/v3/clusters/MkU3OEVBNTcwNTJENDM2Qk/topics/_confluent-controlcenter-7-9-0-1-TriggerEventsStore-changelog\",\"resource_name\":\"crn:///kafka=MkU3OEVBNTcwNTJENDM2Qk/topic=_confluent-controlcenter-7-9-0-1-TriggerEventsStore-changelog\"},\"cluster_id\":\"MkU3OEVBNTcwNTJENDM2Qk\",\"topic_name\":\"_confluent-controlcenter-7-9-0-1-TriggerEventsStore-changelog\",\"is_internal\":false,\"replication_factor\":1,\"partitions_count\":1,\"partitions\":{\"related\":\"http://rest-proxy:8082/v3/clusters/MkU3OEVBNTcwNTJENDM2Qk/topics/_confluent-controlcenter-7-9-0-1-TriggerEventsStore-changelog/partitions\"},\"configs\":{\"related\":\"http://rest-proxy:8082/v3/clusters/MkU3OEVBNTcwNTJENDM2Qk/topics/_confluent-controlcenter-7-9-0-1-TriggerEventsStore-changelog/configs\"},\"partition_reassignments\":{\"related\":\"http://rest-proxy:8082/v3/clusters/MkU3OEVBNTcwNTJENDM2Qk/topics/_confluent-controlcenter-7-9-0-1-TriggerEventsStore-changelog/partitions/-/reassignment\"},\"authorized_operations\":[]},{\"kind\":\"KafkaTopic\",\"metadata\":{\"self\":\"http://rest-proxy:8082/v3/clusters/MkU3OEVBNTcwNTJENDM2Qk/topics/_confluent-controlcenter-7-9-0-1-TriggerEventsStore-repartition\",\"resource_name\":\"crn:///kafka=MkU3OEVBNTcwNTJENDM2Qk/topic=_confluent-controlcenter-7-9-0-1-TriggerEventsStore-repartition\"},\"cluster_id\":\"MkU3OEVBNTcwNTJENDM2Qk\",\"topic_name\":\"_confluent-controlcenter-7-9-0-1-TriggerEventsStore-repartition\",\"is_internal\":false,\"replication_factor\":1,\"partitions_count\":1,\"partitions\":{\"related\":\"http://rest-proxy:8082/v3/clusters/MkU3OEVBNTcwNTJENDM2Qk/topics/_confluent-controlcenter-7-9-0-1-TriggerEventsStore-repartition/partitions\"},\"configs\":{\"related\":\"http://rest-proxy:8082/v3/clusters/MkU3OEVBNTcwNTJENDM2Qk/topics/_confluent-controlcenter-7-9-0-1-TriggerEventsStore-repartition/configs\"},\"partition_reassignments\":{\"related\":\"http://rest-proxy:8082/v3/clusters/MkU3OEVBNTcwNTJENDM2Qk/topics/_confluent-controlcenter-7-9-0-1-TriggerEventsStore-repartition/partitions/-/reassignment\"},\"authorized_operations\":[]},{\"kind\":\"KafkaTopic\",\"metadata\":{\"self\":\"http://rest-proxy:8082/v3/clusters/MkU3OEVBNTcwNTJENDM2Qk/topics/_confluent-controlcenter-7-9-0-1-actual-group-consumption-rekey\",\"resource_name\":\"crn:///kafka=MkU3OEVBNTcwNTJENDM2Qk/topic=_confluent-controlcenter-7-9-0-1-actual-group-consumption-rekey\"},\"cluster_id\":\"MkU3OEVBNTcwNTJENDM2Qk\",\"topic_name\":\"_confluent-controlcenter-7-9-0-1-actual-group-consumption-rekey\",\"is_internal\":false,\"replication_factor\":1,\"partitions_count\":1,\"partitions\":{\"related\":\"http://rest-proxy:8082/v3/clusters/MkU3OEVBNTcwNTJENDM2Qk/topics/_confluent-controlcenter-7-9-0-1-actual-group-consumption-rekey/partitions\"},\"configs\":{\"related\":\"http://rest-proxy:8082/v3/clusters/MkU3OEVBNTcwNTJENDM2Qk/topics/_confluent-controlcenter-7-9-0-1-actual-group-consumption-rekey/configs\"},\"partition_reassignments\":{\"related\":\"http://rest-proxy:8082/v3/clusters/MkU3OEVBNTcwNTJENDM2Qk/topics/_confluent-controlcenter-7-9-0-1-actual-group-consumption-rekey/partitions/-/reassignment\"},\"authorized_operations\":[]},{\"kind\":\"KafkaTopic\",\"metadata\":{\"self\":\"http://rest-proxy:8082/v3/clusters/MkU3OEVBNTcwNTJENDM2Qk/topics/_confluent-controlcenter-7-9-0-1-aggregate-topic-partition-store-changelog\",\"resource_name\":\"crn:///kafka=MkU3OEVBNTcwNTJENDM2Qk/topic=_confluent-controlcenter-7-9-0-1-aggregate-topic-partition-store-changelog\"},\"cluster_id\":\"MkU3OEVBNTcwNTJENDM2Qk\",\"topic_name\":\"_confluent-controlcenter-7-9-0-1-aggregate-topic-partition-store-changelog\",\"is_internal\":false,\"replication_factor\":1,\"partitions_count\":1,\"partitions\":{\"related\":\"http://rest-proxy:8082/v3/clusters/MkU3OEVBNTcwNTJENDM2Qk/topics/_confluent-controlcenter-7-9-0-1-aggregate-topic-partition-store-changelog/partitions\"},\"configs\":{\"related\":\"http://rest-proxy:8082/v3/clusters/MkU3OEVBNTcwNTJENDM2Qk/topics/_confluent-controlcenter-7-9-0-1-aggregate-topic-partition-store-changelog/configs\"},\"partition_reassignments\":{\"related\":\"http://rest-proxy:8082/v3/clusters/MkU3OEVBNTcwNTJENDM2Qk/topics/_confluent-controlcenter-7-9-0-1-aggregate-topic-partition-store-changelog/partitions/-/reassignment\"},\"authorized_operations\":[]},{\"kind\":\"KafkaTopic\",\"metadata\":{\"self\":\"http://rest-proxy:8082/v3/clusters/MkU3OEVBNTcwNTJENDM2Qk/topics/_confluent-controlcenter-7-9-0-1-aggregate-topic-partition-store-repartition\",\"resource_name\":\"crn:///kafka=MkU3OEVBNTcwNTJENDM2Qk/topic=_confluent-controlcenter-7-9-0-1-aggregate-topic-partition-store-repartition\"},\"cluster_id\":\"MkU3OEVBNTcwNTJENDM2Qk\",\"topic_name\":\"_confluent-controlcenter-7-9-0-1-aggregate-topic-partition-store-repartition\",\"is_internal\":false,\"replication_factor\":1,\"partitions_count\":1,\"partitions\":{\"related\":\"http://rest-proxy:8082/v3/clusters/MkU3OEVBNTcwNTJENDM2Qk/topics/_confluent-controlcenter-7-9-0-1-aggregate-topic-partition-store-repartition/partitions\"},\"configs\":{\"related\":\"http://rest-proxy:8082/v3/clusters/MkU3OEVBNTcwNTJENDM2Qk/topics/_confluent-controlcenter-7-9-0-1-aggregate-topic-partition-store-repartition/configs\"},\"partition_reassignments\":{\"related\":\"http://rest-proxy:8082/v3/clusters/MkU3OEVBNTcwNTJENDM2Qk/topics/_confluent-controlcenter-7-9-0-1-aggregate-topic-partition-store-repartition/partitions/-/reassignment\"},\"authorized_operations\":[]},{\"kind\":\"KafkaTopic\",\"metadata\":{\"self\":\"http://rest-proxy:8082/v3/clusters/MkU3OEVBNTcwNTJENDM2Qk/topics/_confluent-controlcenter-7-9-0-1-aggregatedTopicPartitionTableWindows-ONE_MINUTE-changelog\",\"resource_name\":\"crn:///kafka=MkU3OEVBNTcwNTJENDM2Qk/topic=_confluent-controlcenter-7-9-0-1-aggregatedTopicPartitionTableWindows-ONE_MINUTE-changelog\"},\"cluster_id\":\"MkU3OEVBNTcwNTJENDM2Qk\",\"topic_name\":\"_confluent-controlcenter-7-9-0-1-aggregatedTopicPartitionTableWindows-ONE_MINUTE-changelog\",\"is_internal\":false,\"replication_factor\":1,\"partitions_count\":1,\"partitions\":{\"related\":\"http://rest-proxy:8082/v3/clusters/MkU3OEVBNTcwNTJENDM2Qk/topics/_confluent-controlcenter-7-9-0-1-aggregatedTopicPartitionTableWindows-ONE_MINUTE-changelog/partitions\"},\"configs\":{\"related\":\"http://rest-proxy:8082/v3/clusters/MkU3OEVBNTcwNTJENDM2Qk/topics/_confluent-controlcenter-7-9-0-1-aggregatedTopicPartitionTableWindows-ONE_MINUTE-changelog/configs\"},\"partition_reassignments\":{\"related\":\"http://rest-proxy:8082/v3/clusters/MkU3OEVBNTcwNTJENDM2Qk/topics/_confluent-controlcenter-7-9-0-1-aggregatedTopicPartitionTableWindows-ONE_MINUTE-changelog/partitions/-/reassignment\"},\"authorized_operations\":[]},{\"kind\":\"KafkaTopic\",\"metadata\":{\"self\":\"http://rest-proxy:8082/v3/clusters/MkU3OEVBNTcwNTJENDM2Qk/topics/_confluent-controlcenter-7-9-0-1-aggregatedTopicPartitionTableWindows-ONE_MINUTE-repartition\",\"resource_name\":\"crn:///kafka=MkU3OEVBNTcwNTJENDM2Qk/topic=_confluent-controlcenter-7-9-0-1-aggregatedTopicPartitionTableWindows-ONE_MINUTE-repartition\"},\"cluster_id\":\"MkU3OEVBNTcwNTJENDM2Qk\",\"topic_name\":\"_confluent-controlcenter-7-9-0-1-aggregatedTopicPartitionTableWindows-ONE_MINUTE-repartition\",\"is_internal\":false,\"replication_factor\":1,\"partitions_count\":1,\"partitions\":{\"related\":\"http://rest-proxy:8082/v3/clusters/MkU3OEVBNTcwNTJENDM2Qk/topics/_confluent-controlcenter-7-9-0-1-aggregatedTopicPartitionTableWindows-ONE_MINUTE-repartition/partitions\"},\"configs\":{\"related\":\"http://rest-proxy:8082/v3/clusters/MkU3OEVBNTcwNTJENDM2Qk/topics/_confluent-controlcenter-7-9-0-1-aggregatedTopicPartitionTableWindows-ONE_MINUTE-repartition/configs\"},\"partition_reassignments\":{\"related\":\"http://rest-proxy:8082/v3/clusters/MkU3OEVBNTcwNTJENDM2Qk/topics/_confluent-controlcenter-7-9-0-1-aggregatedTopicPartitionTableWindows-ONE_MINUTE-repartition/partitions/-/reassignment\"},\"authorized_operations\":[]},{\"kind\":\"KafkaTopic\",\"metadata\":{\"self\":\"http://rest-proxy:8082/v3/clusters/MkU3OEVBNTcwNTJENDM2Qk/topics/_confluent-controlcenter-7-9-0-1-aggregatedTopicPartitionTableWindows-THREE_HOURS-changelog\",\"resource_name\":\"crn:///kafka=MkU3OEVBNTcwNTJENDM2Qk/topic=_confluent-controlcenter-7-9-0-1-aggregatedTopicPartitionTableWindows-THREE_HOURS-changelog\"},\"cluster_id\":\"MkU3OEVBNTcwNTJENDM2Qk\",\"topic_name\":\"_confluent-controlcenter-7-9-0-1-aggregatedTopicPartitionTableWindows-THREE_HOURS-changelog\",\"is_internal\":false,\"replication_factor\":1,\"partitions_count\":1,\"partitions\":{\"related\":\"http://rest-proxy:8082/v3/clusters/MkU3OEVBNTcwNTJENDM2Qk/topics/_confluent-controlcenter-7-9-0-1-aggregatedTopicPartitionTableWindows-THREE_HOURS-changelog/partitions\"},\"configs\":{\"related\":\"http://rest-proxy:8082/v3/clusters/MkU3OEVBNTcwNTJENDM2Qk/topics/_confluent-controlcenter-7-9-0-1-aggregatedTopicPartitionTableWindows-THREE_HOURS-changelog/configs\"},\"partition_reassignments\":{\"related\":\"http://rest-proxy:8082/v3/clusters/MkU3OEVBNTcwNTJENDM2Qk/topics/_confluent-controlcenter-7-9-0-1-aggregatedTopicPartitionTableWindows-THREE_HOURS-changelog/partitions/-/reassignment\"},\"authorized_operations\":[]},{\"kind\":\"KafkaTopic\",\"metadata\":{\"self\":\"http://rest-proxy:8082/v3/clusters/MkU3OEVBNTcwNTJENDM2Qk/topics/_confluent-controlcenter-7-9-0-1-aggregatedTopicPartitionTableWindows-THREE_HOURS-repartition\",\"resource_name\":\"crn:///kafka=MkU3OEVBNTcwNTJENDM2Qk/topic=_confluent-controlcenter-7-9-0-1-aggregatedTopicPartitionTableWindows-THREE_HOURS-repartition\"},\"cluster_id\":\"MkU3OEVBNTcwNTJENDM2Qk\",\"topic_name\":\"_confluent-controlcenter-7-9-0-1-aggregatedTopicPartitionTableWindows-THREE_HOURS-repartition\",\"is_internal\":false,\"replication_factor\":1,\"partitions_count\":1,\"partitions\":{\"related\":\"http://rest-proxy:8082/v3/clusters/MkU3OEVBNTcwNTJENDM2Qk/topics/_confluent-controlcenter-7-9-0-1-aggregatedTopicPartitionTableWindows-THREE_HOURS-repartition/partitions\"},\"configs\":{\"related\":\"http://rest-proxy:8082/v3/clusters/MkU3OEVBNTcwNTJENDM2Qk/topics/_confluent-controlcenter-7-9-0-1-aggregatedTopicPartitionTableWindows-THREE_HOURS-repartition/configs\"},\"partition_reassignments\":{\"related\":\"http://rest-proxy:8082/v3/clusters/MkU3OEVBNTcwNTJENDM2Qk/topics/_confluent-controlcenter-7-9-0-1-aggregatedTopicPartitionTableWindows-THREE_HOURS-repartition/partitions/-/reassignment\"},\"authorized_operations\":[]},{\"kind\":\"KafkaTopic\",\"metadata\":{\"self\":\"http://rest-proxy:8082/v3/clusters/MkU3OEVBNTcwNTJENDM2Qk/topics/_confluent-controlcenter-7-9-0-1-cluster-rekey\",\"resource_name\":\"crn:///kafka=MkU3OEVBNTcwNTJENDM2Qk/topic=_confluent-controlcenter-7-9-0-1-cluster-rekey\"},\"cluster_id\":\"MkU3OEVBNTcwNTJENDM2Qk\",\"topic_name\":\"_confluent-controlcenter-7-9-0-1-cluster-rekey\",\"is_internal\":false,\"replication_factor\":1,\"partitions_count\":1,\"partitions\":{\"related\":\"http://rest-proxy:8082/v3/clusters/MkU3OEVBNTcwNTJENDM2Qk/topics/_confluent-controlcenter-7-9-0-1-cluster-rekey/partitions\"},\"configs\":{\"related\":\"http://rest-proxy:8082/v3/clusters/MkU3OEVBNTcwNTJENDM2Qk/topics/_confluent-controlcenter-7-9-0-1-cluster-rekey/configs\"},\"partition_reassignments\":{\"related\":\"http://rest-proxy:8082/v3/clusters/MkU3OEVBNTcwNTJENDM2Qk/topics/_confluent-controlcenter-7-9-0-1-cluster-rekey/partitions/-/reassignment\"},\"authorized_operations\":[]},{\"kind\":\"KafkaTopic\",\"metadata\":{\"self\":\"http://rest-proxy:8082/v3/clusters/MkU3OEVBNTcwNTJENDM2Qk/topics/_confluent-controlcenter-7-9-0-1-expected-group-consumption-rekey\",\"resource_name\":\"crn:///kafka=MkU3OEVBNTcwNTJENDM2Qk/topic=_confluent-controlcenter-7-9-0-1-expected-group-consumption-rekey\"},\"cluster_id\":\"MkU3OEVBNTcwNTJENDM2Qk\",\"topic_name\":\"_confluent-controlcenter-7-9-0-1-expected-group-consumption-rekey\",\"is_internal\":false,\"replication_factor\":1,\"partitions_count\":1,\"partitions\":{\"related\":\"http://rest-proxy:8082/v3/clusters/MkU3OEVBNTcwNTJENDM2Qk/topics/_confluent-controlcenter-7-9-0-1-expected-group-consumption-rekey/partitions\"},\"configs\":{\"related\":\"http://rest-proxy:8082/v3/clusters/MkU3OEVBNTcwNTJENDM2Qk/topics/_confluent-controlcenter-7-9-0-1-expected-group-consumption-rekey/configs\"},\"partition_reassignments\":{\"related\":\"http://rest-proxy:8082/v3/clusters/MkU3OEVBNTcwNTJENDM2Qk/topics/_confluent-controlcenter-7-9-0-1-expected-group-consumption-rekey/partitions/-/reassignment\"},\"authorized_operations\":[]},{\"kind\":\"KafkaTopic\",\"metadata\":{\"self\":\"http://rest-proxy:8082/v3/clusters/MkU3OEVBNTcwNTJENDM2Qk/topics/_confluent-controlcenter-7-9-0-1-group-aggregate-store-ONE_MINUTE-changelog\",\"resource_name\":\"crn:///kafka=MkU3OEVBNTcwNTJENDM2Qk/topic=_confluent-controlcenter-7-9-0-1-group-aggregate-store-ONE_MINUTE-changelog\"},\"cluster_id\":\"MkU3OEVBNTcwNTJENDM2Qk\",\"topic_name\":\"_confluent-controlcenter-7-9-0-1-group-aggregate-store-ONE_MINUTE-changelog\",\"is_internal\":false,\"replication_factor\":1,\"partitions_count\":1,\"partitions\":{\"related\":\"http://rest-proxy:8082/v3/clusters/MkU3OEVBNTcwNTJENDM2Qk/topics/_confluent-controlcenter-7-9-0-1-group-aggregate-store-ONE_MINUTE-changelog/partitions\"},\"configs\":{\"related\":\"http://rest-proxy:8082/v3/clusters/MkU3OEVBNTcwNTJENDM2Qk/topics/_confluent-controlcenter-7-9-0-1-group-aggregate-store-ONE_MINUTE-changelog/configs\"},\"partition_reassignments\":{\"related\":\"http://rest-proxy:8082/v3/clusters/MkU3OEVBNTcwNTJENDM2Qk/topics/_confluent-controlcenter-7-9-0-1-group-aggregate-store-ONE_MINUTE-changelog/partitions/-/reassignment\"},\"authorized_operations\":[]},{\"kind\":\"KafkaTopic\",\"metadata\":{\"self\":\"http://rest-proxy:8082/v3/clusters/MkU3OEVBNTcwNTJENDM2Qk/topics/_confluent-controlcenter-7-9-0-1-group-aggregate-store-ONE_MINUTE-repartition\",\"resource_name\":\"crn:///kafka=MkU3OEVBNTcwNTJENDM2Qk/topic=_confluent-controlcenter-7-9-0-1-group-aggregate-store-ONE_MINUTE-repartition\"},\"cluster_id\":\"MkU3OEVBNTcwNTJENDM2Qk\",\"topic_name\":\"_confluent-controlcenter-7-9-0-1-group-aggregate-store-ONE_MINUTE-repartition\",\"is_internal\":false,\"replication_factor\":1,\"partitions_count\":1,\"partitions\":{\"related\":\"http://rest-proxy:8082/v3/clusters/MkU3OEVBNTcwNTJENDM2Qk/topics/_confluent-controlcenter-7-9-0-1-group-aggregate-store-ONE_MINUTE-repartition/partitions\"},\"configs\":{\"related\":\"http://rest-proxy:8082/v3/clusters/MkU3OEVBNTcwNTJENDM2Qk/topics/_confluent-controlcenter-7-9-0-1-group-aggregate-store-ONE_MINUTE-repartition/configs\"},\"partition_reassignments\":{\"related\":\"http://rest-proxy:8082/v3/clusters/MkU3OEVBNTcwNTJENDM2Qk/topics/_confluent-controlcenter-7-9-0-1-group-aggregate-store-ONE_MINUTE-repartition/partitions/-/reassignment\"},\"authorized_operations\":[]},{\"kind\":\"KafkaTopic\",\"metadata\":{\"self\":\"http://rest-proxy:8082/v3/clusters/MkU3OEVBNTcwNTJENDM2Qk/topics/_confluent-controlcenter-7-9-0-1-group-aggregate-store-THREE_HOURS-changelog\",\"resource_name\":\"crn:///kafka=MkU3OEVBNTcwNTJENDM2Qk/topic=_confluent-controlcenter-7-9-0-1-group-aggregate-store-THREE_HOURS-changelog\"},\"cluster_id\":\"MkU3OEVBNTcwNTJENDM2Qk\",\"topic_name\":\"_confluent-controlcenter-7-9-0-1-group-aggregate-store-THREE_HOURS-changelog\",\"is_internal\":false,\"replication_factor\":1,\"partitions_count\":1,\"partitions\":{\"related\":\"http://rest-proxy:8082/v3/clusters/MkU3OEVBNTcwNTJENDM2Qk/topics/_confluent-controlcenter-7-9-0-1-group-aggregate-store-THREE_HOURS-changelog/partitions\"},\"configs\":{\"related\":\"http://rest-proxy:8082/v3/clusters/MkU3OEVBNTcwNTJENDM2Qk/topics/_confluent-controlcenter-7-9-0-1-group-aggregate-store-THREE_HOURS-changelog/configs\"},\"partition_reassignments\":{\"related\":\"http://rest-proxy:8082/v3/clusters/MkU3OEVBNTcwNTJENDM2Qk/topics/_confluent-controlcenter-7-9-0-1-group-aggregate-store-THREE_HOURS-changelog/partitions/-/reassignment\"},\"authorized_operations\":[]},{\"kind\":\"KafkaTopic\",\"metadata\":{\"self\":\"http://rest-proxy:8082/v3/clusters/MkU3OEVBNTcwNTJENDM2Qk/topics/_confluent-controlcenter-7-9-0-1-group-aggregate-store-THREE_HOURS-repartition\",\"resource_name\":\"crn:///kafka=MkU3OEVBNTcwNTJENDM2Qk/topic=_confluent-controlcenter-7-9-0-1-group-aggregate-store-THREE_HOURS-repartition\"},\"cluster_id\":\"MkU3OEVBNTcwNTJENDM2Qk\",\"topic_name\":\"_confluent-controlcenter-7-9-0-1-group-aggregate-store-THREE_HOURS-repartition\",\"is_internal\":false,\"replication_factor\":1,\"partitions_count\":1,\"partitions\":{\"related\":\"http://rest-proxy:8082/v3/clusters/MkU3OEVBNTcwNTJENDM2Qk/topics/_confluent-controlcenter-7-9-0-1-group-aggregate-store-THREE_HOURS-repartition/partitions\"},\"configs\":{\"related\":\"http://rest-proxy:8082/v3/clusters/MkU3OEVBNTcwNTJENDM2Qk/topics/_confluent-controlcenter-7-9-0-1-group-aggregate-store-THREE_HOURS-repartition/configs\"},\"partition_reassignments\":{\"related\":\"http://rest-proxy:8082/v3/clusters/MkU3OEVBNTcwNTJENDM2Qk/topics/_confluent-controlcenter-7-9-0-1-group-aggregate-store-THREE_HOURS-repartition/partitions/-/reassignment\"},\"authorized_operations\":[]},{\"kind\":\"KafkaTopic\",\"metadata\":{\"self\":\"http://rest-proxy:8082/v3/clusters/MkU3OEVBNTcwNTJENDM2Qk/topics/_confluent-controlcenter-7-9-0-1-group-stream-extension-rekey\",\"resource_name\":\"crn:///kafka=MkU3OEVBNTcwNTJENDM2Qk/topic=_confluent-controlcenter-7-9-0-1-group-stream-extension-rekey\"},\"cluster_id\":\"MkU3OEVBNTcwNTJENDM2Qk\",\"topic_name\":\"_confluent-controlcenter-7-9-0-1-group-stream-extension-rekey\",\"is_internal\":false,\"replication_factor\":1,\"partitions_count\":1,\"partitions\":{\"related\":\"http://rest-proxy:8082/v3/clusters/MkU3OEVBNTcwNTJENDM2Qk/topics/_confluent-controlcenter-7-9-0-1-group-stream-extension-rekey/partitions\"},\"configs\":{\"related\":\"http://rest-proxy:8082/v3/clusters/MkU3OEVBNTcwNTJENDM2Qk/topics/_confluent-controlcenter-7-9-0-1-group-stream-extension-rekey/configs\"},\"partition_reassignments\":{\"related\":\"http://rest-proxy:8082/v3/clusters/MkU3OEVBNTcwNTJENDM2Qk/topics/_confluent-controlcenter-7-9-0-1-group-stream-extension-rekey/partitions/-/reassignment\"},\"authorized_operations\":[]},{\"kind\":\"KafkaTopic\",\"metadata\":{\"self\":\"http://rest-proxy:8082/v3/clusters/MkU3OEVBNTcwNTJENDM2Qk/topics/_confluent-controlcenter-7-9-0-1-metrics-trigger-measurement-rekey\",\"resource_name\":\"crn:///kafka=MkU3OEVBNTcwNTJENDM2Qk/topic=_confluent-controlcenter-7-9-0-1-metrics-trigger-measurement-rekey\"},\"cluster_id\":\"MkU3OEVBNTcwNTJENDM2Qk\",\"topic_name\":\"_confluent-controlcenter-7-9-0-1-metrics-trigger-measurement-rekey\",\"is_internal\":false,\"replication_factor\":1,\"partitions_count\":1,\"partitions\":{\"related\":\"http://rest-proxy:8082/v3/clusters/MkU3OEVBNTcwNTJENDM2Qk/topics/_confluent-controlcenter-7-9-0-1-metrics-trigger-measurement-rekey/partitions\"},\"configs\":{\"related\":\"http://rest-proxy:8082/v3/clusters/MkU3OEVBNTcwNTJENDM2Qk/topics/_confluent-controlcenter-7-9-0-1-metrics-trigger-measurement-rekey/configs\"},\"partition_reassignments\":{\"related\":\"http://rest-proxy:8082/v3/clusters/MkU3OEVBNTcwNTJENDM2Qk/topics/_confluent-controlcenter-7-9-0-1-metrics-trigger-measurement-rekey/partitions/-/reassignment\"},\"authorized_operations\":[]},{\"kind\":\"KafkaTopic\",\"metadata\":{\"self\":\"http://rest-proxy:8082/v3/clusters/MkU3OEVBNTcwNTJENDM2Qk/topics/_confluent-controlcenter-7-9-0-1-monitoring-aggregate-rekey-store-changelog\",\"resource_name\":\"crn:///kafka=MkU3OEVBNTcwNTJENDM2Qk/topic=_confluent-controlcenter-7-9-0-1-monitoring-aggregate-rekey-store-changelog\"},\"cluster_id\":\"MkU3OEVBNTcwNTJENDM2Qk\",\"topic_name\":\"_confluent-controlcenter-7-9-0-1-monitoring-aggregate-rekey-store-changelog\",\"is_internal\":false,\"replication_factor\":1,\"partitions_count\":1,\"partitions\":{\"related\":\"http://rest-proxy:8082/v3/clusters/MkU3OEVBNTcwNTJENDM2Qk/topics/_confluent-controlcenter-7-9-0-1-monitoring-aggregate-rekey-store-changelog/partitions\"},\"configs\":{\"related\":\"http://rest-proxy:8082/v3/clusters/MkU3OEVBNTcwNTJENDM2Qk/topics/_confluent-controlcenter-7-9-0-1-monitoring-aggregate-rekey-store-changelog/configs\"},\"partition_reassignments\":{\"related\":\"http://rest-proxy:8082/v3/clusters/MkU3OEVBNTcwNTJENDM2Qk/topics/_confluent-controlcenter-7-9-0-1-monitoring-aggregate-rekey-store-changelog/partitions/-/reassignment\"},\"authorized_operations\":[]},{\"kind\":\"KafkaTopic\",\"metadata\":{\"self\":\"http://rest-proxy:8082/v3/clusters/MkU3OEVBNTcwNTJENDM2Qk/topics/_confluent-controlcenter-7-9-0-1-monitoring-aggregate-rekey-store-repartition\",\"resource_name\":\"crn:///kafka=MkU3OEVBNTcwNTJENDM2Qk/topic=_confluent-controlcenter-7-9-0-1-monitoring-aggregate-rekey-store-repartition\"},\"cluster_id\":\"MkU3OEVBNTcwNTJENDM2Qk\",\"topic_name\":\"_confluent-controlcenter-7-9-0-1-monitoring-aggregate-rekey-store-repartition\",\"is_internal\":false,\"replication_factor\":1,\"partitions_count\":1,\"partitions\":{\"related\":\"http://rest-proxy:8082/v3/clusters/MkU3OEVBNTcwNTJENDM2Qk/topics/_confluent-controlcenter-7-9-0-1-monitoring-aggregate-rekey-store-repartition/partitions\"},\"configs\":{\"related\":\"http://rest-proxy:8082/v3/clusters/MkU3OEVBNTcwNTJENDM2Qk/topics/_confluent-controlcenter-7-9-0-1-monitoring-aggregate-rekey-store-repartition/configs\"},\"partition_reassignments\":{\"related\":\"http://rest-proxy:8082/v3/clusters/MkU3OEVBNTcwNTJENDM2Qk/topics/_confluent-controlcenter-7-9-0-1-monitoring-aggregate-rekey-store-repartition/partitions/-/reassignment\"},\"authorized_operations\":[]},{\"kind\":\"KafkaTopic\",\"metadata\":{\"self\":\"http://rest-proxy:8082/v3/clusters/MkU3OEVBNTcwNTJENDM2Qk/topics/_confluent-controlcenter-7-9-0-1-monitoring-message-rekey-store\",\"resource_name\":\"crn:///kafka=MkU3OEVBNTcwNTJENDM2Qk/topic=_confluent-controlcenter-7-9-0-1-monitoring-message-rekey-store\"},\"cluster_id\":\"MkU3OEVBNTcwNTJENDM2Qk\",\"topic_name\":\"_confluent-controlcenter-7-9-0-1-monitoring-message-rekey-store\",\"is_internal\":false,\"replication_factor\":1,\"partitions_count\":1,\"partitions\":{\"related\":\"http://rest-proxy:8082/v3/clusters/MkU3OEVBNTcwNTJENDM2Qk/topics/_confluent-controlcenter-7-9-0-1-monitoring-message-rekey-store/partitions\"},\"configs\":{\"related\":\"http://rest-proxy:8082/v3/clusters/MkU3OEVBNTcwNTJENDM2Qk/topics/_confluent-controlcenter-7-9-0-1-monitoring-message-rekey-store/configs\"},\"partition_reassignments\":{\"related\":\"http://rest-proxy:8082/v3/clusters/MkU3OEVBNTcwNTJENDM2Qk/topics/_confluent-controlcenter-7-9-0-1-monitoring-message-rekey-store/partitions/-/reassignment\"},\"authorized_operations\":[]},{\"kind\":\"KafkaTopic\",\"metadata\":{\"self\":\"http://rest-proxy:8082/v3/clusters/MkU3OEVBNTcwNTJENDM2Qk/topics/_confluent-controlcenter-7-9-0-1-monitoring-trigger-event-rekey\",\"resource_name\":\"crn:///kafka=MkU3OEVBNTcwNTJENDM2Qk/topic=_confluent-controlcenter-7-9-0-1-monitoring-trigger-event-rekey\"},\"cluster_id\":\"MkU3OEVBNTcwNTJENDM2Qk\",\"topic_name\":\"_confluent-controlcenter-7-9-0-1-monitoring-trigger-event-rekey\",\"is_internal\":false,\"replication_factor\":1,\"partitions_count\":1,\"partitions\":{\"related\":\"http://rest-proxy:8082/v3/clusters/MkU3OEVBNTcwNTJENDM2Qk/topics/_confluent-controlcenter-7-9-0-1-monitoring-trigger-event-rekey/partitions\"},\"configs\":{\"related\":\"http://rest-proxy:8082/v3/clusters/MkU3OEVBNTcwNTJENDM2Qk/topics/_confluent-controlcenter-7-9-0-1-monitoring-trigger-event-rekey/configs\"},\"partition_reassignments\":{\"related\":\"http://rest-proxy:8082/v3/clusters/MkU3OEVBNTcwNTJENDM2Qk/topics/_confluent-controlcenter-7-9-0-1-monitoring-trigger-event-rekey/partitions/-/reassignment\"},\"authorized_operations\":[]},{\"kind\":\"KafkaTopic\",\"metadata\":{\"self\":\"http://rest-proxy:8082/v3/clusters/MkU3OEVBNTcwNTJENDM2Qk/topics/_confluent-ksql-default__command_topic\",\"resource_name\":\"crn:///kafka=MkU3OEVBNTcwNTJENDM2Qk/topic=_confluent-ksql-default__command_topic\"},\"cluster_id\":\"MkU3OEVBNTcwNTJENDM2Qk\",\"topic_name\":\"_confluent-ksql-default__command_topic\",\"is_internal\":false,\"replication_factor\":1,\"partitions_count\":1,\"partitions\":{\"related\":\"http://rest-proxy:8082/v3/clusters/MkU3OEVBNTcwNTJENDM2Qk/topics/_confluent-ksql-default__command_topic/partitions\"},\"configs\":{\"related\":\"http://rest-proxy:8082/v3/clusters/MkU3OEVBNTcwNTJENDM2Qk/topics/_confluent-ksql-default__command_topic/configs\"},\"partition_reassignments\":{\"related\":\"http://rest-proxy:8082/v3/clusters/MkU3OEVBNTcwNTJENDM2Qk/topics/_confluent-ksql-default__command_topic/partitions/-/reassignment\"},\"authorized_operations\":[]},{\"kind\":\"KafkaTopic\",\"metadata\":{\"self\":\"http://rest-proxy:8082/v3/clusters/MkU3OEVBNTcwNTJENDM2Qk/topics/_confluent-metrics\",\"resource_name\":\"crn:///kafka=MkU3OEVBNTcwNTJENDM2Qk/topic=_confluent-metrics\"},\"cluster_id\":\"MkU3OEVBNTcwNTJENDM2Qk\",\"topic_name\":\"_confluent-metrics\",\"is_internal\":false,\"replication_factor\":1,\"partitions_count\":12,\"partitions\":{\"related\":\"http://rest-proxy:8082/v3/clusters/MkU3OEVBNTcwNTJENDM2Qk/topics/_confluent-metrics/partitions\"},\"configs\":{\"related\":\"http://rest-proxy:8082/v3/clusters/MkU3OEVBNTcwNTJENDM2Qk/topics/_confluent-metrics/configs\"},\"partition_reassignments\":{\"related\":\"http://rest-proxy:8082/v3/clusters/MkU3OEVBNTcwNTJENDM2Qk/topics/_confluent-metrics/partitions/-/reassignment\"},\"authorized_operations\":[]},{\"kind\":\"KafkaTopic\",\"metadata\":{\"self\":\"http://rest-proxy:8082/v3/clusters/MkU3OEVBNTcwNTJENDM2Qk/topics/_confluent-monitoring\",\"resource_name\":\"crn:///kafka=MkU3OEVBNTcwNTJENDM2Qk/topic=_confluent-monitoring\"},\"cluster_id\":\"MkU3OEVBNTcwNTJENDM2Qk\",\"topic_name\":\"_confluent-monitoring\",\"is_internal\":false,\"replication_factor\":1,\"partitions_count\":1,\"partitions\":{\"related\":\"http://rest-proxy:8082/v3/clusters/MkU3OEVBNTcwNTJENDM2Qk/topics/_confluent-monitoring/partitions\"},\"configs\":{\"related\":\"http://rest-proxy:8082/v3/clusters/MkU3OEVBNTcwNTJENDM2Qk/topics/_confluent-monitoring/configs\"},\"partition_reassignments\":{\"related\":\"http://rest-proxy:8082/v3/clusters/MkU3OEVBNTcwNTJENDM2Qk/topics/_confluent-monitoring/partitions/-/reassignment\"},\"authorized_operations\":[]},{\"kind\":\"KafkaTopic\",\"metadata\":{\"self\":\"http://rest-proxy:8082/v3/clusters/MkU3OEVBNTcwNTJENDM2Qk/topics/_schemas\",\"resource_name\":\"crn:///kafka=MkU3OEVBNTcwNTJENDM2Qk/topic=_schemas\"},\"cluster_id\":\"MkU3OEVBNTcwNTJENDM2Qk\",\"topic_name\":\"_schemas\",\"is_internal\":false,\"replication_factor\":1,\"partitions_count\":1,\"partitions\":{\"related\":\"http://rest-proxy:8082/v3/clusters/MkU3OEVBNTcwNTJENDM2Qk/topics/_schemas/partitions\"},\"configs\":{\"related\":\"http://rest-proxy:8082/v3/clusters/MkU3OEVBNTcwNTJENDM2Qk/topics/_schemas/configs\"},\"partition_reassignments\":{\"related\":\"http://rest-proxy:8082/v3/clusters/MkU3OEVBNTcwNTJENDM2Qk/topics/_schemas/partitions/-/reassignment\"},\"authorized_operations\":[]},{\"kind\":\"KafkaTopic\",\"metadata\":{\"self\":\"http://rest-proxy:8082/v3/clusters/MkU3OEVBNTcwNTJENDM2Qk/topics/default_ksql_processing_log\",\"resource_name\":\"crn:///kafka=MkU3OEVBNTcwNTJENDM2Qk/topic=default_ksql_processing_log\"},\"cluster_id\":\"MkU3OEVBNTcwNTJENDM2Qk\",\"topic_name\":\"default_ksql_processing_log\",\"is_internal\":false,\"replication_factor\":1,\"partitions_count\":1,\"partitions\":{\"related\":\"http://rest-proxy:8082/v3/clusters/MkU3OEVBNTcwNTJENDM2Qk/topics/default_ksql_processing_log/partitions\"},\"configs\":{\"related\":\"http://rest-proxy:8082/v3/clusters/MkU3OEVBNTcwNTJENDM2Qk/topics/default_ksql_processing_log/configs\"},\"partition_reassignments\":{\"related\":\"http://rest-proxy:8082/v3/clusters/MkU3OEVBNTcwNTJENDM2Qk/topics/default_ksql_processing_log/partitions/-/reassignment\"},\"authorized_operations\":[]},{\"kind\":\"KafkaTopic\",\"metadata\":{\"self\":\"http://rest-proxy:8082/v3/clusters/MkU3OEVBNTcwNTJENDM2Qk/topics/docker-connect-configs\",\"resource_name\":\"crn:///kafka=MkU3OEVBNTcwNTJENDM2Qk/topic=docker-connect-configs\"},\"cluster_id\":\"MkU3OEVBNTcwNTJENDM2Qk\",\"topic_name\":\"docker-connect-configs\",\"is_internal\":false,\"replication_factor\":1,\"partitions_count\":1,\"partitions\":{\"related\":\"http://rest-proxy:8082/v3/clusters/MkU3OEVBNTcwNTJENDM2Qk/topics/docker-connect-configs/partitions\"},\"configs\":{\"related\":\"http://rest-proxy:8082/v3/clusters/MkU3OEVBNTcwNTJENDM2Qk/topics/docker-connect-configs/configs\"},\"partition_reassignments\":{\"related\":\"http://rest-proxy:8082/v3/clusters/MkU3OEVBNTcwNTJENDM2Qk/topics/docker-connect-configs/partitions/-/reassignment\"},\"authorized_operations\":[]},{\"kind\":\"KafkaTopic\",\"metadata\":{\"self\":\"http://rest-proxy:8082/v3/clusters/MkU3OEVBNTcwNTJENDM2Qk/topics/docker-connect-offsets\",\"resource_name\":\"crn:///kafka=MkU3OEVBNTcwNTJENDM2Qk/topic=docker-connect-offsets\"},\"cluster_id\":\"MkU3OEVBNTcwNTJENDM2Qk\",\"topic_name\":\"docker-connect-offsets\",\"is_internal\":false,\"replication_factor\":1,\"partitions_count\":25,\"partitions\":{\"related\":\"http://rest-proxy:8082/v3/clusters/MkU3OEVBNTcwNTJENDM2Qk/topics/docker-connect-offsets/partitions\"},\"configs\":{\"related\":\"http://rest-proxy:8082/v3/clusters/MkU3OEVBNTcwNTJENDM2Qk/topics/docker-connect-offsets/configs\"},\"partition_reassignments\":{\"related\":\"http://rest-proxy:8082/v3/clusters/MkU3OEVBNTcwNTJENDM2Qk/topics/docker-connect-offsets/partitions/-/reassignment\"},\"authorized_operations\":[]},{\"kind\":\"KafkaTopic\",\"metadata\":{\"self\":\"http://rest-proxy:8082/v3/clusters/MkU3OEVBNTcwNTJENDM2Qk/topics/docker-connect-status\",\"resource_name\":\"crn:///kafka=MkU3OEVBNTcwNTJENDM2Qk/topic=docker-connect-status\"},\"cluster_id\":\"MkU3OEVBNTcwNTJENDM2Qk\",\"topic_name\":\"docker-connect-status\",\"is_internal\":false,\"replication_factor\":1,\"partitions_count\":5,\"partitions\":{\"related\":\"http://rest-proxy:8082/v3/clusters/MkU3OEVBNTcwNTJENDM2Qk/topics/docker-connect-status/partitions\"},\"configs\":{\"related\":\"http://rest-proxy:8082/v3/clusters/MkU3OEVBNTcwNTJENDM2Qk/topics/docker-connect-status/configs\"},\"partition_reassignments\":{\"related\":\"http://rest-proxy:8082/v3/clusters/MkU3OEVBNTcwNTJENDM2Qk/topics/docker-connect-status/partitions/-/reassignment\"},\"authorized_operations\":[]},{\"kind\":\"KafkaTopic\",\"metadata\":{\"self\":\"http://rest-proxy:8082/v3/clusters/MkU3OEVBNTcwNTJENDM2Qk/topics/topic_avro2\",\"resource_name\":\"crn:///kafka=MkU3OEVBNTcwNTJENDM2Qk/topic=topic_avro2\"},\"cluster_id\":\"MkU3OEVBNTcwNTJENDM2Qk\",\"topic_name\":\"topic_avro2\",\"is_internal\":false,\"replication_factor\":1,\"partitions_count\":1,\"partitions\":{\"related\":\"http://rest-proxy:8082/v3/clusters/MkU3OEVBNTcwNTJENDM2Qk/topics/topic_avro2/partitions\"},\"configs\":{\"related\":\"http://rest-proxy:8082/v3/clusters/MkU3OEVBNTcwNTJENDM2Qk/topics/topic_avro2/configs\"},\"partition_reassignments\":{\"related\":\"http://rest-proxy:8082/v3/clusters/MkU3OEVBNTcwNTJENDM2Qk/topics/topic_avro2/partitions/-/reassignment\"},\"authorized_operations\":[]},{\"kind\":\"KafkaTopic\",\"metadata\":{\"self\":\"http://rest-proxy:8082/v3/clusters/MkU3OEVBNTcwNTJENDM2Qk/topics/topic_join\",\"resource_name\":\"crn:///kafka=MkU3OEVBNTcwNTJENDM2Qk/topic=topic_join\"},\"cluster_id\":\"MkU3OEVBNTcwNTJENDM2Qk\",\"topic_name\":\"topic_join\",\"is_internal\":false,\"replication_factor\":1,\"partitions_count\":1,\"partitions\":{\"related\":\"http://rest-proxy:8082/v3/clusters/MkU3OEVBNTcwNTJENDM2Qk/topics/topic_join/partitions\"},\"configs\":{\"related\":\"http://rest-proxy:8082/v3/clusters/MkU3OEVBNTcwNTJENDM2Qk/topics/topic_join/configs\"},\"partition_reassignments\":{\"related\":\"http://rest-proxy:8082/v3/clusters/MkU3OEVBNTcwNTJENDM2Qk/topics/topic_join/partitions/-/reassignment\"},\"authorized_operations\":[]},{\"kind\":\"KafkaTopic\",\"metadata\":{\"self\":\"http://rest-proxy:8082/v3/clusters/MkU3OEVBNTcwNTJENDM2Qk/topics/topic_json2\",\"resource_name\":\"crn:///kafka=MkU3OEVBNTcwNTJENDM2Qk/topic=topic_json2\"},\"cluster_id\":\"MkU3OEVBNTcwNTJENDM2Qk\",\"topic_name\":\"topic_json2\",\"is_internal\":false,\"replication_factor\":1,\"partitions_count\":1,\"partitions\":{\"related\":\"http://rest-proxy:8082/v3/clusters/MkU3OEVBNTcwNTJENDM2Qk/topics/topic_json2/partitions\"},\"configs\":{\"related\":\"http://rest-proxy:8082/v3/clusters/MkU3OEVBNTcwNTJENDM2Qk/topics/topic_json2/configs\"},\"partition_reassignments\":{\"related\":\"http://rest-proxy:8082/v3/clusters/MkU3OEVBNTcwNTJENDM2Qk/topics/topic_json2/partitions/-/reassignment\"},\"authorized_operations\":[]}]}\n",
      "\n"
     ]
    },
    {
     "data": {
      "text/plain": [
       "['_confluent-command',\n",
       " '_confluent-controlcenter-7-9-0-1-AlertHistoryStore-changelog',\n",
       " '_confluent-controlcenter-7-9-0-1-AlertHistoryStore-repartition',\n",
       " '_confluent-controlcenter-7-9-0-1-Group-ONE_MINUTE-changelog',\n",
       " '_confluent-controlcenter-7-9-0-1-Group-ONE_MINUTE-repartition',\n",
       " '_confluent-controlcenter-7-9-0-1-Group-THREE_HOURS-changelog',\n",
       " '_confluent-controlcenter-7-9-0-1-Group-THREE_HOURS-repartition',\n",
       " '_confluent-controlcenter-7-9-0-1-KSTREAM-OUTEROTHER-0000000106-store-changelog',\n",
       " '_confluent-controlcenter-7-9-0-1-KSTREAM-OUTEROTHER-0000000106-store-repartition',\n",
       " '_confluent-controlcenter-7-9-0-1-KSTREAM-OUTERTHIS-0000000105-store-changelog',\n",
       " '_confluent-controlcenter-7-9-0-1-KSTREAM-OUTERTHIS-0000000105-store-repartition',\n",
       " '_confluent-controlcenter-7-9-0-1-MetricsAggregateStore-changelog',\n",
       " '_confluent-controlcenter-7-9-0-1-MetricsAggregateStore-repartition',\n",
       " '_confluent-controlcenter-7-9-0-1-MonitoringMessageAggregatorWindows-ONE_MINUTE-changelog',\n",
       " '_confluent-controlcenter-7-9-0-1-MonitoringMessageAggregatorWindows-ONE_MINUTE-repartition',\n",
       " '_confluent-controlcenter-7-9-0-1-MonitoringMessageAggregatorWindows-THREE_HOURS-changelog',\n",
       " '_confluent-controlcenter-7-9-0-1-MonitoringMessageAggregatorWindows-THREE_HOURS-repartition',\n",
       " '_confluent-controlcenter-7-9-0-1-MonitoringStream-ONE_MINUTE-changelog',\n",
       " '_confluent-controlcenter-7-9-0-1-MonitoringStream-ONE_MINUTE-repartition',\n",
       " '_confluent-controlcenter-7-9-0-1-MonitoringStream-THREE_HOURS-changelog',\n",
       " '_confluent-controlcenter-7-9-0-1-MonitoringStream-THREE_HOURS-repartition',\n",
       " '_confluent-controlcenter-7-9-0-1-MonitoringTriggerStore-changelog',\n",
       " '_confluent-controlcenter-7-9-0-1-MonitoringTriggerStore-repartition',\n",
       " '_confluent-controlcenter-7-9-0-1-MonitoringVerifierStore-changelog',\n",
       " '_confluent-controlcenter-7-9-0-1-MonitoringVerifierStore-repartition',\n",
       " '_confluent-controlcenter-7-9-0-1-TriggerActionsStore-changelog',\n",
       " '_confluent-controlcenter-7-9-0-1-TriggerActionsStore-repartition',\n",
       " '_confluent-controlcenter-7-9-0-1-TriggerEventsStore-changelog',\n",
       " '_confluent-controlcenter-7-9-0-1-TriggerEventsStore-repartition',\n",
       " '_confluent-controlcenter-7-9-0-1-actual-group-consumption-rekey',\n",
       " '_confluent-controlcenter-7-9-0-1-aggregate-topic-partition-store-changelog',\n",
       " '_confluent-controlcenter-7-9-0-1-aggregate-topic-partition-store-repartition',\n",
       " '_confluent-controlcenter-7-9-0-1-aggregatedTopicPartitionTableWindows-ONE_MINUTE-changelog',\n",
       " '_confluent-controlcenter-7-9-0-1-aggregatedTopicPartitionTableWindows-ONE_MINUTE-repartition',\n",
       " '_confluent-controlcenter-7-9-0-1-aggregatedTopicPartitionTableWindows-THREE_HOURS-changelog',\n",
       " '_confluent-controlcenter-7-9-0-1-aggregatedTopicPartitionTableWindows-THREE_HOURS-repartition',\n",
       " '_confluent-controlcenter-7-9-0-1-cluster-rekey',\n",
       " '_confluent-controlcenter-7-9-0-1-expected-group-consumption-rekey',\n",
       " '_confluent-controlcenter-7-9-0-1-group-aggregate-store-ONE_MINUTE-changelog',\n",
       " '_confluent-controlcenter-7-9-0-1-group-aggregate-store-ONE_MINUTE-repartition',\n",
       " '_confluent-controlcenter-7-9-0-1-group-aggregate-store-THREE_HOURS-changelog',\n",
       " '_confluent-controlcenter-7-9-0-1-group-aggregate-store-THREE_HOURS-repartition',\n",
       " '_confluent-controlcenter-7-9-0-1-group-stream-extension-rekey',\n",
       " '_confluent-controlcenter-7-9-0-1-metrics-trigger-measurement-rekey',\n",
       " '_confluent-controlcenter-7-9-0-1-monitoring-aggregate-rekey-store-changelog',\n",
       " '_confluent-controlcenter-7-9-0-1-monitoring-aggregate-rekey-store-repartition',\n",
       " '_confluent-controlcenter-7-9-0-1-monitoring-message-rekey-store',\n",
       " '_confluent-controlcenter-7-9-0-1-monitoring-trigger-event-rekey',\n",
       " '_confluent-ksql-default__command_topic',\n",
       " '_confluent-metrics',\n",
       " '_confluent-monitoring',\n",
       " '_schemas',\n",
       " 'default_ksql_processing_log',\n",
       " 'docker-connect-configs',\n",
       " 'docker-connect-offsets',\n",
       " 'docker-connect-status',\n",
       " 'topic_avro2',\n",
       " 'topic_join',\n",
       " 'topic_json2']"
      ]
     },
     "execution_count": 48,
     "metadata": {},
     "output_type": "execute_result"
    }
   ],
   "source": [
    "rl.verbose(2)\n",
    "rl.ls()"
   ]
  },
  {
   "cell_type": "markdown",
   "metadata": {},
   "source": [
    "Really all the commands that you have seen above also work via REST now. E.g. you can produce to a topic as before..."
   ]
  },
  {
   "cell_type": "code",
   "execution_count": null,
   "metadata": {},
   "outputs": [],
   "source": [
    "t = \"topic_rest_proxy\"\n",
    "\n",
    "pr = rl.producer(t)\n",
    "pr.produce({\"bla\": 123}, key=\"123\")\n",
    "pr.produce({\"bla\": 456}, key=\"456\")\n",
    "pr.produce({\"bla\": 789}, key=\"789\")\n",
    "pr.close()"
   ]
  },
  {
   "cell_type": "markdown",
   "metadata": {},
   "source": [
    "And do a `cat`:"
   ]
  },
  {
   "cell_type": "code",
   "execution_count": null,
   "metadata": {},
   "outputs": [],
   "source": [
    "rl.cat(t, key_type=\"json\")"
   ]
  },
  {
   "cell_type": "markdown",
   "metadata": {},
   "source": [
    "## Kafka Backups incl. Kafka Emulation"
   ]
  },
  {
   "cell_type": "markdown",
   "metadata": {},
   "source": [
    "Kafi has built-in \"Kafka Emulation\". That is useful e.g. for backing up topics to local disk, and replaying them back 1:1 back to Kafka."
   ]
  },
  {
   "cell_type": "markdown",
   "metadata": {},
   "source": [
    "Here, we create a `Local` object that points to \"Kafka emulation\" our local hard disk, and backup a topic from Confluent Cloud to it.\n"
   ]
  },
  {
   "cell_type": "code",
   "execution_count": 2,
   "metadata": {},
   "outputs": [
    {
     "data": {
      "text/plain": [
       "(3, 3)"
      ]
     },
     "execution_count": 2,
     "metadata": {},
     "output_type": "execute_result"
    }
   ],
   "source": [
    "from kafi.kafi import *\n",
    "cc = Cluster(\"ccloud\")\n",
    "l = Local(\"local\")\n",
    "\n",
    "t = \"topic_foldl\"\n",
    "\n",
    "cc.cp(t, l, t)"
   ]
  },
  {
   "cell_type": "markdown",
   "metadata": {},
   "source": [
    "Let's check out whether the topic has landed on our \"Kafka Emulation\":"
   ]
  },
  {
   "cell_type": "code",
   "execution_count": 3,
   "metadata": {},
   "outputs": [
    {
     "data": {
      "text/plain": [
       "{'topic_foldl': 3}"
      ]
     },
     "execution_count": 3,
     "metadata": {},
     "output_type": "execute_result"
    }
   ],
   "source": [
    "l.l()"
   ]
  },
  {
   "cell_type": "markdown",
   "metadata": {},
   "source": [
    "Cool. Let's see it:"
   ]
  },
  {
   "cell_type": "code",
   "execution_count": 4,
   "metadata": {},
   "outputs": [
    {
     "data": {
      "text/plain": [
       "[{'topic': 'topic_foldl',\n",
       "  'value': {'sum': 123},\n",
       "  'key': '123',\n",
       "  'timestamp': (1, 1742385778688),\n",
       "  'headers': None,\n",
       "  'partition': 0,\n",
       "  'offset': 0},\n",
       " {'topic': 'topic_foldl',\n",
       "  'value': {'sum': 579},\n",
       "  'key': '456',\n",
       "  'timestamp': (1, 1742385778688),\n",
       "  'headers': None,\n",
       "  'partition': 0,\n",
       "  'offset': 1},\n",
       " {'topic': 'topic_foldl',\n",
       "  'value': {'sum': 1368},\n",
       "  'key': '789',\n",
       "  'timestamp': (1, 1742385778688),\n",
       "  'headers': None,\n",
       "  'partition': 0,\n",
       "  'offset': 2}]"
      ]
     },
     "execution_count": 4,
     "metadata": {},
     "output_type": "execute_result"
    }
   ],
   "source": [
    "l.cat(t)"
   ]
  },
  {
   "cell_type": "markdown",
   "metadata": {},
   "source": [
    "And now, since we have read it, there should be an \"emulated\" consumer group as well, no?"
   ]
  },
  {
   "cell_type": "code",
   "execution_count": 5,
   "metadata": {},
   "outputs": [
    {
     "data": {
      "text/plain": [
       "['1742385801143']"
      ]
     },
     "execution_count": 5,
     "metadata": {},
     "output_type": "execute_result"
    }
   ],
   "source": [
    "l.gls()"
   ]
  },
  {
   "cell_type": "code",
   "execution_count": 6,
   "metadata": {},
   "outputs": [
    {
     "data": {
      "text/plain": [
       "{'1742385801143': {'group_id': '1742385801143',\n",
       "  'is_simple_consumer_group': False,\n",
       "  'partition_assignor': 'range',\n",
       "  'state': 'empty'}}"
      ]
     },
     "execution_count": 6,
     "metadata": {},
     "output_type": "execute_result"
    }
   ],
   "source": [
    "l.describe_groups()\n"
   ]
  },
  {
   "cell_type": "markdown",
   "metadata": {},
   "source": [
    "How does this look like under the covers? Let's see."
   ]
  },
  {
   "cell_type": "markdown",
   "metadata": {},
   "source": [
    "But Kafi doesn't only support local disk here. You can just as well use Kafi's direct Azure Blob Storage support, or, as we will show, S3."
   ]
  },
  {
   "cell_type": "code",
   "execution_count": 7,
   "metadata": {},
   "outputs": [
    {
     "data": {
      "text/plain": [
       "[]"
      ]
     },
     "execution_count": 7,
     "metadata": {},
     "output_type": "execute_result"
    }
   ],
   "source": [
    "s = S3(\"local\")\n",
    "s.ls()\n"
   ]
  },
  {
   "cell_type": "markdown",
   "metadata": {},
   "source": [
    "Still empty. So let's copy a topic from somewhere (e.g. our local Kafka cluster) to S3 (local MinIO)."
   ]
  },
  {
   "cell_type": "code",
   "execution_count": 9,
   "metadata": {},
   "outputs": [
    {
     "data": {
      "text/plain": [
       "(3, 3)"
      ]
     },
     "execution_count": 9,
     "metadata": {},
     "output_type": "execute_result"
    }
   ],
   "source": [
    "cl = Cluster(\"local\")\n",
    "cc = Cluster(\"ccloud\")\n",
    "\n",
    "t = \"topic_json2\"\n",
    "\n",
    "cl.cp(t, s, t)"
   ]
  },
  {
   "cell_type": "markdown",
   "metadata": {},
   "source": [
    "...and?"
   ]
  },
  {
   "cell_type": "code",
   "execution_count": 10,
   "metadata": {},
   "outputs": [
    {
     "data": {
      "text/plain": [
       "{'topic_json2': 3}"
      ]
     },
     "execution_count": 10,
     "metadata": {},
     "output_type": "execute_result"
    }
   ],
   "source": [
    "s.l()"
   ]
  },
  {
   "cell_type": "markdown",
   "metadata": {},
   "source": [
    "One more `cat`, now reading from S3:"
   ]
  },
  {
   "cell_type": "code",
   "execution_count": 11,
   "metadata": {},
   "outputs": [
    {
     "data": {
      "text/plain": [
       "[{'topic': 'topic_json2',\n",
       "  'value': {'bla': 123},\n",
       "  'key': '123',\n",
       "  'timestamp': (1, 1742385971738),\n",
       "  'headers': None,\n",
       "  'partition': 0,\n",
       "  'offset': 0},\n",
       " {'topic': 'topic_json2',\n",
       "  'value': {'bla': 456},\n",
       "  'key': '456',\n",
       "  'timestamp': (1, 1742385971738),\n",
       "  'headers': None,\n",
       "  'partition': 0,\n",
       "  'offset': 1},\n",
       " {'topic': 'topic_json2',\n",
       "  'value': {'bla': 789},\n",
       "  'key': '789',\n",
       "  'timestamp': (1, 1742385971738),\n",
       "  'headers': None,\n",
       "  'partition': 0,\n",
       "  'offset': 2}]"
      ]
     },
     "execution_count": 11,
     "metadata": {},
     "output_type": "execute_result"
    }
   ],
   "source": [
    "s.cat(t)"
   ]
  },
  {
   "cell_type": "markdown",
   "metadata": {},
   "source": [
    "Let's check this out in the MinIO UI as well..."
   ]
  },
  {
   "cell_type": "markdown",
   "metadata": {},
   "source": [
    "...and lastly, let's copy back the topic from local S3 \"Kafka Emulation\" to Confluent Cloud."
   ]
  },
  {
   "cell_type": "code",
   "execution_count": null,
   "metadata": {},
   "outputs": [],
   "source": [
    "t7 = \"topic_json_from_s3\"\n",
    "\n",
    "cc.touch(t7)\n",
    "\n",
    "s.cp(t, cc, t7)"
   ]
  },
  {
   "cell_type": "markdown",
   "metadata": {},
   "source": [
    "## Building a Bridge from Kafka to Pandas Dataframes and Files"
   ]
  },
  {
   "cell_type": "markdown",
   "metadata": {},
   "source": [
    "We are at the end, oh no, one more thing.\n",
    "\n",
    "Kafi's name doesn't only mean \"coffee\" in Swiss German, but it actually means \"*Ka*fka\" and \"*Fi*les\".\n",
    "\n",
    "In this sense, you can not only use Kafi for doing backups and play them back to Kafka.\n"
   ]
  },
  {
   "cell_type": "markdown",
   "metadata": {},
   "source": [
    "What Kafi can do, is e.g. copy a topic into a Pandas dataframe."
   ]
  },
  {
   "cell_type": "code",
   "execution_count": 12,
   "metadata": {},
   "outputs": [
    {
     "data": {
      "text/html": [
       "<div>\n",
       "<style scoped>\n",
       "    .dataframe tbody tr th:only-of-type {\n",
       "        vertical-align: middle;\n",
       "    }\n",
       "\n",
       "    .dataframe tbody tr th {\n",
       "        vertical-align: top;\n",
       "    }\n",
       "\n",
       "    .dataframe thead th {\n",
       "        text-align: right;\n",
       "    }\n",
       "</style>\n",
       "<table border=\"1\" class=\"dataframe\">\n",
       "  <thead>\n",
       "    <tr style=\"text-align: right;\">\n",
       "      <th></th>\n",
       "      <th>bla</th>\n",
       "    </tr>\n",
       "  </thead>\n",
       "  <tbody>\n",
       "    <tr>\n",
       "      <th>0</th>\n",
       "      <td>123</td>\n",
       "    </tr>\n",
       "    <tr>\n",
       "      <th>1</th>\n",
       "      <td>456</td>\n",
       "    </tr>\n",
       "    <tr>\n",
       "      <th>2</th>\n",
       "      <td>789</td>\n",
       "    </tr>\n",
       "  </tbody>\n",
       "</table>\n",
       "</div>"
      ],
      "text/plain": [
       "   bla\n",
       "0  123\n",
       "1  456\n",
       "2  789"
      ]
     },
     "execution_count": 12,
     "metadata": {},
     "output_type": "execute_result"
    }
   ],
   "source": [
    "df = cl.topic_to_df(t)\n",
    "df"
   ]
  },
  {
   "cell_type": "markdown",
   "metadata": {},
   "source": [
    "And back to Kafka..."
   ]
  },
  {
   "cell_type": "code",
   "execution_count": 13,
   "metadata": {},
   "outputs": [
    {
     "data": {
      "text/plain": [
       "3"
      ]
     },
     "execution_count": 13,
     "metadata": {},
     "output_type": "execute_result"
    }
   ],
   "source": [
    "tdf = \"topic_df\"\n",
    "\n",
    "cl.df_to_topic(df, tdf)"
   ]
  },
  {
   "cell_type": "markdown",
   "metadata": {},
   "source": [
    "Let's check that out... the keys should be missing as these commands yet only use the value of the messages:"
   ]
  },
  {
   "cell_type": "code",
   "execution_count": 14,
   "metadata": {},
   "outputs": [
    {
     "data": {
      "text/plain": [
       "[{'topic': 'topic_df',\n",
       "  'headers': None,\n",
       "  'partition': 0,\n",
       "  'offset': 0,\n",
       "  'timestamp': (1, 1742386072368),\n",
       "  'key': None,\n",
       "  'value': {'bla': 123}},\n",
       " {'topic': 'topic_df',\n",
       "  'headers': None,\n",
       "  'partition': 0,\n",
       "  'offset': 1,\n",
       "  'timestamp': (1, 1742386072369),\n",
       "  'key': None,\n",
       "  'value': {'bla': 456}},\n",
       " {'topic': 'topic_df',\n",
       "  'headers': None,\n",
       "  'partition': 0,\n",
       "  'offset': 2,\n",
       "  'timestamp': (1, 1742386072369),\n",
       "  'key': None,\n",
       "  'value': {'bla': 789}}]"
      ]
     },
     "execution_count": 14,
     "metadata": {},
     "output_type": "execute_result"
    }
   ],
   "source": [
    "cl.cat(tdf)"
   ]
  },
  {
   "cell_type": "markdown",
   "metadata": {},
   "source": [
    "Once you have `topic_to_df` and `df_to_topic`, it is not a far step to use the support of all kinds of file formats supported of Pandas:\n",
    "* csv\n",
    "* feather\n",
    "* json\n",
    "* orc\n",
    "* parquet\n",
    "* xlsx\n",
    "* xml"
   ]
  },
  {
   "cell_type": "markdown",
   "metadata": {},
   "source": [
    "Hence Kafi also supports direct dumping of a topic to a Parquet file for instance, in this example, from the local Kafka cluster to S3:"
   ]
  },
  {
   "cell_type": "code",
   "execution_count": 15,
   "metadata": {},
   "outputs": [
    {
     "data": {
      "text/plain": [
       "1570"
      ]
     },
     "execution_count": 15,
     "metadata": {},
     "output_type": "execute_result"
    }
   ],
   "source": [
    "s = S3(\"local\")\n",
    "\n",
    "cl.topic_to_file(t, s, \"topic.parquet\")\n"
   ]
  },
  {
   "cell_type": "markdown",
   "metadata": {},
   "source": [
    "Let's check this out in the MinIO UI..."
   ]
  },
  {
   "cell_type": "markdown",
   "metadata": {},
   "source": [
    "Now, we can also copy the topic from e.g. from our local Kafka to an Excel file:"
   ]
  },
  {
   "cell_type": "code",
   "execution_count": 16,
   "metadata": {},
   "outputs": [
    {
     "data": {
      "text/plain": [
       "4954"
      ]
     },
     "execution_count": 16,
     "metadata": {},
     "output_type": "execute_result"
    }
   ],
   "source": [
    "cl.topic_to_file(t, s, \"topic.xlsx\")"
   ]
  },
  {
   "cell_type": "markdown",
   "metadata": {},
   "source": [
    "Let's download and have a look..."
   ]
  },
  {
   "cell_type": "markdown",
   "metadata": {},
   "source": [
    "And, cool thing is, we can go the other way round, too. We can bring back the Excel file on S3 and write it out to a topic on Confluent Cloud..."
   ]
  },
  {
   "cell_type": "code",
   "execution_count": 17,
   "metadata": {},
   "outputs": [
    {
     "data": {
      "text/plain": [
       "3"
      ]
     },
     "execution_count": 17,
     "metadata": {},
     "output_type": "execute_result"
    }
   ],
   "source": [
    "texcel = \"topic_from_excel\"\n",
    "\n",
    "cc.touch(texcel)\n",
    "\n",
    "s.file_to_topic(\"topic.xlsx\", cc, texcel)"
   ]
  },
  {
   "cell_type": "markdown",
   "metadata": {},
   "source": [
    "A final look into the Confluent Cloud UI hopefully shows us that it has worked..."
   ]
  },
  {
   "cell_type": "markdown",
   "metadata": {},
   "source": [
    "So - why don't you just head over to GitHub for the Kafi project and its documentation:\n",
    "https://github.com/xdgrulez/kafi\n",
    "\n",
    "This Jupyter notebook can also be found there, in case you'd like to go through it yourself:\n",
    "https://github.com/xdgrulez/cur25blr"
   ]
  },
  {
   "cell_type": "markdown",
   "metadata": {},
   "source": [
    "<img src=\"pix/thank_you.jpg\" style=\"width: 40%; height: 40%\"/>"
   ]
  }
 ],
 "metadata": {
  "kernelspec": {
   "display_name": "venv",
   "language": "python",
   "name": "python3"
  },
  "language_info": {
   "codemirror_mode": {
    "name": "ipython",
    "version": 3
   },
   "file_extension": ".py",
   "mimetype": "text/x-python",
   "name": "python",
   "nbconvert_exporter": "python",
   "pygments_lexer": "ipython3",
   "version": "3.10.12"
  }
 },
 "nbformat": 4,
 "nbformat_minor": 2
}
